{
 "cells": [
  {
   "cell_type": "code",
   "execution_count": 1,
   "metadata": {
    "collapsed": true,
    "ExecuteTime": {
     "end_time": "2023-07-10T14:22:02.695068Z",
     "start_time": "2023-07-10T14:21:58.128419Z"
    }
   },
   "outputs": [],
   "source": [
    "from sklearn.linear_model import ElasticNet\n",
    "from sklearn.preprocessing import PolynomialFeatures, MinMaxScaler\n",
    "from sklearn.pipeline import Pipeline\n",
    "from sklearn.model_selection import GridSearchCV\n",
    "import pandas as pd\n",
    "from sklearn.model_selection import train_test_split\n",
    "from sklearn.metrics import mean_squared_error, r2_score"
   ]
  },
  {
   "cell_type": "code",
   "execution_count": 2,
   "outputs": [],
   "source": [
    "random_state = 123\n",
    "test_fraction = 0.05\n",
    "cv = 20\n",
    "\n",
    "feature_variables = ['x0', 'x1', 'x2']\n",
    "target_variable = 'z'"
   ],
   "metadata": {
    "collapsed": false,
    "ExecuteTime": {
     "end_time": "2023-07-10T14:22:02.703052Z",
     "start_time": "2023-07-10T14:22:02.696344Z"
    }
   }
  },
  {
   "cell_type": "code",
   "execution_count": 3,
   "outputs": [],
   "source": [
    "data = pd.read_csv('../../data/data.csv')\n",
    "train_data, test_data = train_test_split(data, test_size=test_fraction, random_state=random_state)"
   ],
   "metadata": {
    "collapsed": false,
    "ExecuteTime": {
     "end_time": "2023-07-10T14:22:02.742179Z",
     "start_time": "2023-07-10T14:22:02.704495Z"
    }
   }
  },
  {
   "cell_type": "code",
   "execution_count": 4,
   "outputs": [],
   "source": [
    "param_grid = {\n",
    "    'polynomialfeatures__degree': [1, 2, 3, 4],  # Degrees of polynomial features\n",
    "    'elasticnet__alpha': [0.0001, 0.001, 0.01, 0.1, 1.0, 10.0],  # Regularization parameter\n",
    "    'elasticnet__l1_ratio': [0.1, 0.2, 0.3, 0.4, 0.5, 0.6, 0.7, 0.8, 0.9]  # Mixing parameter for L1 and L2 regularization\n",
    "}"
   ],
   "metadata": {
    "collapsed": false,
    "ExecuteTime": {
     "end_time": "2023-07-10T14:22:02.751740Z",
     "start_time": "2023-07-10T14:22:02.739695Z"
    }
   }
  },
  {
   "cell_type": "code",
   "execution_count": 5,
   "outputs": [],
   "source": [
    "elastic_net = ElasticNet()\n",
    "poly_features = PolynomialFeatures(include_bias=False)\n",
    "scaler = MinMaxScaler()"
   ],
   "metadata": {
    "collapsed": false,
    "ExecuteTime": {
     "end_time": "2023-07-10T14:22:02.756072Z",
     "start_time": "2023-07-10T14:22:02.748686Z"
    }
   }
  },
  {
   "cell_type": "code",
   "execution_count": 6,
   "outputs": [],
   "source": [
    "pipeline = Pipeline([\n",
    "    ('scaler', scaler),\n",
    "    ('polynomialfeatures', poly_features),\n",
    "    ('elasticnet', elastic_net)\n",
    "])"
   ],
   "metadata": {
    "collapsed": false,
    "ExecuteTime": {
     "end_time": "2023-07-10T14:22:05.514302Z",
     "start_time": "2023-07-10T14:22:05.502273Z"
    }
   }
  },
  {
   "cell_type": "code",
   "execution_count": 7,
   "outputs": [],
   "source": [
    "grid_search = GridSearchCV(pipeline, param_grid, cv=cv, scoring='r2')"
   ],
   "metadata": {
    "collapsed": false,
    "ExecuteTime": {
     "end_time": "2023-07-10T14:22:09.857130Z",
     "start_time": "2023-07-10T14:22:09.842369Z"
    }
   }
  },
  {
   "cell_type": "code",
   "execution_count": 8,
   "outputs": [
    {
     "data": {
      "text/plain": "GridSearchCV(cv=20,\n             estimator=Pipeline(steps=[('scaler', MinMaxScaler()),\n                                       ('polynomialfeatures',\n                                        PolynomialFeatures(include_bias=False)),\n                                       ('elasticnet', ElasticNet())]),\n             param_grid={'elasticnet__alpha': [0.0001, 0.001, 0.01, 0.1, 1.0,\n                                               10.0],\n                         'elasticnet__l1_ratio': [0.1, 0.2, 0.3, 0.4, 0.5, 0.6,\n                                                  0.7, 0.8, 0.9],\n                         'polynomialfeatures__degree': [1, 2, 3, 4]},\n             scoring='r2')"
     },
     "execution_count": 8,
     "metadata": {},
     "output_type": "execute_result"
    }
   ],
   "source": [
    "grid_search.fit(train_data[feature_variables], train_data[target_variable])"
   ],
   "metadata": {
    "collapsed": false,
    "ExecuteTime": {
     "end_time": "2023-07-10T14:24:19.920703Z",
     "start_time": "2023-07-10T14:22:12.569920Z"
    }
   }
  },
  {
   "cell_type": "code",
   "execution_count": 9,
   "outputs": [
    {
     "data": {
      "text/plain": "Pipeline(steps=[('scaler', MinMaxScaler()),\n                ('polynomialfeatures',\n                 PolynomialFeatures(degree=4, include_bias=False)),\n                ('elasticnet', ElasticNet(alpha=0.0001, l1_ratio=0.9))])"
     },
     "execution_count": 9,
     "metadata": {},
     "output_type": "execute_result"
    }
   ],
   "source": [
    "grid_search.best_estimator_"
   ],
   "metadata": {
    "collapsed": false,
    "ExecuteTime": {
     "end_time": "2023-07-10T14:24:19.922009Z",
     "start_time": "2023-07-10T14:24:19.919793Z"
    }
   }
  },
  {
   "cell_type": "code",
   "execution_count": 10,
   "outputs": [],
   "source": [
    "best_params = grid_search.best_params_\n",
    "best_score = grid_search.best_score_"
   ],
   "metadata": {
    "collapsed": false,
    "ExecuteTime": {
     "end_time": "2023-07-10T14:24:19.935562Z",
     "start_time": "2023-07-10T14:24:19.923345Z"
    }
   }
  },
  {
   "cell_type": "code",
   "execution_count": 11,
   "outputs": [
    {
     "data": {
      "text/plain": "{'elasticnet__alpha': 0.0001,\n 'elasticnet__l1_ratio': 0.9,\n 'polynomialfeatures__degree': 4}"
     },
     "execution_count": 11,
     "metadata": {},
     "output_type": "execute_result"
    }
   ],
   "source": [
    "best_params"
   ],
   "metadata": {
    "collapsed": false,
    "ExecuteTime": {
     "end_time": "2023-07-10T14:24:20.010456Z",
     "start_time": "2023-07-10T14:24:19.934291Z"
    }
   }
  },
  {
   "cell_type": "code",
   "execution_count": 12,
   "outputs": [
    {
     "data": {
      "text/plain": "0.999996199822782"
     },
     "execution_count": 12,
     "metadata": {},
     "output_type": "execute_result"
    }
   ],
   "source": [
    "best_score"
   ],
   "metadata": {
    "collapsed": false,
    "ExecuteTime": {
     "end_time": "2023-07-10T14:24:20.011207Z",
     "start_time": "2023-07-10T14:24:19.943947Z"
    }
   }
  },
  {
   "cell_type": "code",
   "execution_count": 13,
   "outputs": [
    {
     "data": {
      "text/plain": "0.9999962182988467"
     },
     "execution_count": 13,
     "metadata": {},
     "output_type": "execute_result"
    }
   ],
   "source": [
    "grid_search.best_estimator_.score(train_data[feature_variables], train_data[target_variable])"
   ],
   "metadata": {
    "collapsed": false,
    "ExecuteTime": {
     "end_time": "2023-07-10T14:24:20.011815Z",
     "start_time": "2023-07-10T14:24:19.952958Z"
    }
   }
  },
  {
   "cell_type": "code",
   "execution_count": 14,
   "outputs": [
    {
     "data": {
      "text/plain": "0.9999949240628215"
     },
     "execution_count": 14,
     "metadata": {},
     "output_type": "execute_result"
    }
   ],
   "source": [
    "grid_search.best_estimator_.score(test_data[feature_variables], test_data[target_variable])"
   ],
   "metadata": {
    "collapsed": false,
    "ExecuteTime": {
     "end_time": "2023-07-10T14:24:24.265027Z",
     "start_time": "2023-07-10T14:24:24.243643Z"
    }
   }
  },
  {
   "cell_type": "code",
   "execution_count": 16,
   "outputs": [
    {
     "data": {
      "text/plain": "Pipeline(steps=[('scaler', MinMaxScaler()),\n                ('polynomialfeatures',\n                 PolynomialFeatures(degree=4, include_bias=False)),\n                ('elasticnet', ElasticNet(alpha=0.0001, l1_ratio=0.9))])"
     },
     "execution_count": 16,
     "metadata": {},
     "output_type": "execute_result"
    }
   ],
   "source": [
    "pipeline_new = Pipeline([\n",
    "    ('scaler', MinMaxScaler()),\n",
    "    ('polynomialfeatures', PolynomialFeatures(degree=4, include_bias=False)),\n",
    "    ('elasticnet', ElasticNet(alpha=0.0001, l1_ratio=0.9))\n",
    "])\n",
    "pipeline_new.fit(train_data[feature_variables], train_data[target_variable])"
   ],
   "metadata": {
    "collapsed": false,
    "ExecuteTime": {
     "end_time": "2023-07-10T14:24:44.920923Z",
     "start_time": "2023-07-10T14:24:44.280582Z"
    }
   }
  },
  {
   "cell_type": "code",
   "execution_count": 17,
   "outputs": [
    {
     "data": {
      "text/plain": "0.9999962182988467"
     },
     "execution_count": 17,
     "metadata": {},
     "output_type": "execute_result"
    }
   ],
   "source": [
    "r2_score(train_data[target_variable], pipeline_new.predict(train_data[feature_variables]))"
   ],
   "metadata": {
    "collapsed": false,
    "ExecuteTime": {
     "end_time": "2023-07-10T14:24:47.600607Z",
     "start_time": "2023-07-10T14:24:47.585698Z"
    }
   }
  },
  {
   "cell_type": "code",
   "execution_count": 18,
   "outputs": [
    {
     "data": {
      "text/plain": "0.9999949240628215"
     },
     "execution_count": 18,
     "metadata": {},
     "output_type": "execute_result"
    }
   ],
   "source": [
    "r2_score(test_data[target_variable], pipeline_new.predict(test_data[feature_variables]))"
   ],
   "metadata": {
    "collapsed": false,
    "ExecuteTime": {
     "end_time": "2023-07-10T14:24:48.351372Z",
     "start_time": "2023-07-10T14:24:48.337798Z"
    }
   }
  }
 ],
 "metadata": {
  "kernelspec": {
   "display_name": "Python 3",
   "language": "python",
   "name": "python3"
  },
  "language_info": {
   "codemirror_mode": {
    "name": "ipython",
    "version": 2
   },
   "file_extension": ".py",
   "mimetype": "text/x-python",
   "name": "python",
   "nbconvert_exporter": "python",
   "pygments_lexer": "ipython2",
   "version": "2.7.6"
  }
 },
 "nbformat": 4,
 "nbformat_minor": 0
}
