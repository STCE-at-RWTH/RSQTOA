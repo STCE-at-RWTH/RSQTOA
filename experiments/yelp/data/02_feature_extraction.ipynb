{
 "cells": [
  {
   "cell_type": "markdown",
   "source": [
    "# Data Extraction\n",
    "\n",
    "In the present section we will discuss the steps we took to derive features that could be helpful in building a regression model which could help us to predict the helpfulness score of a review."
   ],
   "metadata": {
    "collapsed": false
   }
  },
  {
   "cell_type": "code",
   "execution_count": 2,
   "outputs": [],
   "source": [
    "# Importing necessary packages\n",
    "\n",
    "import tqdm\n",
    "import nltk\n",
    "import sqlite3\n",
    "import textstat\n",
    "import pandas as pd\n",
    "from tqdm import tqdm\n",
    "from datetime import datetime\n",
    "from textblob import TextBlob\n",
    "\n",
    "nltk.download('brown')"
   ],
   "metadata": {
    "collapsed": false,
    "ExecuteTime": {
     "end_time": "2023-07-13T15:09:43.322300Z",
     "start_time": "2023-07-13T15:09:43.312631Z"
    }
   }
  },
  {
   "cell_type": "code",
   "execution_count": 3,
   "outputs": [],
   "source": [
    "# Connecting to database\n",
    "cnx = sqlite3.connect('./data/yelp_db.sqlite')"
   ],
   "metadata": {
    "collapsed": false,
    "ExecuteTime": {
     "end_time": "2023-07-13T15:09:43.684970Z",
     "start_time": "2023-07-13T15:09:43.673095Z"
    }
   }
  },
  {
   "cell_type": "markdown",
   "source": [
    "## 1. Restaurant Features"
   ],
   "metadata": {
    "collapsed": false
   }
  },
  {
   "cell_type": "code",
   "execution_count": 4,
   "outputs": [
    {
     "data": {
      "text/plain": "(52268, 14)"
     },
     "execution_count": 4,
     "metadata": {},
     "output_type": "execute_result"
    }
   ],
   "source": [
    "# Reading restaurant information from the table\n",
    "df_restaurants = pd.read_sql_query(\"select * from restaurants\", cnx)\n",
    "df_restaurants.shape"
   ],
   "metadata": {
    "collapsed": false,
    "ExecuteTime": {
     "end_time": "2023-07-13T15:14:54.909184Z",
     "start_time": "2023-07-13T15:14:52.318327Z"
    }
   }
  },
  {
   "cell_type": "markdown",
   "source": [
    "#### Elapsed Days"
   ],
   "metadata": {
    "collapsed": false
   }
  },
  {
   "cell_type": "code",
   "execution_count": 5,
   "outputs": [
    {
     "data": {
      "text/plain": "              business_id                   name              address  \\\n0  MTSW4McQd7CbVtyjqoe9mw     St Honore Pastries          935 Race St   \n1  CF33F8-E6oudUQ46HnavjQ         Sonic Drive-In        615 S Main St   \n2  k0hlBqXX-Bt0vf1op7Jr1w  Tsevi's Pub And Grill    8025 Mackenzie Rd   \n3  bBDDEgkFA1Otx9Lfe7BZUQ         Sonic Drive-In  2312 Dickerson Pike   \n4  eEOYSgkmpB90uNA7lDOMRA  Vietnamese Food Truck                        \n\n           city state postal_code    latitude    longitude  stars  \\\n0  Philadelphia    PA       19107  39.9555052  -75.1555641    4.0   \n1  Ashland City    TN       37015   36.269593   -87.058943    2.0   \n2        Affton    MO       63123  38.5651648  -90.3210868    3.0   \n3     Nashville    TN       37207  36.2081024  -86.7681696    1.5   \n4     Tampa Bay    FL       33602  27.9552692  -82.4563199    4.0   \n\n   review_count  is_open                                         attributes  \\\n0            80        1  {\"RestaurantsDelivery\":\"False\",\"OutdoorSeating...   \n1             6        1  {\"BusinessParking\":\"None\",\"BusinessAcceptsCred...   \n2            19        0  {\"Caters\":\"True\",\"Alcohol\":\"u'full_bar'\",\"Rest...   \n3            10        1  {\"RestaurantsAttire\":\"'casual'\",\"RestaurantsGo...   \n4            10        1  {\"Alcohol\":\"'none'\",\"OutdoorSeating\":\"None\",\"R...   \n\n                                          categories  \\\n0  Restaurants, Food, Bubble Tea, Coffee & Tea, B...   \n1  Burgers, Fast Food, Sandwiches, Food, Ice Crea...   \n2  Pubs, Restaurants, Italian, Bars, American (Tr...   \n3  Ice Cream & Frozen Yogurt, Fast Food, Burgers,...   \n4         Vietnamese, Food, Restaurants, Food Trucks   \n\n                                               hours   first_review_date  \\\n0  {\"Monday\":\"7:0-20:0\",\"Tuesday\":\"7:0-20:0\",\"Wed... 2008-03-09 00:36:56   \n1  {\"Monday\":\"0:0-0:0\",\"Tuesday\":\"6:0-22:0\",\"Wedn... 2012-12-18 08:45:44   \n2                                               null 2012-04-16 23:53:04   \n3  {\"Monday\":\"0:0-0:0\",\"Tuesday\":\"6:0-21:0\",\"Wedn... 2011-07-01 23:01:11   \n4  {\"Monday\":\"11:0-14:0\",\"Tuesday\":\"11:0-14:0\",\"W... 2018-07-25 14:35:33   \n\n             max_date  elapsed_days  \n0 2022-01-19 19:48:45          5064  \n1 2022-01-19 19:48:45          3319  \n2 2022-01-19 19:48:45          3564  \n3 2022-01-19 19:48:45          3854  \n4 2022-01-19 19:48:45          1274  ",
      "text/html": "<div>\n<style scoped>\n    .dataframe tbody tr th:only-of-type {\n        vertical-align: middle;\n    }\n\n    .dataframe tbody tr th {\n        vertical-align: top;\n    }\n\n    .dataframe thead th {\n        text-align: right;\n    }\n</style>\n<table border=\"1\" class=\"dataframe\">\n  <thead>\n    <tr style=\"text-align: right;\">\n      <th></th>\n      <th>business_id</th>\n      <th>name</th>\n      <th>address</th>\n      <th>city</th>\n      <th>state</th>\n      <th>postal_code</th>\n      <th>latitude</th>\n      <th>longitude</th>\n      <th>stars</th>\n      <th>review_count</th>\n      <th>is_open</th>\n      <th>attributes</th>\n      <th>categories</th>\n      <th>hours</th>\n      <th>first_review_date</th>\n      <th>max_date</th>\n      <th>elapsed_days</th>\n    </tr>\n  </thead>\n  <tbody>\n    <tr>\n      <th>0</th>\n      <td>MTSW4McQd7CbVtyjqoe9mw</td>\n      <td>St Honore Pastries</td>\n      <td>935 Race St</td>\n      <td>Philadelphia</td>\n      <td>PA</td>\n      <td>19107</td>\n      <td>39.9555052</td>\n      <td>-75.1555641</td>\n      <td>4.0</td>\n      <td>80</td>\n      <td>1</td>\n      <td>{\"RestaurantsDelivery\":\"False\",\"OutdoorSeating...</td>\n      <td>Restaurants, Food, Bubble Tea, Coffee &amp; Tea, B...</td>\n      <td>{\"Monday\":\"7:0-20:0\",\"Tuesday\":\"7:0-20:0\",\"Wed...</td>\n      <td>2008-03-09 00:36:56</td>\n      <td>2022-01-19 19:48:45</td>\n      <td>5064</td>\n    </tr>\n    <tr>\n      <th>1</th>\n      <td>CF33F8-E6oudUQ46HnavjQ</td>\n      <td>Sonic Drive-In</td>\n      <td>615 S Main St</td>\n      <td>Ashland City</td>\n      <td>TN</td>\n      <td>37015</td>\n      <td>36.269593</td>\n      <td>-87.058943</td>\n      <td>2.0</td>\n      <td>6</td>\n      <td>1</td>\n      <td>{\"BusinessParking\":\"None\",\"BusinessAcceptsCred...</td>\n      <td>Burgers, Fast Food, Sandwiches, Food, Ice Crea...</td>\n      <td>{\"Monday\":\"0:0-0:0\",\"Tuesday\":\"6:0-22:0\",\"Wedn...</td>\n      <td>2012-12-18 08:45:44</td>\n      <td>2022-01-19 19:48:45</td>\n      <td>3319</td>\n    </tr>\n    <tr>\n      <th>2</th>\n      <td>k0hlBqXX-Bt0vf1op7Jr1w</td>\n      <td>Tsevi's Pub And Grill</td>\n      <td>8025 Mackenzie Rd</td>\n      <td>Affton</td>\n      <td>MO</td>\n      <td>63123</td>\n      <td>38.5651648</td>\n      <td>-90.3210868</td>\n      <td>3.0</td>\n      <td>19</td>\n      <td>0</td>\n      <td>{\"Caters\":\"True\",\"Alcohol\":\"u'full_bar'\",\"Rest...</td>\n      <td>Pubs, Restaurants, Italian, Bars, American (Tr...</td>\n      <td>null</td>\n      <td>2012-04-16 23:53:04</td>\n      <td>2022-01-19 19:48:45</td>\n      <td>3564</td>\n    </tr>\n    <tr>\n      <th>3</th>\n      <td>bBDDEgkFA1Otx9Lfe7BZUQ</td>\n      <td>Sonic Drive-In</td>\n      <td>2312 Dickerson Pike</td>\n      <td>Nashville</td>\n      <td>TN</td>\n      <td>37207</td>\n      <td>36.2081024</td>\n      <td>-86.7681696</td>\n      <td>1.5</td>\n      <td>10</td>\n      <td>1</td>\n      <td>{\"RestaurantsAttire\":\"'casual'\",\"RestaurantsGo...</td>\n      <td>Ice Cream &amp; Frozen Yogurt, Fast Food, Burgers,...</td>\n      <td>{\"Monday\":\"0:0-0:0\",\"Tuesday\":\"6:0-21:0\",\"Wedn...</td>\n      <td>2011-07-01 23:01:11</td>\n      <td>2022-01-19 19:48:45</td>\n      <td>3854</td>\n    </tr>\n    <tr>\n      <th>4</th>\n      <td>eEOYSgkmpB90uNA7lDOMRA</td>\n      <td>Vietnamese Food Truck</td>\n      <td></td>\n      <td>Tampa Bay</td>\n      <td>FL</td>\n      <td>33602</td>\n      <td>27.9552692</td>\n      <td>-82.4563199</td>\n      <td>4.0</td>\n      <td>10</td>\n      <td>1</td>\n      <td>{\"Alcohol\":\"'none'\",\"OutdoorSeating\":\"None\",\"R...</td>\n      <td>Vietnamese, Food, Restaurants, Food Trucks</td>\n      <td>{\"Monday\":\"11:0-14:0\",\"Tuesday\":\"11:0-14:0\",\"W...</td>\n      <td>2018-07-25 14:35:33</td>\n      <td>2022-01-19 19:48:45</td>\n      <td>1274</td>\n    </tr>\n  </tbody>\n</table>\n</div>"
     },
     "execution_count": 5,
     "metadata": {},
     "output_type": "execute_result"
    }
   ],
   "source": [
    "# Query to retrieve the first review date for each restaurant\n",
    "df_restaurant_first_review = pd.read_sql_query(\"SELECT MIN(date) as first_review_date, business_id FROM restaurant_reviews GROUP BY business_id\", cnx)\n",
    "\n",
    "# Set 'business_id' as the index of df_restaurant_first_review\n",
    "df_restaurant_first_review.set_index('business_id', inplace=True)\n",
    "\n",
    "# Join df_restaurant_first_review with df_restaurants on 'business_id'\n",
    "df_restaurants = df_restaurants.join(df_restaurant_first_review, on='business_id', how='left')\n",
    "\n",
    "# Convert 'first_review_date' column to datetime format\n",
    "df_restaurants['first_review_date'] = pd.to_datetime(df_restaurants['first_review_date'], format='%Y-%m-%d %H:%M:%S')\n",
    "\n",
    "# Retrieve the maximum review date from the 'reviews' table\n",
    "max_review_date = pd.read_sql_query(\"SELECT MAX(date) FROM reviews\", cnx)\n",
    "max_review_date = datetime.strptime(max_review_date.values[0][0], '%Y-%m-%d %H:%M:%S')\n",
    "\n",
    "# Calculate the number of elapsed days since the first review date\n",
    "df_restaurants['max_date'] = max_review_date\n",
    "df_restaurants['elapsed_days'] = (df_restaurants['max_date'] - df_restaurants['first_review_date']).dt.days\n",
    "\n",
    "df_restaurants.head()"
   ],
   "metadata": {
    "collapsed": false,
    "ExecuteTime": {
     "end_time": "2023-07-13T15:29:57.872138Z",
     "start_time": "2023-07-13T15:27:01.972679Z"
    }
   }
  },
  {
   "cell_type": "markdown",
   "source": [
    "#### Total Reviews"
   ],
   "metadata": {
    "collapsed": false
   }
  },
  {
   "cell_type": "code",
   "execution_count": 6,
   "outputs": [
    {
     "data": {
      "text/plain": "              business_id                   name              address  \\\n0  MTSW4McQd7CbVtyjqoe9mw     St Honore Pastries          935 Race St   \n1  CF33F8-E6oudUQ46HnavjQ         Sonic Drive-In        615 S Main St   \n2  k0hlBqXX-Bt0vf1op7Jr1w  Tsevi's Pub And Grill    8025 Mackenzie Rd   \n3  bBDDEgkFA1Otx9Lfe7BZUQ         Sonic Drive-In  2312 Dickerson Pike   \n4  eEOYSgkmpB90uNA7lDOMRA  Vietnamese Food Truck                        \n\n           city state postal_code    latitude    longitude  stars  \\\n0  Philadelphia    PA       19107  39.9555052  -75.1555641    4.0   \n1  Ashland City    TN       37015   36.269593   -87.058943    2.0   \n2        Affton    MO       63123  38.5651648  -90.3210868    3.0   \n3     Nashville    TN       37207  36.2081024  -86.7681696    1.5   \n4     Tampa Bay    FL       33602  27.9552692  -82.4563199    4.0   \n\n   review_count  is_open                                         attributes  \\\n0            80        1  {\"RestaurantsDelivery\":\"False\",\"OutdoorSeating...   \n1             6        1  {\"BusinessParking\":\"None\",\"BusinessAcceptsCred...   \n2            19        0  {\"Caters\":\"True\",\"Alcohol\":\"u'full_bar'\",\"Rest...   \n3            10        1  {\"RestaurantsAttire\":\"'casual'\",\"RestaurantsGo...   \n4            10        1  {\"Alcohol\":\"'none'\",\"OutdoorSeating\":\"None\",\"R...   \n\n                                          categories  \\\n0  Restaurants, Food, Bubble Tea, Coffee & Tea, B...   \n1  Burgers, Fast Food, Sandwiches, Food, Ice Crea...   \n2  Pubs, Restaurants, Italian, Bars, American (Tr...   \n3  Ice Cream & Frozen Yogurt, Fast Food, Burgers,...   \n4         Vietnamese, Food, Restaurants, Food Trucks   \n\n                                               hours   first_review_date  \\\n0  {\"Monday\":\"7:0-20:0\",\"Tuesday\":\"7:0-20:0\",\"Wed... 2008-03-09 00:36:56   \n1  {\"Monday\":\"0:0-0:0\",\"Tuesday\":\"6:0-22:0\",\"Wedn... 2012-12-18 08:45:44   \n2                                               null 2012-04-16 23:53:04   \n3  {\"Monday\":\"0:0-0:0\",\"Tuesday\":\"6:0-21:0\",\"Wedn... 2011-07-01 23:01:11   \n4  {\"Monday\":\"11:0-14:0\",\"Tuesday\":\"11:0-14:0\",\"W... 2018-07-25 14:35:33   \n\n             max_date  elapsed_days  total_reviews  \n0 2022-01-19 19:48:45          5064             87  \n1 2022-01-19 19:48:45          3319              6  \n2 2022-01-19 19:48:45          3564             19  \n3 2022-01-19 19:48:45          3854             10  \n4 2022-01-19 19:48:45          1274             11  ",
      "text/html": "<div>\n<style scoped>\n    .dataframe tbody tr th:only-of-type {\n        vertical-align: middle;\n    }\n\n    .dataframe tbody tr th {\n        vertical-align: top;\n    }\n\n    .dataframe thead th {\n        text-align: right;\n    }\n</style>\n<table border=\"1\" class=\"dataframe\">\n  <thead>\n    <tr style=\"text-align: right;\">\n      <th></th>\n      <th>business_id</th>\n      <th>name</th>\n      <th>address</th>\n      <th>city</th>\n      <th>state</th>\n      <th>postal_code</th>\n      <th>latitude</th>\n      <th>longitude</th>\n      <th>stars</th>\n      <th>review_count</th>\n      <th>is_open</th>\n      <th>attributes</th>\n      <th>categories</th>\n      <th>hours</th>\n      <th>first_review_date</th>\n      <th>max_date</th>\n      <th>elapsed_days</th>\n      <th>total_reviews</th>\n    </tr>\n  </thead>\n  <tbody>\n    <tr>\n      <th>0</th>\n      <td>MTSW4McQd7CbVtyjqoe9mw</td>\n      <td>St Honore Pastries</td>\n      <td>935 Race St</td>\n      <td>Philadelphia</td>\n      <td>PA</td>\n      <td>19107</td>\n      <td>39.9555052</td>\n      <td>-75.1555641</td>\n      <td>4.0</td>\n      <td>80</td>\n      <td>1</td>\n      <td>{\"RestaurantsDelivery\":\"False\",\"OutdoorSeating...</td>\n      <td>Restaurants, Food, Bubble Tea, Coffee &amp; Tea, B...</td>\n      <td>{\"Monday\":\"7:0-20:0\",\"Tuesday\":\"7:0-20:0\",\"Wed...</td>\n      <td>2008-03-09 00:36:56</td>\n      <td>2022-01-19 19:48:45</td>\n      <td>5064</td>\n      <td>87</td>\n    </tr>\n    <tr>\n      <th>1</th>\n      <td>CF33F8-E6oudUQ46HnavjQ</td>\n      <td>Sonic Drive-In</td>\n      <td>615 S Main St</td>\n      <td>Ashland City</td>\n      <td>TN</td>\n      <td>37015</td>\n      <td>36.269593</td>\n      <td>-87.058943</td>\n      <td>2.0</td>\n      <td>6</td>\n      <td>1</td>\n      <td>{\"BusinessParking\":\"None\",\"BusinessAcceptsCred...</td>\n      <td>Burgers, Fast Food, Sandwiches, Food, Ice Crea...</td>\n      <td>{\"Monday\":\"0:0-0:0\",\"Tuesday\":\"6:0-22:0\",\"Wedn...</td>\n      <td>2012-12-18 08:45:44</td>\n      <td>2022-01-19 19:48:45</td>\n      <td>3319</td>\n      <td>6</td>\n    </tr>\n    <tr>\n      <th>2</th>\n      <td>k0hlBqXX-Bt0vf1op7Jr1w</td>\n      <td>Tsevi's Pub And Grill</td>\n      <td>8025 Mackenzie Rd</td>\n      <td>Affton</td>\n      <td>MO</td>\n      <td>63123</td>\n      <td>38.5651648</td>\n      <td>-90.3210868</td>\n      <td>3.0</td>\n      <td>19</td>\n      <td>0</td>\n      <td>{\"Caters\":\"True\",\"Alcohol\":\"u'full_bar'\",\"Rest...</td>\n      <td>Pubs, Restaurants, Italian, Bars, American (Tr...</td>\n      <td>null</td>\n      <td>2012-04-16 23:53:04</td>\n      <td>2022-01-19 19:48:45</td>\n      <td>3564</td>\n      <td>19</td>\n    </tr>\n    <tr>\n      <th>3</th>\n      <td>bBDDEgkFA1Otx9Lfe7BZUQ</td>\n      <td>Sonic Drive-In</td>\n      <td>2312 Dickerson Pike</td>\n      <td>Nashville</td>\n      <td>TN</td>\n      <td>37207</td>\n      <td>36.2081024</td>\n      <td>-86.7681696</td>\n      <td>1.5</td>\n      <td>10</td>\n      <td>1</td>\n      <td>{\"RestaurantsAttire\":\"'casual'\",\"RestaurantsGo...</td>\n      <td>Ice Cream &amp; Frozen Yogurt, Fast Food, Burgers,...</td>\n      <td>{\"Monday\":\"0:0-0:0\",\"Tuesday\":\"6:0-21:0\",\"Wedn...</td>\n      <td>2011-07-01 23:01:11</td>\n      <td>2022-01-19 19:48:45</td>\n      <td>3854</td>\n      <td>10</td>\n    </tr>\n    <tr>\n      <th>4</th>\n      <td>eEOYSgkmpB90uNA7lDOMRA</td>\n      <td>Vietnamese Food Truck</td>\n      <td></td>\n      <td>Tampa Bay</td>\n      <td>FL</td>\n      <td>33602</td>\n      <td>27.9552692</td>\n      <td>-82.4563199</td>\n      <td>4.0</td>\n      <td>10</td>\n      <td>1</td>\n      <td>{\"Alcohol\":\"'none'\",\"OutdoorSeating\":\"None\",\"R...</td>\n      <td>Vietnamese, Food, Restaurants, Food Trucks</td>\n      <td>{\"Monday\":\"11:0-14:0\",\"Tuesday\":\"11:0-14:0\",\"W...</td>\n      <td>2018-07-25 14:35:33</td>\n      <td>2022-01-19 19:48:45</td>\n      <td>1274</td>\n      <td>11</td>\n    </tr>\n  </tbody>\n</table>\n</div>"
     },
     "execution_count": 6,
     "metadata": {},
     "output_type": "execute_result"
    }
   ],
   "source": [
    "# Query to retrieve total number of reviews for each restaurant\n",
    "df_total_reviews = pd.read_sql_query(\"select count(distinct (review_id)) as total_reviews, business_id from restaurant_reviews group by business_id\", cnx)\n",
    "\n",
    "# Set 'business_id' as the index of df_total_reviews\n",
    "df_total_reviews.set_index('business_id', inplace=True)\n",
    "\n",
    "# Join df_total_reviews with df_restaurants on 'business_id'\n",
    "df_restaurants = df_restaurants.join(df_total_reviews, on='business_id', how='left')\n",
    "df_restaurants.head()"
   ],
   "metadata": {
    "collapsed": false,
    "ExecuteTime": {
     "end_time": "2023-07-13T15:32:37.773782Z",
     "start_time": "2023-07-13T15:31:06.379121Z"
    }
   }
  },
  {
   "cell_type": "markdown",
   "source": [
    "#### Total Positive Reviews and Ratio of Positive Reviews"
   ],
   "metadata": {
    "collapsed": false
   }
  },
  {
   "cell_type": "code",
   "execution_count": 7,
   "outputs": [
    {
     "data": {
      "text/plain": "              business_id                   name              address  \\\n0  MTSW4McQd7CbVtyjqoe9mw     St Honore Pastries          935 Race St   \n1  CF33F8-E6oudUQ46HnavjQ         Sonic Drive-In        615 S Main St   \n2  k0hlBqXX-Bt0vf1op7Jr1w  Tsevi's Pub And Grill    8025 Mackenzie Rd   \n3  bBDDEgkFA1Otx9Lfe7BZUQ         Sonic Drive-In  2312 Dickerson Pike   \n4  eEOYSgkmpB90uNA7lDOMRA  Vietnamese Food Truck                        \n\n           city state postal_code    latitude    longitude  stars  \\\n0  Philadelphia    PA       19107  39.9555052  -75.1555641    4.0   \n1  Ashland City    TN       37015   36.269593   -87.058943    2.0   \n2        Affton    MO       63123  38.5651648  -90.3210868    3.0   \n3     Nashville    TN       37207  36.2081024  -86.7681696    1.5   \n4     Tampa Bay    FL       33602  27.9552692  -82.4563199    4.0   \n\n   review_count  is_open                                         attributes  \\\n0            80        1  {\"RestaurantsDelivery\":\"False\",\"OutdoorSeating...   \n1             6        1  {\"BusinessParking\":\"None\",\"BusinessAcceptsCred...   \n2            19        0  {\"Caters\":\"True\",\"Alcohol\":\"u'full_bar'\",\"Rest...   \n3            10        1  {\"RestaurantsAttire\":\"'casual'\",\"RestaurantsGo...   \n4            10        1  {\"Alcohol\":\"'none'\",\"OutdoorSeating\":\"None\",\"R...   \n\n                                          categories  \\\n0  Restaurants, Food, Bubble Tea, Coffee & Tea, B...   \n1  Burgers, Fast Food, Sandwiches, Food, Ice Crea...   \n2  Pubs, Restaurants, Italian, Bars, American (Tr...   \n3  Ice Cream & Frozen Yogurt, Fast Food, Burgers,...   \n4         Vietnamese, Food, Restaurants, Food Trucks   \n\n                                               hours   first_review_date  \\\n0  {\"Monday\":\"7:0-20:0\",\"Tuesday\":\"7:0-20:0\",\"Wed... 2008-03-09 00:36:56   \n1  {\"Monday\":\"0:0-0:0\",\"Tuesday\":\"6:0-22:0\",\"Wedn... 2012-12-18 08:45:44   \n2                                               null 2012-04-16 23:53:04   \n3  {\"Monday\":\"0:0-0:0\",\"Tuesday\":\"6:0-21:0\",\"Wedn... 2011-07-01 23:01:11   \n4  {\"Monday\":\"11:0-14:0\",\"Tuesday\":\"11:0-14:0\",\"W... 2018-07-25 14:35:33   \n\n             max_date  elapsed_days  total_reviews  positive_reviews  \\\n0 2022-01-19 19:48:45          5064             87              69.0   \n1 2022-01-19 19:48:45          3319              6               2.0   \n2 2022-01-19 19:48:45          3564             19              10.0   \n3 2022-01-19 19:48:45          3854             10               1.0   \n4 2022-01-19 19:48:45          1274             11               8.0   \n\n   ratio_positive_reviews  \n0                0.793103  \n1                0.333333  \n2                0.526316  \n3                0.100000  \n4                0.727273  ",
      "text/html": "<div>\n<style scoped>\n    .dataframe tbody tr th:only-of-type {\n        vertical-align: middle;\n    }\n\n    .dataframe tbody tr th {\n        vertical-align: top;\n    }\n\n    .dataframe thead th {\n        text-align: right;\n    }\n</style>\n<table border=\"1\" class=\"dataframe\">\n  <thead>\n    <tr style=\"text-align: right;\">\n      <th></th>\n      <th>business_id</th>\n      <th>name</th>\n      <th>address</th>\n      <th>city</th>\n      <th>state</th>\n      <th>postal_code</th>\n      <th>latitude</th>\n      <th>longitude</th>\n      <th>stars</th>\n      <th>review_count</th>\n      <th>is_open</th>\n      <th>attributes</th>\n      <th>categories</th>\n      <th>hours</th>\n      <th>first_review_date</th>\n      <th>max_date</th>\n      <th>elapsed_days</th>\n      <th>total_reviews</th>\n      <th>positive_reviews</th>\n      <th>ratio_positive_reviews</th>\n    </tr>\n  </thead>\n  <tbody>\n    <tr>\n      <th>0</th>\n      <td>MTSW4McQd7CbVtyjqoe9mw</td>\n      <td>St Honore Pastries</td>\n      <td>935 Race St</td>\n      <td>Philadelphia</td>\n      <td>PA</td>\n      <td>19107</td>\n      <td>39.9555052</td>\n      <td>-75.1555641</td>\n      <td>4.0</td>\n      <td>80</td>\n      <td>1</td>\n      <td>{\"RestaurantsDelivery\":\"False\",\"OutdoorSeating...</td>\n      <td>Restaurants, Food, Bubble Tea, Coffee &amp; Tea, B...</td>\n      <td>{\"Monday\":\"7:0-20:0\",\"Tuesday\":\"7:0-20:0\",\"Wed...</td>\n      <td>2008-03-09 00:36:56</td>\n      <td>2022-01-19 19:48:45</td>\n      <td>5064</td>\n      <td>87</td>\n      <td>69.0</td>\n      <td>0.793103</td>\n    </tr>\n    <tr>\n      <th>1</th>\n      <td>CF33F8-E6oudUQ46HnavjQ</td>\n      <td>Sonic Drive-In</td>\n      <td>615 S Main St</td>\n      <td>Ashland City</td>\n      <td>TN</td>\n      <td>37015</td>\n      <td>36.269593</td>\n      <td>-87.058943</td>\n      <td>2.0</td>\n      <td>6</td>\n      <td>1</td>\n      <td>{\"BusinessParking\":\"None\",\"BusinessAcceptsCred...</td>\n      <td>Burgers, Fast Food, Sandwiches, Food, Ice Crea...</td>\n      <td>{\"Monday\":\"0:0-0:0\",\"Tuesday\":\"6:0-22:0\",\"Wedn...</td>\n      <td>2012-12-18 08:45:44</td>\n      <td>2022-01-19 19:48:45</td>\n      <td>3319</td>\n      <td>6</td>\n      <td>2.0</td>\n      <td>0.333333</td>\n    </tr>\n    <tr>\n      <th>2</th>\n      <td>k0hlBqXX-Bt0vf1op7Jr1w</td>\n      <td>Tsevi's Pub And Grill</td>\n      <td>8025 Mackenzie Rd</td>\n      <td>Affton</td>\n      <td>MO</td>\n      <td>63123</td>\n      <td>38.5651648</td>\n      <td>-90.3210868</td>\n      <td>3.0</td>\n      <td>19</td>\n      <td>0</td>\n      <td>{\"Caters\":\"True\",\"Alcohol\":\"u'full_bar'\",\"Rest...</td>\n      <td>Pubs, Restaurants, Italian, Bars, American (Tr...</td>\n      <td>null</td>\n      <td>2012-04-16 23:53:04</td>\n      <td>2022-01-19 19:48:45</td>\n      <td>3564</td>\n      <td>19</td>\n      <td>10.0</td>\n      <td>0.526316</td>\n    </tr>\n    <tr>\n      <th>3</th>\n      <td>bBDDEgkFA1Otx9Lfe7BZUQ</td>\n      <td>Sonic Drive-In</td>\n      <td>2312 Dickerson Pike</td>\n      <td>Nashville</td>\n      <td>TN</td>\n      <td>37207</td>\n      <td>36.2081024</td>\n      <td>-86.7681696</td>\n      <td>1.5</td>\n      <td>10</td>\n      <td>1</td>\n      <td>{\"RestaurantsAttire\":\"'casual'\",\"RestaurantsGo...</td>\n      <td>Ice Cream &amp; Frozen Yogurt, Fast Food, Burgers,...</td>\n      <td>{\"Monday\":\"0:0-0:0\",\"Tuesday\":\"6:0-21:0\",\"Wedn...</td>\n      <td>2011-07-01 23:01:11</td>\n      <td>2022-01-19 19:48:45</td>\n      <td>3854</td>\n      <td>10</td>\n      <td>1.0</td>\n      <td>0.100000</td>\n    </tr>\n    <tr>\n      <th>4</th>\n      <td>eEOYSgkmpB90uNA7lDOMRA</td>\n      <td>Vietnamese Food Truck</td>\n      <td></td>\n      <td>Tampa Bay</td>\n      <td>FL</td>\n      <td>33602</td>\n      <td>27.9552692</td>\n      <td>-82.4563199</td>\n      <td>4.0</td>\n      <td>10</td>\n      <td>1</td>\n      <td>{\"Alcohol\":\"'none'\",\"OutdoorSeating\":\"None\",\"R...</td>\n      <td>Vietnamese, Food, Restaurants, Food Trucks</td>\n      <td>{\"Monday\":\"11:0-14:0\",\"Tuesday\":\"11:0-14:0\",\"W...</td>\n      <td>2018-07-25 14:35:33</td>\n      <td>2022-01-19 19:48:45</td>\n      <td>1274</td>\n      <td>11</td>\n      <td>8.0</td>\n      <td>0.727273</td>\n    </tr>\n  </tbody>\n</table>\n</div>"
     },
     "execution_count": 7,
     "metadata": {},
     "output_type": "execute_result"
    }
   ],
   "source": [
    "# Query to retrieve count of review with star rating >= 4 for each restaurant\n",
    "df_total_positive_reviews = pd.read_sql_query(\"select count(distinct (review_id)) as positive_reviews, business_id from restaurant_reviews where stars >= 4 group by business_id\", cnx)\n",
    "\n",
    "# filling any non-existing values with 0\n",
    "df_total_positive_reviews['positive_reviews'].fillna(0, inplace=True)\n",
    "\n",
    "# Set 'business_id' as the index of df_total_positive_reviews\n",
    "df_total_positive_reviews.set_index('business_id', inplace=True)\n",
    "\n",
    "# Join df_total_positive_reviews with df_restaurants on 'business_id'\n",
    "df_restaurants = df_restaurants.join(df_total_positive_reviews, on='business_id', how='left')\n",
    "\n",
    "# computing the ratio of positive review by dividing `positive_reviews` with `total_reviews` of each restaurant\n",
    "df_restaurants['ratio_positive_reviews'] = df_restaurants['positive_reviews'] / df_restaurants['total_reviews']\n",
    "df_restaurants.head()"
   ],
   "metadata": {
    "collapsed": false,
    "ExecuteTime": {
     "end_time": "2023-07-13T15:41:50.048763Z",
     "start_time": "2023-07-13T15:40:26.246857Z"
    }
   }
  },
  {
   "cell_type": "markdown",
   "source": [
    "#### Total Negative Reviews and Ratio of Negative Reviews"
   ],
   "metadata": {
    "collapsed": false
   }
  },
  {
   "cell_type": "code",
   "execution_count": 8,
   "outputs": [
    {
     "data": {
      "text/plain": "              business_id                   name              address  \\\n0  MTSW4McQd7CbVtyjqoe9mw     St Honore Pastries          935 Race St   \n1  CF33F8-E6oudUQ46HnavjQ         Sonic Drive-In        615 S Main St   \n2  k0hlBqXX-Bt0vf1op7Jr1w  Tsevi's Pub And Grill    8025 Mackenzie Rd   \n3  bBDDEgkFA1Otx9Lfe7BZUQ         Sonic Drive-In  2312 Dickerson Pike   \n4  eEOYSgkmpB90uNA7lDOMRA  Vietnamese Food Truck                        \n\n           city state postal_code    latitude    longitude  stars  \\\n0  Philadelphia    PA       19107  39.9555052  -75.1555641    4.0   \n1  Ashland City    TN       37015   36.269593   -87.058943    2.0   \n2        Affton    MO       63123  38.5651648  -90.3210868    3.0   \n3     Nashville    TN       37207  36.2081024  -86.7681696    1.5   \n4     Tampa Bay    FL       33602  27.9552692  -82.4563199    4.0   \n\n   review_count  ...                                         categories  \\\n0            80  ...  Restaurants, Food, Bubble Tea, Coffee & Tea, B...   \n1             6  ...  Burgers, Fast Food, Sandwiches, Food, Ice Crea...   \n2            19  ...  Pubs, Restaurants, Italian, Bars, American (Tr...   \n3            10  ...  Ice Cream & Frozen Yogurt, Fast Food, Burgers,...   \n4            10  ...         Vietnamese, Food, Restaurants, Food Trucks   \n\n                                               hours   first_review_date  \\\n0  {\"Monday\":\"7:0-20:0\",\"Tuesday\":\"7:0-20:0\",\"Wed... 2008-03-09 00:36:56   \n1  {\"Monday\":\"0:0-0:0\",\"Tuesday\":\"6:0-22:0\",\"Wedn... 2012-12-18 08:45:44   \n2                                               null 2012-04-16 23:53:04   \n3  {\"Monday\":\"0:0-0:0\",\"Tuesday\":\"6:0-21:0\",\"Wedn... 2011-07-01 23:01:11   \n4  {\"Monday\":\"11:0-14:0\",\"Tuesday\":\"11:0-14:0\",\"W... 2018-07-25 14:35:33   \n\n             max_date elapsed_days total_reviews  positive_reviews  \\\n0 2022-01-19 19:48:45         5064            87              69.0   \n1 2022-01-19 19:48:45         3319             6               2.0   \n2 2022-01-19 19:48:45         3564            19              10.0   \n3 2022-01-19 19:48:45         3854            10               1.0   \n4 2022-01-19 19:48:45         1274            11               8.0   \n\n   ratio_positive_reviews  negative_reviews  ratio_negative_reviews  \n0                0.793103               9.0                0.103448  \n1                0.333333               4.0                0.666667  \n2                0.526316               8.0                0.421053  \n3                0.100000               8.0                0.800000  \n4                0.727273               1.0                0.090909  \n\n[5 rows x 22 columns]",
      "text/html": "<div>\n<style scoped>\n    .dataframe tbody tr th:only-of-type {\n        vertical-align: middle;\n    }\n\n    .dataframe tbody tr th {\n        vertical-align: top;\n    }\n\n    .dataframe thead th {\n        text-align: right;\n    }\n</style>\n<table border=\"1\" class=\"dataframe\">\n  <thead>\n    <tr style=\"text-align: right;\">\n      <th></th>\n      <th>business_id</th>\n      <th>name</th>\n      <th>address</th>\n      <th>city</th>\n      <th>state</th>\n      <th>postal_code</th>\n      <th>latitude</th>\n      <th>longitude</th>\n      <th>stars</th>\n      <th>review_count</th>\n      <th>...</th>\n      <th>categories</th>\n      <th>hours</th>\n      <th>first_review_date</th>\n      <th>max_date</th>\n      <th>elapsed_days</th>\n      <th>total_reviews</th>\n      <th>positive_reviews</th>\n      <th>ratio_positive_reviews</th>\n      <th>negative_reviews</th>\n      <th>ratio_negative_reviews</th>\n    </tr>\n  </thead>\n  <tbody>\n    <tr>\n      <th>0</th>\n      <td>MTSW4McQd7CbVtyjqoe9mw</td>\n      <td>St Honore Pastries</td>\n      <td>935 Race St</td>\n      <td>Philadelphia</td>\n      <td>PA</td>\n      <td>19107</td>\n      <td>39.9555052</td>\n      <td>-75.1555641</td>\n      <td>4.0</td>\n      <td>80</td>\n      <td>...</td>\n      <td>Restaurants, Food, Bubble Tea, Coffee &amp; Tea, B...</td>\n      <td>{\"Monday\":\"7:0-20:0\",\"Tuesday\":\"7:0-20:0\",\"Wed...</td>\n      <td>2008-03-09 00:36:56</td>\n      <td>2022-01-19 19:48:45</td>\n      <td>5064</td>\n      <td>87</td>\n      <td>69.0</td>\n      <td>0.793103</td>\n      <td>9.0</td>\n      <td>0.103448</td>\n    </tr>\n    <tr>\n      <th>1</th>\n      <td>CF33F8-E6oudUQ46HnavjQ</td>\n      <td>Sonic Drive-In</td>\n      <td>615 S Main St</td>\n      <td>Ashland City</td>\n      <td>TN</td>\n      <td>37015</td>\n      <td>36.269593</td>\n      <td>-87.058943</td>\n      <td>2.0</td>\n      <td>6</td>\n      <td>...</td>\n      <td>Burgers, Fast Food, Sandwiches, Food, Ice Crea...</td>\n      <td>{\"Monday\":\"0:0-0:0\",\"Tuesday\":\"6:0-22:0\",\"Wedn...</td>\n      <td>2012-12-18 08:45:44</td>\n      <td>2022-01-19 19:48:45</td>\n      <td>3319</td>\n      <td>6</td>\n      <td>2.0</td>\n      <td>0.333333</td>\n      <td>4.0</td>\n      <td>0.666667</td>\n    </tr>\n    <tr>\n      <th>2</th>\n      <td>k0hlBqXX-Bt0vf1op7Jr1w</td>\n      <td>Tsevi's Pub And Grill</td>\n      <td>8025 Mackenzie Rd</td>\n      <td>Affton</td>\n      <td>MO</td>\n      <td>63123</td>\n      <td>38.5651648</td>\n      <td>-90.3210868</td>\n      <td>3.0</td>\n      <td>19</td>\n      <td>...</td>\n      <td>Pubs, Restaurants, Italian, Bars, American (Tr...</td>\n      <td>null</td>\n      <td>2012-04-16 23:53:04</td>\n      <td>2022-01-19 19:48:45</td>\n      <td>3564</td>\n      <td>19</td>\n      <td>10.0</td>\n      <td>0.526316</td>\n      <td>8.0</td>\n      <td>0.421053</td>\n    </tr>\n    <tr>\n      <th>3</th>\n      <td>bBDDEgkFA1Otx9Lfe7BZUQ</td>\n      <td>Sonic Drive-In</td>\n      <td>2312 Dickerson Pike</td>\n      <td>Nashville</td>\n      <td>TN</td>\n      <td>37207</td>\n      <td>36.2081024</td>\n      <td>-86.7681696</td>\n      <td>1.5</td>\n      <td>10</td>\n      <td>...</td>\n      <td>Ice Cream &amp; Frozen Yogurt, Fast Food, Burgers,...</td>\n      <td>{\"Monday\":\"0:0-0:0\",\"Tuesday\":\"6:0-21:0\",\"Wedn...</td>\n      <td>2011-07-01 23:01:11</td>\n      <td>2022-01-19 19:48:45</td>\n      <td>3854</td>\n      <td>10</td>\n      <td>1.0</td>\n      <td>0.100000</td>\n      <td>8.0</td>\n      <td>0.800000</td>\n    </tr>\n    <tr>\n      <th>4</th>\n      <td>eEOYSgkmpB90uNA7lDOMRA</td>\n      <td>Vietnamese Food Truck</td>\n      <td></td>\n      <td>Tampa Bay</td>\n      <td>FL</td>\n      <td>33602</td>\n      <td>27.9552692</td>\n      <td>-82.4563199</td>\n      <td>4.0</td>\n      <td>10</td>\n      <td>...</td>\n      <td>Vietnamese, Food, Restaurants, Food Trucks</td>\n      <td>{\"Monday\":\"11:0-14:0\",\"Tuesday\":\"11:0-14:0\",\"W...</td>\n      <td>2018-07-25 14:35:33</td>\n      <td>2022-01-19 19:48:45</td>\n      <td>1274</td>\n      <td>11</td>\n      <td>8.0</td>\n      <td>0.727273</td>\n      <td>1.0</td>\n      <td>0.090909</td>\n    </tr>\n  </tbody>\n</table>\n<p>5 rows × 22 columns</p>\n</div>"
     },
     "execution_count": 8,
     "metadata": {},
     "output_type": "execute_result"
    }
   ],
   "source": [
    "# Query to retrieve count of review with star rating <= 2 for each restaurant\n",
    "df_total_negative_reviews = pd.read_sql_query(\"select count(distinct (review_id)) as negative_reviews, business_id from restaurant_reviews where stars <= 2 group by business_id\", cnx)\n",
    "\n",
    "# filling any non-existing values with 0\n",
    "df_total_negative_reviews['negative_reviews'].fillna(0, inplace=True)\n",
    "\n",
    "# Set 'business_id' as the index of df_total_negative_reviews\n",
    "df_total_negative_reviews.set_index('business_id', inplace=True)\n",
    "\n",
    "# Join df_total_negative_reviews with df_restaurants on 'business_id'\n",
    "df_restaurants = df_restaurants.join(df_total_negative_reviews, on='business_id', how='left')\n",
    "\n",
    "# computing the ratio of negative review by dividing `negative_reviews` with `total_reviews` of each restaurant\n",
    "df_restaurants['ratio_negative_reviews'] = df_restaurants['negative_reviews'] / df_restaurants['total_reviews']\n",
    "df_restaurants.head()"
   ],
   "metadata": {
    "collapsed": false,
    "ExecuteTime": {
     "end_time": "2023-07-13T15:45:07.300274Z",
     "start_time": "2023-07-13T15:44:02.639873Z"
    }
   }
  },
  {
   "cell_type": "markdown",
   "source": [
    "#### Immediacy Index\n",
    "\n",
    "Restaurant with large score shows that there is less number of reviews posted but all reviews have high ratings  [Malik and Hussain, 2017]\n",
    "\n",
    "$=\\frac{Average\\ review\\ rating\\ of\\ the\\ restaurant}{Total\\ reviews\\ for\\ the\\ restaurant}$\n",
    "\n",
    "[Malik and Hussain, 2017]: https://www.sciencedirect.com/science/article/abs/pii/S0747563217302121"
   ],
   "metadata": {
    "collapsed": false
   }
  },
  {
   "cell_type": "code",
   "execution_count": 9,
   "outputs": [
    {
     "data": {
      "text/plain": "              business_id                   name              address  \\\n0  MTSW4McQd7CbVtyjqoe9mw     St Honore Pastries          935 Race St   \n1  CF33F8-E6oudUQ46HnavjQ         Sonic Drive-In        615 S Main St   \n2  k0hlBqXX-Bt0vf1op7Jr1w  Tsevi's Pub And Grill    8025 Mackenzie Rd   \n3  bBDDEgkFA1Otx9Lfe7BZUQ         Sonic Drive-In  2312 Dickerson Pike   \n4  eEOYSgkmpB90uNA7lDOMRA  Vietnamese Food Truck                        \n\n           city state postal_code    latitude    longitude  stars  \\\n0  Philadelphia    PA       19107  39.9555052  -75.1555641    4.0   \n1  Ashland City    TN       37015   36.269593   -87.058943    2.0   \n2        Affton    MO       63123  38.5651648  -90.3210868    3.0   \n3     Nashville    TN       37207  36.2081024  -86.7681696    1.5   \n4     Tampa Bay    FL       33602  27.9552692  -82.4563199    4.0   \n\n   review_count  ...                                              hours  \\\n0            80  ...  {\"Monday\":\"7:0-20:0\",\"Tuesday\":\"7:0-20:0\",\"Wed...   \n1             6  ...  {\"Monday\":\"0:0-0:0\",\"Tuesday\":\"6:0-22:0\",\"Wedn...   \n2            19  ...                                               null   \n3            10  ...  {\"Monday\":\"0:0-0:0\",\"Tuesday\":\"6:0-21:0\",\"Wedn...   \n4            10  ...  {\"Monday\":\"11:0-14:0\",\"Tuesday\":\"11:0-14:0\",\"W...   \n\n    first_review_date            max_date elapsed_days total_reviews  \\\n0 2008-03-09 00:36:56 2022-01-19 19:48:45         5064            87   \n1 2012-12-18 08:45:44 2022-01-19 19:48:45         3319             6   \n2 2012-04-16 23:53:04 2022-01-19 19:48:45         3564            19   \n3 2011-07-01 23:01:11 2022-01-19 19:48:45         3854            10   \n4 2018-07-25 14:35:33 2022-01-19 19:48:45         1274            11   \n\n  positive_reviews  ratio_positive_reviews  negative_reviews  \\\n0             69.0                0.793103               9.0   \n1              2.0                0.333333               4.0   \n2             10.0                0.526316               8.0   \n3              1.0                0.100000               8.0   \n4              8.0                0.727273               1.0   \n\n   ratio_negative_reviews  immediacy_index  \n0                0.103448         0.045977  \n1                0.666667         0.333333  \n2                0.421053         0.157895  \n3                0.800000         0.150000  \n4                0.090909         0.363636  \n\n[5 rows x 23 columns]",
      "text/html": "<div>\n<style scoped>\n    .dataframe tbody tr th:only-of-type {\n        vertical-align: middle;\n    }\n\n    .dataframe tbody tr th {\n        vertical-align: top;\n    }\n\n    .dataframe thead th {\n        text-align: right;\n    }\n</style>\n<table border=\"1\" class=\"dataframe\">\n  <thead>\n    <tr style=\"text-align: right;\">\n      <th></th>\n      <th>business_id</th>\n      <th>name</th>\n      <th>address</th>\n      <th>city</th>\n      <th>state</th>\n      <th>postal_code</th>\n      <th>latitude</th>\n      <th>longitude</th>\n      <th>stars</th>\n      <th>review_count</th>\n      <th>...</th>\n      <th>hours</th>\n      <th>first_review_date</th>\n      <th>max_date</th>\n      <th>elapsed_days</th>\n      <th>total_reviews</th>\n      <th>positive_reviews</th>\n      <th>ratio_positive_reviews</th>\n      <th>negative_reviews</th>\n      <th>ratio_negative_reviews</th>\n      <th>immediacy_index</th>\n    </tr>\n  </thead>\n  <tbody>\n    <tr>\n      <th>0</th>\n      <td>MTSW4McQd7CbVtyjqoe9mw</td>\n      <td>St Honore Pastries</td>\n      <td>935 Race St</td>\n      <td>Philadelphia</td>\n      <td>PA</td>\n      <td>19107</td>\n      <td>39.9555052</td>\n      <td>-75.1555641</td>\n      <td>4.0</td>\n      <td>80</td>\n      <td>...</td>\n      <td>{\"Monday\":\"7:0-20:0\",\"Tuesday\":\"7:0-20:0\",\"Wed...</td>\n      <td>2008-03-09 00:36:56</td>\n      <td>2022-01-19 19:48:45</td>\n      <td>5064</td>\n      <td>87</td>\n      <td>69.0</td>\n      <td>0.793103</td>\n      <td>9.0</td>\n      <td>0.103448</td>\n      <td>0.045977</td>\n    </tr>\n    <tr>\n      <th>1</th>\n      <td>CF33F8-E6oudUQ46HnavjQ</td>\n      <td>Sonic Drive-In</td>\n      <td>615 S Main St</td>\n      <td>Ashland City</td>\n      <td>TN</td>\n      <td>37015</td>\n      <td>36.269593</td>\n      <td>-87.058943</td>\n      <td>2.0</td>\n      <td>6</td>\n      <td>...</td>\n      <td>{\"Monday\":\"0:0-0:0\",\"Tuesday\":\"6:0-22:0\",\"Wedn...</td>\n      <td>2012-12-18 08:45:44</td>\n      <td>2022-01-19 19:48:45</td>\n      <td>3319</td>\n      <td>6</td>\n      <td>2.0</td>\n      <td>0.333333</td>\n      <td>4.0</td>\n      <td>0.666667</td>\n      <td>0.333333</td>\n    </tr>\n    <tr>\n      <th>2</th>\n      <td>k0hlBqXX-Bt0vf1op7Jr1w</td>\n      <td>Tsevi's Pub And Grill</td>\n      <td>8025 Mackenzie Rd</td>\n      <td>Affton</td>\n      <td>MO</td>\n      <td>63123</td>\n      <td>38.5651648</td>\n      <td>-90.3210868</td>\n      <td>3.0</td>\n      <td>19</td>\n      <td>...</td>\n      <td>null</td>\n      <td>2012-04-16 23:53:04</td>\n      <td>2022-01-19 19:48:45</td>\n      <td>3564</td>\n      <td>19</td>\n      <td>10.0</td>\n      <td>0.526316</td>\n      <td>8.0</td>\n      <td>0.421053</td>\n      <td>0.157895</td>\n    </tr>\n    <tr>\n      <th>3</th>\n      <td>bBDDEgkFA1Otx9Lfe7BZUQ</td>\n      <td>Sonic Drive-In</td>\n      <td>2312 Dickerson Pike</td>\n      <td>Nashville</td>\n      <td>TN</td>\n      <td>37207</td>\n      <td>36.2081024</td>\n      <td>-86.7681696</td>\n      <td>1.5</td>\n      <td>10</td>\n      <td>...</td>\n      <td>{\"Monday\":\"0:0-0:0\",\"Tuesday\":\"6:0-21:0\",\"Wedn...</td>\n      <td>2011-07-01 23:01:11</td>\n      <td>2022-01-19 19:48:45</td>\n      <td>3854</td>\n      <td>10</td>\n      <td>1.0</td>\n      <td>0.100000</td>\n      <td>8.0</td>\n      <td>0.800000</td>\n      <td>0.150000</td>\n    </tr>\n    <tr>\n      <th>4</th>\n      <td>eEOYSgkmpB90uNA7lDOMRA</td>\n      <td>Vietnamese Food Truck</td>\n      <td></td>\n      <td>Tampa Bay</td>\n      <td>FL</td>\n      <td>33602</td>\n      <td>27.9552692</td>\n      <td>-82.4563199</td>\n      <td>4.0</td>\n      <td>10</td>\n      <td>...</td>\n      <td>{\"Monday\":\"11:0-14:0\",\"Tuesday\":\"11:0-14:0\",\"W...</td>\n      <td>2018-07-25 14:35:33</td>\n      <td>2022-01-19 19:48:45</td>\n      <td>1274</td>\n      <td>11</td>\n      <td>8.0</td>\n      <td>0.727273</td>\n      <td>1.0</td>\n      <td>0.090909</td>\n      <td>0.363636</td>\n    </tr>\n  </tbody>\n</table>\n<p>5 rows × 23 columns</p>\n</div>"
     },
     "execution_count": 9,
     "metadata": {},
     "output_type": "execute_result"
    }
   ],
   "source": [
    "df_restaurants['immediacy_index'] = df_restaurants['stars'] / df_restaurants['total_reviews']\n",
    "df_restaurants.head()"
   ],
   "metadata": {
    "collapsed": false,
    "ExecuteTime": {
     "end_time": "2023-07-13T15:56:19.673123Z",
     "start_time": "2023-07-13T15:56:19.598744Z"
    }
   }
  },
  {
   "cell_type": "markdown",
   "source": [
    "### Curated Restaurant Features"
   ],
   "metadata": {
    "collapsed": false
   }
  },
  {
   "cell_type": "code",
   "execution_count": 10,
   "outputs": [
    {
     "data": {
      "text/plain": "              business_id state  stars  total_reviews  elapsed_days  \\\n0  MTSW4McQd7CbVtyjqoe9mw    PA    4.0             87          5064   \n1  CF33F8-E6oudUQ46HnavjQ    TN    2.0              6          3319   \n2  k0hlBqXX-Bt0vf1op7Jr1w    MO    3.0             19          3564   \n3  bBDDEgkFA1Otx9Lfe7BZUQ    TN    1.5             10          3854   \n4  eEOYSgkmpB90uNA7lDOMRA    FL    4.0             11          1274   \n\n   positive_reviews  ratio_positive_reviews  negative_reviews  \\\n0              69.0                0.793103               9.0   \n1               2.0                0.333333               4.0   \n2              10.0                0.526316               8.0   \n3               1.0                0.100000               8.0   \n4               8.0                0.727273               1.0   \n\n   ratio_negative_reviews  immediacy_index  \n0                0.103448         0.045977  \n1                0.666667         0.333333  \n2                0.421053         0.157895  \n3                0.800000         0.150000  \n4                0.090909         0.363636  ",
      "text/html": "<div>\n<style scoped>\n    .dataframe tbody tr th:only-of-type {\n        vertical-align: middle;\n    }\n\n    .dataframe tbody tr th {\n        vertical-align: top;\n    }\n\n    .dataframe thead th {\n        text-align: right;\n    }\n</style>\n<table border=\"1\" class=\"dataframe\">\n  <thead>\n    <tr style=\"text-align: right;\">\n      <th></th>\n      <th>business_id</th>\n      <th>state</th>\n      <th>stars</th>\n      <th>total_reviews</th>\n      <th>elapsed_days</th>\n      <th>positive_reviews</th>\n      <th>ratio_positive_reviews</th>\n      <th>negative_reviews</th>\n      <th>ratio_negative_reviews</th>\n      <th>immediacy_index</th>\n    </tr>\n  </thead>\n  <tbody>\n    <tr>\n      <th>0</th>\n      <td>MTSW4McQd7CbVtyjqoe9mw</td>\n      <td>PA</td>\n      <td>4.0</td>\n      <td>87</td>\n      <td>5064</td>\n      <td>69.0</td>\n      <td>0.793103</td>\n      <td>9.0</td>\n      <td>0.103448</td>\n      <td>0.045977</td>\n    </tr>\n    <tr>\n      <th>1</th>\n      <td>CF33F8-E6oudUQ46HnavjQ</td>\n      <td>TN</td>\n      <td>2.0</td>\n      <td>6</td>\n      <td>3319</td>\n      <td>2.0</td>\n      <td>0.333333</td>\n      <td>4.0</td>\n      <td>0.666667</td>\n      <td>0.333333</td>\n    </tr>\n    <tr>\n      <th>2</th>\n      <td>k0hlBqXX-Bt0vf1op7Jr1w</td>\n      <td>MO</td>\n      <td>3.0</td>\n      <td>19</td>\n      <td>3564</td>\n      <td>10.0</td>\n      <td>0.526316</td>\n      <td>8.0</td>\n      <td>0.421053</td>\n      <td>0.157895</td>\n    </tr>\n    <tr>\n      <th>3</th>\n      <td>bBDDEgkFA1Otx9Lfe7BZUQ</td>\n      <td>TN</td>\n      <td>1.5</td>\n      <td>10</td>\n      <td>3854</td>\n      <td>1.0</td>\n      <td>0.100000</td>\n      <td>8.0</td>\n      <td>0.800000</td>\n      <td>0.150000</td>\n    </tr>\n    <tr>\n      <th>4</th>\n      <td>eEOYSgkmpB90uNA7lDOMRA</td>\n      <td>FL</td>\n      <td>4.0</td>\n      <td>11</td>\n      <td>1274</td>\n      <td>8.0</td>\n      <td>0.727273</td>\n      <td>1.0</td>\n      <td>0.090909</td>\n      <td>0.363636</td>\n    </tr>\n  </tbody>\n</table>\n</div>"
     },
     "execution_count": 10,
     "metadata": {},
     "output_type": "execute_result"
    }
   ],
   "source": [
    "df_restaurants = df_restaurants[['business_id', 'state', 'stars', 'total_reviews', 'elapsed_days', 'positive_reviews', 'ratio_positive_reviews', 'negative_reviews', 'ratio_negative_reviews', 'immediacy_index']]\n",
    "df_restaurants.head()"
   ],
   "metadata": {
    "collapsed": false,
    "ExecuteTime": {
     "end_time": "2023-07-13T15:59:48.627649Z",
     "start_time": "2023-07-13T15:59:48.489945Z"
    }
   }
  },
  {
   "cell_type": "code",
   "execution_count": 11,
   "outputs": [
    {
     "data": {
      "text/plain": "(52268, 10)"
     },
     "execution_count": 11,
     "metadata": {},
     "output_type": "execute_result"
    }
   ],
   "source": [
    "df_restaurants.shape"
   ],
   "metadata": {
    "collapsed": false,
    "ExecuteTime": {
     "end_time": "2023-07-13T15:59:58.203743Z",
     "start_time": "2023-07-13T15:59:58.152146Z"
    }
   }
  },
  {
   "cell_type": "markdown",
   "source": [
    "## 2. User Features"
   ],
   "metadata": {
    "collapsed": false
   }
  },
  {
   "cell_type": "code",
   "execution_count": 19,
   "outputs": [
    {
     "data": {
      "text/plain": "(1445984, 22)"
     },
     "execution_count": 19,
     "metadata": {},
     "output_type": "execute_result"
    }
   ],
   "source": [
    "# Reading restaurant users information from the table\n",
    "df_restaurant_users = pd.read_sql_query(\"select * from restaurant_users\", cnx)\n",
    "df_restaurant_users.shape"
   ],
   "metadata": {
    "collapsed": false,
    "ExecuteTime": {
     "end_time": "2023-07-13T16:39:07.051699Z",
     "start_time": "2023-07-13T16:36:28.381405Z"
    }
   }
  },
  {
   "cell_type": "markdown",
   "source": [
    "#### Activity Length"
   ],
   "metadata": {
    "collapsed": false
   }
  },
  {
   "cell_type": "code",
   "execution_count": 20,
   "outputs": [
    {
     "data": {
      "text/plain": "                  user_id    name  review_count        yelping_since  useful  \\\n0  ---2PmXbF47D870stH1jqA   Susan            36  2012-10-24 13:20:46      63   \n1  ---UgP94gokyCDuB5zUssA  Leonel            16  2014-11-02 14:53:16       8   \n2  ---r61b7EpVPkb4UVme5tA   Brian             6  2013-02-07 00:35:37      10   \n3  ---zemaUC8WeJeWKqS6p9Q   Eiman            49  2019-01-21 02:07:11      23   \n4  --0DrQkM0FT-yCQRWw82uQ   Jimmy            25  2007-11-13 15:57:53      37   \n\n   funny  cool elite                                            friends  fans  \\\n0      4    36        o9QkuHIyxmqbORF7PeAbuw, Q70zvjAa9aawgW7KsNVGDA...     3   \n1      0     3        5tXRxr4T24Awl7vjyCvIcQ, a-Z3HSdECIJmlmpEpsC4Sg...     1   \n2      2     3        8YekFgT6VzrFDuhx5KZnjQ, RjDtN3v5EHctnZeLiDLiyQ...     1   \n3      8     8        JdNKDCkE__QpZBP-bnbshA, xmo4OqlD8ojBGi1SMDSeHA...     1   \n4     10     7                                   5Dg5-7AQTkDYXNf7hUXmaw     0   \n\n   ...  compliment_list  compliment_note  compliment_plain  compliment_cool  \\\n0  ...                0                0                 2                0   \n1  ...                0                1                 1                0   \n2  ...                0                0                 1                0   \n3  ...                0                0                 0                0   \n4  ...                0                0                 0                1   \n\n   compliment_funny  compliment_writer  compliment_photos  \\\n0                 0                  2                  0   \n1                 0                  0                  0   \n2                 0                  1                  0   \n3                 0                  1                  0   \n4                 1                  2                  0   \n\n      last_review_date    first_review_date  activity_length  \n0  2019-04-27 17:35:51  2012-10-24 13:33:39             2376  \n1  2021-09-17 17:36:13  2014-11-02 15:10:18             2511  \n2  2016-11-13 12:35:37  2014-05-06 14:00:28              921  \n3  2021-06-23 08:17:42  2021-06-23 08:17:42                0  \n4  2012-10-15 05:59:48  2012-10-15 05:59:48                0  \n\n[5 rows x 25 columns]",
      "text/html": "<div>\n<style scoped>\n    .dataframe tbody tr th:only-of-type {\n        vertical-align: middle;\n    }\n\n    .dataframe tbody tr th {\n        vertical-align: top;\n    }\n\n    .dataframe thead th {\n        text-align: right;\n    }\n</style>\n<table border=\"1\" class=\"dataframe\">\n  <thead>\n    <tr style=\"text-align: right;\">\n      <th></th>\n      <th>user_id</th>\n      <th>name</th>\n      <th>review_count</th>\n      <th>yelping_since</th>\n      <th>useful</th>\n      <th>funny</th>\n      <th>cool</th>\n      <th>elite</th>\n      <th>friends</th>\n      <th>fans</th>\n      <th>...</th>\n      <th>compliment_list</th>\n      <th>compliment_note</th>\n      <th>compliment_plain</th>\n      <th>compliment_cool</th>\n      <th>compliment_funny</th>\n      <th>compliment_writer</th>\n      <th>compliment_photos</th>\n      <th>last_review_date</th>\n      <th>first_review_date</th>\n      <th>activity_length</th>\n    </tr>\n  </thead>\n  <tbody>\n    <tr>\n      <th>0</th>\n      <td>---2PmXbF47D870stH1jqA</td>\n      <td>Susan</td>\n      <td>36</td>\n      <td>2012-10-24 13:20:46</td>\n      <td>63</td>\n      <td>4</td>\n      <td>36</td>\n      <td></td>\n      <td>o9QkuHIyxmqbORF7PeAbuw, Q70zvjAa9aawgW7KsNVGDA...</td>\n      <td>3</td>\n      <td>...</td>\n      <td>0</td>\n      <td>0</td>\n      <td>2</td>\n      <td>0</td>\n      <td>0</td>\n      <td>2</td>\n      <td>0</td>\n      <td>2019-04-27 17:35:51</td>\n      <td>2012-10-24 13:33:39</td>\n      <td>2376</td>\n    </tr>\n    <tr>\n      <th>1</th>\n      <td>---UgP94gokyCDuB5zUssA</td>\n      <td>Leonel</td>\n      <td>16</td>\n      <td>2014-11-02 14:53:16</td>\n      <td>8</td>\n      <td>0</td>\n      <td>3</td>\n      <td></td>\n      <td>5tXRxr4T24Awl7vjyCvIcQ, a-Z3HSdECIJmlmpEpsC4Sg...</td>\n      <td>1</td>\n      <td>...</td>\n      <td>0</td>\n      <td>1</td>\n      <td>1</td>\n      <td>0</td>\n      <td>0</td>\n      <td>0</td>\n      <td>0</td>\n      <td>2021-09-17 17:36:13</td>\n      <td>2014-11-02 15:10:18</td>\n      <td>2511</td>\n    </tr>\n    <tr>\n      <th>2</th>\n      <td>---r61b7EpVPkb4UVme5tA</td>\n      <td>Brian</td>\n      <td>6</td>\n      <td>2013-02-07 00:35:37</td>\n      <td>10</td>\n      <td>2</td>\n      <td>3</td>\n      <td></td>\n      <td>8YekFgT6VzrFDuhx5KZnjQ, RjDtN3v5EHctnZeLiDLiyQ...</td>\n      <td>1</td>\n      <td>...</td>\n      <td>0</td>\n      <td>0</td>\n      <td>1</td>\n      <td>0</td>\n      <td>0</td>\n      <td>1</td>\n      <td>0</td>\n      <td>2016-11-13 12:35:37</td>\n      <td>2014-05-06 14:00:28</td>\n      <td>921</td>\n    </tr>\n    <tr>\n      <th>3</th>\n      <td>---zemaUC8WeJeWKqS6p9Q</td>\n      <td>Eiman</td>\n      <td>49</td>\n      <td>2019-01-21 02:07:11</td>\n      <td>23</td>\n      <td>8</td>\n      <td>8</td>\n      <td></td>\n      <td>JdNKDCkE__QpZBP-bnbshA, xmo4OqlD8ojBGi1SMDSeHA...</td>\n      <td>1</td>\n      <td>...</td>\n      <td>0</td>\n      <td>0</td>\n      <td>0</td>\n      <td>0</td>\n      <td>0</td>\n      <td>1</td>\n      <td>0</td>\n      <td>2021-06-23 08:17:42</td>\n      <td>2021-06-23 08:17:42</td>\n      <td>0</td>\n    </tr>\n    <tr>\n      <th>4</th>\n      <td>--0DrQkM0FT-yCQRWw82uQ</td>\n      <td>Jimmy</td>\n      <td>25</td>\n      <td>2007-11-13 15:57:53</td>\n      <td>37</td>\n      <td>10</td>\n      <td>7</td>\n      <td></td>\n      <td>5Dg5-7AQTkDYXNf7hUXmaw</td>\n      <td>0</td>\n      <td>...</td>\n      <td>0</td>\n      <td>0</td>\n      <td>0</td>\n      <td>1</td>\n      <td>1</td>\n      <td>2</td>\n      <td>0</td>\n      <td>2012-10-15 05:59:48</td>\n      <td>2012-10-15 05:59:48</td>\n      <td>0</td>\n    </tr>\n  </tbody>\n</table>\n<p>5 rows × 25 columns</p>\n</div>"
     },
     "execution_count": 20,
     "metadata": {},
     "output_type": "execute_result"
    }
   ],
   "source": [
    "# Query to compute activity length from table by returning day elapsed between oldest and latest review\n",
    "df_activity = pd.read_sql_query(\"select user_id, max(date) as last_review_date, min(date) as first_review_date, CAST((julianday(max(date)) - julianday(min(date))) AS INT) as activity_length from restaurant_reviews group by user_id\", cnx)\n",
    "\n",
    "# filling any non-existing values with 0\n",
    "df_activity['activity_length'].isnull().sum(axis=0)\n",
    "\n",
    "# Set 'user_id' as the index of df_activity\n",
    "df_activity.set_index('user_id', inplace=True)\n",
    "\n",
    "# Join df_activity with df_restaurant_users on 'user_id'\n",
    "df_restaurant_users = df_restaurant_users.join(df_activity, on='user_id', how='left')\n",
    "df_restaurant_users.head()"
   ],
   "metadata": {
    "collapsed": false,
    "ExecuteTime": {
     "end_time": "2023-07-13T16:49:57.123101Z",
     "start_time": "2023-07-13T16:39:07.036052Z"
    }
   }
  },
  {
   "cell_type": "markdown",
   "source": [
    "#### Elite Count"
   ],
   "metadata": {
    "collapsed": false
   }
  },
  {
   "cell_type": "code",
   "execution_count": 21,
   "outputs": [
    {
     "data": {
      "text/plain": "                  user_id    name  review_count        yelping_since  useful  \\\n0  ---2PmXbF47D870stH1jqA   Susan            36  2012-10-24 13:20:46      63   \n1  ---UgP94gokyCDuB5zUssA  Leonel            16  2014-11-02 14:53:16       8   \n2  ---r61b7EpVPkb4UVme5tA   Brian             6  2013-02-07 00:35:37      10   \n3  ---zemaUC8WeJeWKqS6p9Q   Eiman            49  2019-01-21 02:07:11      23   \n4  --0DrQkM0FT-yCQRWw82uQ   Jimmy            25  2007-11-13 15:57:53      37   \n\n   funny  cool elite                                            friends  fans  \\\n0      4    36        o9QkuHIyxmqbORF7PeAbuw, Q70zvjAa9aawgW7KsNVGDA...     3   \n1      0     3        5tXRxr4T24Awl7vjyCvIcQ, a-Z3HSdECIJmlmpEpsC4Sg...     1   \n2      2     3        8YekFgT6VzrFDuhx5KZnjQ, RjDtN3v5EHctnZeLiDLiyQ...     1   \n3      8     8        JdNKDCkE__QpZBP-bnbshA, xmo4OqlD8ojBGi1SMDSeHA...     1   \n4     10     7                                   5Dg5-7AQTkDYXNf7hUXmaw     0   \n\n   ...  compliment_note  compliment_plain  compliment_cool  compliment_funny  \\\n0  ...                0                 2                0                 0   \n1  ...                1                 1                0                 0   \n2  ...                0                 1                0                 0   \n3  ...                0                 0                0                 0   \n4  ...                0                 0                1                 1   \n\n   compliment_writer  compliment_photos     last_review_date  \\\n0                  2                  0  2019-04-27 17:35:51   \n1                  0                  0  2021-09-17 17:36:13   \n2                  1                  0  2016-11-13 12:35:37   \n3                  1                  0  2021-06-23 08:17:42   \n4                  2                  0  2012-10-15 05:59:48   \n\n     first_review_date  activity_length  elite_count  \n0  2012-10-24 13:33:39             2376            0  \n1  2014-11-02 15:10:18             2511            0  \n2  2014-05-06 14:00:28              921            0  \n3  2021-06-23 08:17:42                0            0  \n4  2012-10-15 05:59:48                0            0  \n\n[5 rows x 26 columns]",
      "text/html": "<div>\n<style scoped>\n    .dataframe tbody tr th:only-of-type {\n        vertical-align: middle;\n    }\n\n    .dataframe tbody tr th {\n        vertical-align: top;\n    }\n\n    .dataframe thead th {\n        text-align: right;\n    }\n</style>\n<table border=\"1\" class=\"dataframe\">\n  <thead>\n    <tr style=\"text-align: right;\">\n      <th></th>\n      <th>user_id</th>\n      <th>name</th>\n      <th>review_count</th>\n      <th>yelping_since</th>\n      <th>useful</th>\n      <th>funny</th>\n      <th>cool</th>\n      <th>elite</th>\n      <th>friends</th>\n      <th>fans</th>\n      <th>...</th>\n      <th>compliment_note</th>\n      <th>compliment_plain</th>\n      <th>compliment_cool</th>\n      <th>compliment_funny</th>\n      <th>compliment_writer</th>\n      <th>compliment_photos</th>\n      <th>last_review_date</th>\n      <th>first_review_date</th>\n      <th>activity_length</th>\n      <th>elite_count</th>\n    </tr>\n  </thead>\n  <tbody>\n    <tr>\n      <th>0</th>\n      <td>---2PmXbF47D870stH1jqA</td>\n      <td>Susan</td>\n      <td>36</td>\n      <td>2012-10-24 13:20:46</td>\n      <td>63</td>\n      <td>4</td>\n      <td>36</td>\n      <td></td>\n      <td>o9QkuHIyxmqbORF7PeAbuw, Q70zvjAa9aawgW7KsNVGDA...</td>\n      <td>3</td>\n      <td>...</td>\n      <td>0</td>\n      <td>2</td>\n      <td>0</td>\n      <td>0</td>\n      <td>2</td>\n      <td>0</td>\n      <td>2019-04-27 17:35:51</td>\n      <td>2012-10-24 13:33:39</td>\n      <td>2376</td>\n      <td>0</td>\n    </tr>\n    <tr>\n      <th>1</th>\n      <td>---UgP94gokyCDuB5zUssA</td>\n      <td>Leonel</td>\n      <td>16</td>\n      <td>2014-11-02 14:53:16</td>\n      <td>8</td>\n      <td>0</td>\n      <td>3</td>\n      <td></td>\n      <td>5tXRxr4T24Awl7vjyCvIcQ, a-Z3HSdECIJmlmpEpsC4Sg...</td>\n      <td>1</td>\n      <td>...</td>\n      <td>1</td>\n      <td>1</td>\n      <td>0</td>\n      <td>0</td>\n      <td>0</td>\n      <td>0</td>\n      <td>2021-09-17 17:36:13</td>\n      <td>2014-11-02 15:10:18</td>\n      <td>2511</td>\n      <td>0</td>\n    </tr>\n    <tr>\n      <th>2</th>\n      <td>---r61b7EpVPkb4UVme5tA</td>\n      <td>Brian</td>\n      <td>6</td>\n      <td>2013-02-07 00:35:37</td>\n      <td>10</td>\n      <td>2</td>\n      <td>3</td>\n      <td></td>\n      <td>8YekFgT6VzrFDuhx5KZnjQ, RjDtN3v5EHctnZeLiDLiyQ...</td>\n      <td>1</td>\n      <td>...</td>\n      <td>0</td>\n      <td>1</td>\n      <td>0</td>\n      <td>0</td>\n      <td>1</td>\n      <td>0</td>\n      <td>2016-11-13 12:35:37</td>\n      <td>2014-05-06 14:00:28</td>\n      <td>921</td>\n      <td>0</td>\n    </tr>\n    <tr>\n      <th>3</th>\n      <td>---zemaUC8WeJeWKqS6p9Q</td>\n      <td>Eiman</td>\n      <td>49</td>\n      <td>2019-01-21 02:07:11</td>\n      <td>23</td>\n      <td>8</td>\n      <td>8</td>\n      <td></td>\n      <td>JdNKDCkE__QpZBP-bnbshA, xmo4OqlD8ojBGi1SMDSeHA...</td>\n      <td>1</td>\n      <td>...</td>\n      <td>0</td>\n      <td>0</td>\n      <td>0</td>\n      <td>0</td>\n      <td>1</td>\n      <td>0</td>\n      <td>2021-06-23 08:17:42</td>\n      <td>2021-06-23 08:17:42</td>\n      <td>0</td>\n      <td>0</td>\n    </tr>\n    <tr>\n      <th>4</th>\n      <td>--0DrQkM0FT-yCQRWw82uQ</td>\n      <td>Jimmy</td>\n      <td>25</td>\n      <td>2007-11-13 15:57:53</td>\n      <td>37</td>\n      <td>10</td>\n      <td>7</td>\n      <td></td>\n      <td>5Dg5-7AQTkDYXNf7hUXmaw</td>\n      <td>0</td>\n      <td>...</td>\n      <td>0</td>\n      <td>0</td>\n      <td>1</td>\n      <td>1</td>\n      <td>2</td>\n      <td>0</td>\n      <td>2012-10-15 05:59:48</td>\n      <td>2012-10-15 05:59:48</td>\n      <td>0</td>\n      <td>0</td>\n    </tr>\n  </tbody>\n</table>\n<p>5 rows × 26 columns</p>\n</div>"
     },
     "execution_count": 21,
     "metadata": {},
     "output_type": "execute_result"
    }
   ],
   "source": [
    "# as `elite` field is array of yearys user has been elite user. It splits the array and count elements in the array\n",
    "df_restaurant_users['elite_count'] = df_restaurant_users['elite'].map(lambda x: len([elite.strip() for elite in x.split(',')]) if x else 0)\n",
    "df_restaurant_users.head()"
   ],
   "metadata": {
    "collapsed": false,
    "ExecuteTime": {
     "end_time": "2023-07-13T16:49:58.369998Z",
     "start_time": "2023-07-13T16:49:57.113286Z"
    }
   }
  },
  {
   "cell_type": "markdown",
   "source": [
    "#### Number of Friends"
   ],
   "metadata": {
    "collapsed": false
   }
  },
  {
   "cell_type": "code",
   "execution_count": 22,
   "outputs": [],
   "source": [
    "# as `friends` field is array of user_ids. It splits the array and count elements in the array\n",
    "df_restaurant_users['no_friends'] = df_restaurant_users['friends'].map(lambda x: len([friend.strip() for friend in x.split(', ')]) if len(str(x)) > 6 else 0)"
   ],
   "metadata": {
    "collapsed": false,
    "ExecuteTime": {
     "end_time": "2023-07-13T16:50:23.241841Z",
     "start_time": "2023-07-13T16:49:58.379178Z"
    }
   }
  },
  {
   "cell_type": "markdown",
   "source": [
    "### Curated Restaurant Users"
   ],
   "metadata": {
    "collapsed": false
   }
  },
  {
   "cell_type": "code",
   "execution_count": 23,
   "outputs": [
    {
     "data": {
      "text/plain": "                  user_id  review_count  useful  fans  average_stars  \\\n0  ---2PmXbF47D870stH1jqA            36      63     3           4.98   \n1  ---UgP94gokyCDuB5zUssA            16       8     1           3.44   \n2  ---r61b7EpVPkb4UVme5tA             6      10     1           4.17   \n3  ---zemaUC8WeJeWKqS6p9Q            49      23     1           3.32   \n4  --0DrQkM0FT-yCQRWw82uQ            25      37     0           2.94   \n\n   compliment_photos  activity_length  elite_count  no_friends  \n0                  0             2376            0         420  \n1                  0             2511            0           3  \n2                  0              921            0          30  \n3                  0                0            0          26  \n4                  0                0            0           1  ",
      "text/html": "<div>\n<style scoped>\n    .dataframe tbody tr th:only-of-type {\n        vertical-align: middle;\n    }\n\n    .dataframe tbody tr th {\n        vertical-align: top;\n    }\n\n    .dataframe thead th {\n        text-align: right;\n    }\n</style>\n<table border=\"1\" class=\"dataframe\">\n  <thead>\n    <tr style=\"text-align: right;\">\n      <th></th>\n      <th>user_id</th>\n      <th>review_count</th>\n      <th>useful</th>\n      <th>fans</th>\n      <th>average_stars</th>\n      <th>compliment_photos</th>\n      <th>activity_length</th>\n      <th>elite_count</th>\n      <th>no_friends</th>\n    </tr>\n  </thead>\n  <tbody>\n    <tr>\n      <th>0</th>\n      <td>---2PmXbF47D870stH1jqA</td>\n      <td>36</td>\n      <td>63</td>\n      <td>3</td>\n      <td>4.98</td>\n      <td>0</td>\n      <td>2376</td>\n      <td>0</td>\n      <td>420</td>\n    </tr>\n    <tr>\n      <th>1</th>\n      <td>---UgP94gokyCDuB5zUssA</td>\n      <td>16</td>\n      <td>8</td>\n      <td>1</td>\n      <td>3.44</td>\n      <td>0</td>\n      <td>2511</td>\n      <td>0</td>\n      <td>3</td>\n    </tr>\n    <tr>\n      <th>2</th>\n      <td>---r61b7EpVPkb4UVme5tA</td>\n      <td>6</td>\n      <td>10</td>\n      <td>1</td>\n      <td>4.17</td>\n      <td>0</td>\n      <td>921</td>\n      <td>0</td>\n      <td>30</td>\n    </tr>\n    <tr>\n      <th>3</th>\n      <td>---zemaUC8WeJeWKqS6p9Q</td>\n      <td>49</td>\n      <td>23</td>\n      <td>1</td>\n      <td>3.32</td>\n      <td>0</td>\n      <td>0</td>\n      <td>0</td>\n      <td>26</td>\n    </tr>\n    <tr>\n      <th>4</th>\n      <td>--0DrQkM0FT-yCQRWw82uQ</td>\n      <td>25</td>\n      <td>37</td>\n      <td>0</td>\n      <td>2.94</td>\n      <td>0</td>\n      <td>0</td>\n      <td>0</td>\n      <td>1</td>\n    </tr>\n  </tbody>\n</table>\n</div>"
     },
     "execution_count": 23,
     "metadata": {},
     "output_type": "execute_result"
    }
   ],
   "source": [
    "df_restaurant_users = df_restaurant_users[['user_id', 'review_count', 'useful', 'fans', 'average_stars', 'compliment_photos', 'activity_length', 'elite_count', 'no_friends']]\n",
    "df_restaurant_users.head()"
   ],
   "metadata": {
    "collapsed": false,
    "ExecuteTime": {
     "end_time": "2023-07-13T16:50:29.192016Z",
     "start_time": "2023-07-13T16:50:23.279738Z"
    }
   }
  },
  {
   "cell_type": "code",
   "execution_count": 24,
   "outputs": [
    {
     "data": {
      "text/plain": "(1445984, 9)"
     },
     "execution_count": 24,
     "metadata": {},
     "output_type": "execute_result"
    }
   ],
   "source": [
    "df_restaurant_users.shape"
   ],
   "metadata": {
    "collapsed": false,
    "ExecuteTime": {
     "end_time": "2023-07-13T16:50:29.395827Z",
     "start_time": "2023-07-13T16:50:29.212207Z"
    }
   }
  },
  {
   "cell_type": "markdown",
   "source": [
    "### Recency, Frequency and Monetary Value\n",
    "\n",
    "These are additional user features that we intend to use but are stored at the review level. Hence, a new dataframe, which we will merge with the review data in the future. [Ngo-Ye and Sinha, 2014]\n",
    "- **Recency:** Days between reviewer's current and previous review\n",
    "- **Frequency:** Reviewer's previous review count\n",
    "- **Monetary Value:** Average number of helpfulness votes received by the reviewer across all the reviews one has written\n",
    "=$\\frac{\\sum\\limits_{i=1}^N{x_{\\mathrm{i}}-x_{\\text {current }}}}{N-1}$\n",
    "where N is the total number of reviews written by the reviewer, $x_i$ is the number of useful votes for a review i written by the reviewer, and $x_{\\text {current }}$ is the number of useful votes for the current review.\n",
    "\n",
    "[Ngo-Ye and Sinha, 2014]: https://www.sciencedirect.com/science/article/pii/S0167923614000128\n"
   ],
   "metadata": {
    "collapsed": false
   }
  },
  {
   "cell_type": "code",
   "execution_count": 28,
   "outputs": [
    {
     "name": "stderr",
     "output_type": "stream",
     "text": [
      "100%|██████████| 1445984/1445984 [1:23:17<00:00, 289.33it/s] \n"
     ]
    },
    {
     "data": {
      "text/plain": "                review_id  frequency  recency  monetary_value\n0  CCOvQvA1nNba2LiapbQoJQ         21      489        1.523810\n1  tkOmUEU2O1ixVYfE8AXo3Q         20      486        1.571429\n2  S6qcxvgYMymqVlWcaNDm2Q         19        2        1.523810\n3  oPJZvPTykI8jQfb38m-4_w         18       92        1.523810\n4  keNOvKVgHOyIGmZNnMXJHw         17       42        1.523810",
      "text/html": "<div>\n<style scoped>\n    .dataframe tbody tr th:only-of-type {\n        vertical-align: middle;\n    }\n\n    .dataframe tbody tr th {\n        vertical-align: top;\n    }\n\n    .dataframe thead th {\n        text-align: right;\n    }\n</style>\n<table border=\"1\" class=\"dataframe\">\n  <thead>\n    <tr style=\"text-align: right;\">\n      <th></th>\n      <th>review_id</th>\n      <th>frequency</th>\n      <th>recency</th>\n      <th>monetary_value</th>\n    </tr>\n  </thead>\n  <tbody>\n    <tr>\n      <th>0</th>\n      <td>CCOvQvA1nNba2LiapbQoJQ</td>\n      <td>21</td>\n      <td>489</td>\n      <td>1.523810</td>\n    </tr>\n    <tr>\n      <th>1</th>\n      <td>tkOmUEU2O1ixVYfE8AXo3Q</td>\n      <td>20</td>\n      <td>486</td>\n      <td>1.571429</td>\n    </tr>\n    <tr>\n      <th>2</th>\n      <td>S6qcxvgYMymqVlWcaNDm2Q</td>\n      <td>19</td>\n      <td>2</td>\n      <td>1.523810</td>\n    </tr>\n    <tr>\n      <th>3</th>\n      <td>oPJZvPTykI8jQfb38m-4_w</td>\n      <td>18</td>\n      <td>92</td>\n      <td>1.523810</td>\n    </tr>\n    <tr>\n      <th>4</th>\n      <td>keNOvKVgHOyIGmZNnMXJHw</td>\n      <td>17</td>\n      <td>42</td>\n      <td>1.523810</td>\n    </tr>\n  </tbody>\n</table>\n</div>"
     },
     "execution_count": 28,
     "metadata": {},
     "output_type": "execute_result"
    }
   ],
   "source": [
    "scores = []\n",
    "\n",
    "# Indexing  df_restaurant_users DataFrame by 'user_id'\n",
    "df_restaurant_users.set_index('user_id', inplace=True)\n",
    "\n",
    "for user in tqdm(df_restaurant_users.index):\n",
    "     # SQL query to retrieve the 'review_id', 'useful', and 'date' columns from the 'restaurant_reviews' table for the current user.\n",
    "    df_user_reviews = pd.read_sql_query(\"select review_id, useful, date from restaurant_reviews where user_id == '{}'\".format(user), cnx)\n",
    "\n",
    "    # converting to a datetime format\n",
    "    df_user_reviews['date'] = pd.to_datetime(df_user_reviews['date'], format='%Y-%m-%d %H:%M:%S')\n",
    "\n",
    "    # sorting in descending order based on the 'date' column\n",
    "    df_user_reviews.sort_values('date', inplace=True, ascending=False)\n",
    "\n",
    "    # sum of all values in the 'useful' column\n",
    "    total_useful_votes = sum(df_user_reviews['useful'].values)\n",
    "\n",
    "    # computing number of reviews posted by the user\n",
    "    no_of_reviews = len(df_user_reviews)\n",
    "\n",
    "    rows = df_user_reviews.values\n",
    "\n",
    "    for index, row in enumerate(rows):\n",
    "        # The recency variable is calculated as the difference in days between the 'date' value of the current row and the next row's 'date' value. If it is the last row, recency is set to 0\n",
    "        recency = (row[2] - rows[index + 1][2]).days if index != no_of_reviews - 1 else 0\n",
    "\n",
    "        # The frequency variable is calculated as the remaining number of reviews after the current index.\n",
    "        frequency = no_of_reviews - (index + 1)\n",
    "\n",
    "        # The monetary variable is calculated as the difference between total_useful_votes and the 'useful' value of the current row, divided by the remaining number of reviews. If there is only one review, monetary is set to 0.0.\n",
    "        monetary = (total_useful_votes - row[1]) / (no_of_reviews - 1) if no_of_reviews > 1 else 0.0\n",
    "\n",
    "        # storing the computed scores\n",
    "        scores.append({\n",
    "            'review_id': row[0],\n",
    "            'frequency': frequency,\n",
    "            'recency': recency,\n",
    "            'monetary_value': monetary\n",
    "        })\n",
    "\n",
    "# creating a new RFM score DataFrame for later use\n",
    "df_rfm_scores = pd.DataFrame(scores, columns=['review_id', 'frequency', 'recency', 'monetary_value'])\n",
    "df_rfm_scores.head()"
   ],
   "metadata": {
    "collapsed": false,
    "ExecuteTime": {
     "end_time": "2023-07-13T18:16:05.581204Z",
     "start_time": "2023-07-13T16:52:39.638986Z"
    }
   }
  },
  {
   "cell_type": "code",
   "execution_count": 30,
   "outputs": [
    {
     "data": {
      "text/plain": "(4724464, 4)"
     },
     "execution_count": 30,
     "metadata": {},
     "output_type": "execute_result"
    }
   ],
   "source": [
    "df_rfm_scores.shape"
   ],
   "metadata": {
    "collapsed": false,
    "ExecuteTime": {
     "end_time": "2023-07-13T18:23:36.393190Z",
     "start_time": "2023-07-13T18:23:36.367058Z"
    }
   }
  },
  {
   "cell_type": "markdown",
   "source": [
    "## 2. Review Features"
   ],
   "metadata": {
    "collapsed": false
   }
  },
  {
   "cell_type": "code",
   "execution_count": 34,
   "outputs": [
    {
     "data": {
      "text/plain": "(1969192, 9)"
     },
     "execution_count": 34,
     "metadata": {},
     "output_type": "execute_result"
    }
   ],
   "source": [
    "# Reading restaurant review with atleast one `useful` vote from the table\n",
    "df_restaurant_reviews = pd.read_sql_query(\"select * from restaurant_reviews where useful >= 1\", cnx)\n",
    "df_restaurant_reviews.shape"
   ],
   "metadata": {
    "collapsed": false,
    "ExecuteTime": {
     "end_time": "2023-07-13T18:28:17.849388Z",
     "start_time": "2023-07-13T18:26:38.640723Z"
    }
   }
  },
  {
   "cell_type": "markdown",
   "source": [
    "### Recency, Frequency and Monetary Value"
   ],
   "metadata": {
    "collapsed": false
   }
  },
  {
   "cell_type": "code",
   "execution_count": 35,
   "outputs": [
    {
     "data": {
      "text/plain": "                review_id                 user_id             business_id  \\\n0  AqPFMleE6RsU23_auESxiA  _7bHUi9Uuf5__HHc_Q8guQ  kxX2SOes4o-D3ZQBkiMRfA   \n1  Sx8TMOWLNuJBWer-0pcmoA  bcjbaE6dDog4jkNY91ncLQ  e4Vwtrqf-wpJfwesgvdgxQ   \n2  JrIxlS1TzJ-iCu79ul40cQ  eUta8W_HdHMXPzLBBZhL1A  04UD14gamNjLY0IDYVhHJg   \n3  _ZeMknuYdlQcUqng_Im3yg  yfFzsLmaWF2d4Sr0UNbBgg  LHSTtnW3YHCeUkRDGyJOyw   \n4  LnGZB0fjfgeVDVz5IHuEVA  j2wlzrntrbKwyOcOiB3l3w  rBdG_23USc7DletfZ11xGA   \n\n   stars  useful  funny  cool  \\\n0      5       1      0     1   \n1      4       1      0     1   \n2      1       1      2     1   \n3      5       2      0     0   \n4      4       1      0     0   \n\n                                                text                 date  \\\n0  Wow!  Yummy, different,  delicious.   Our favo...  2015-01-04 00:01:03   \n1  Cute interior and owner (?) gave us tour of up...  2017-01-14 20:54:15   \n2  I am a long term frequent customer of this est...  2015-09-23 23:10:31   \n3  Amazingly amazing wings and homemade bleu chee...  2015-08-07 02:29:16   \n4  The hubby and I have been here on multiple occ...  2014-08-10 19:41:43   \n\n   frequency  recency  monetary_value  \n0          0        0            0.00  \n1         48       26            0.31  \n2          0        0            0.00  \n3          0        0            0.00  \n4         49      135            3.68  ",
      "text/html": "<div>\n<style scoped>\n    .dataframe tbody tr th:only-of-type {\n        vertical-align: middle;\n    }\n\n    .dataframe tbody tr th {\n        vertical-align: top;\n    }\n\n    .dataframe thead th {\n        text-align: right;\n    }\n</style>\n<table border=\"1\" class=\"dataframe\">\n  <thead>\n    <tr style=\"text-align: right;\">\n      <th></th>\n      <th>review_id</th>\n      <th>user_id</th>\n      <th>business_id</th>\n      <th>stars</th>\n      <th>useful</th>\n      <th>funny</th>\n      <th>cool</th>\n      <th>text</th>\n      <th>date</th>\n      <th>frequency</th>\n      <th>recency</th>\n      <th>monetary_value</th>\n    </tr>\n  </thead>\n  <tbody>\n    <tr>\n      <th>0</th>\n      <td>AqPFMleE6RsU23_auESxiA</td>\n      <td>_7bHUi9Uuf5__HHc_Q8guQ</td>\n      <td>kxX2SOes4o-D3ZQBkiMRfA</td>\n      <td>5</td>\n      <td>1</td>\n      <td>0</td>\n      <td>1</td>\n      <td>Wow!  Yummy, different,  delicious.   Our favo...</td>\n      <td>2015-01-04 00:01:03</td>\n      <td>0</td>\n      <td>0</td>\n      <td>0.00</td>\n    </tr>\n    <tr>\n      <th>1</th>\n      <td>Sx8TMOWLNuJBWer-0pcmoA</td>\n      <td>bcjbaE6dDog4jkNY91ncLQ</td>\n      <td>e4Vwtrqf-wpJfwesgvdgxQ</td>\n      <td>4</td>\n      <td>1</td>\n      <td>0</td>\n      <td>1</td>\n      <td>Cute interior and owner (?) gave us tour of up...</td>\n      <td>2017-01-14 20:54:15</td>\n      <td>48</td>\n      <td>26</td>\n      <td>0.31</td>\n    </tr>\n    <tr>\n      <th>2</th>\n      <td>JrIxlS1TzJ-iCu79ul40cQ</td>\n      <td>eUta8W_HdHMXPzLBBZhL1A</td>\n      <td>04UD14gamNjLY0IDYVhHJg</td>\n      <td>1</td>\n      <td>1</td>\n      <td>2</td>\n      <td>1</td>\n      <td>I am a long term frequent customer of this est...</td>\n      <td>2015-09-23 23:10:31</td>\n      <td>0</td>\n      <td>0</td>\n      <td>0.00</td>\n    </tr>\n    <tr>\n      <th>3</th>\n      <td>_ZeMknuYdlQcUqng_Im3yg</td>\n      <td>yfFzsLmaWF2d4Sr0UNbBgg</td>\n      <td>LHSTtnW3YHCeUkRDGyJOyw</td>\n      <td>5</td>\n      <td>2</td>\n      <td>0</td>\n      <td>0</td>\n      <td>Amazingly amazing wings and homemade bleu chee...</td>\n      <td>2015-08-07 02:29:16</td>\n      <td>0</td>\n      <td>0</td>\n      <td>0.00</td>\n    </tr>\n    <tr>\n      <th>4</th>\n      <td>LnGZB0fjfgeVDVz5IHuEVA</td>\n      <td>j2wlzrntrbKwyOcOiB3l3w</td>\n      <td>rBdG_23USc7DletfZ11xGA</td>\n      <td>4</td>\n      <td>1</td>\n      <td>0</td>\n      <td>0</td>\n      <td>The hubby and I have been here on multiple occ...</td>\n      <td>2014-08-10 19:41:43</td>\n      <td>49</td>\n      <td>135</td>\n      <td>3.68</td>\n    </tr>\n  </tbody>\n</table>\n</div>"
     },
     "execution_count": 35,
     "metadata": {},
     "output_type": "execute_result"
    }
   ],
   "source": [
    "# merging the RFM scores computed in user feature section to the reviews\n",
    "\n",
    "# Indexing  df_rfm_scores DataFrame by 'review_id'\n",
    "df_rfm_scores.set_index('review_id', inplace=True)\n",
    "\n",
    "# Join df_rfm_scores with df_restaurant_reviews on 'review_id'\n",
    "df_restaurant_reviews = df_restaurant_reviews.join(df_rfm_scores, on='review_id', how='left')\n",
    "\n",
    "df_restaurant_reviews.head()"
   ],
   "metadata": {
    "collapsed": false,
    "ExecuteTime": {
     "end_time": "2023-07-13T18:28:52.099410Z",
     "start_time": "2023-07-13T18:28:35.125950Z"
    }
   }
  },
  {
   "cell_type": "markdown",
   "source": [
    "#### Elapsed Days"
   ],
   "metadata": {
    "collapsed": false
   }
  },
  {
   "cell_type": "code",
   "execution_count": 36,
   "outputs": [
    {
     "data": {
      "text/plain": "                review_id                 user_id             business_id  \\\n0  AqPFMleE6RsU23_auESxiA  _7bHUi9Uuf5__HHc_Q8guQ  kxX2SOes4o-D3ZQBkiMRfA   \n1  Sx8TMOWLNuJBWer-0pcmoA  bcjbaE6dDog4jkNY91ncLQ  e4Vwtrqf-wpJfwesgvdgxQ   \n2  JrIxlS1TzJ-iCu79ul40cQ  eUta8W_HdHMXPzLBBZhL1A  04UD14gamNjLY0IDYVhHJg   \n3  _ZeMknuYdlQcUqng_Im3yg  yfFzsLmaWF2d4Sr0UNbBgg  LHSTtnW3YHCeUkRDGyJOyw   \n4  LnGZB0fjfgeVDVz5IHuEVA  j2wlzrntrbKwyOcOiB3l3w  rBdG_23USc7DletfZ11xGA   \n\n   stars  useful  funny  cool  \\\n0      5       1      0     1   \n1      4       1      0     1   \n2      1       1      2     1   \n3      5       2      0     0   \n4      4       1      0     0   \n\n                                                text                date  \\\n0  Wow!  Yummy, different,  delicious.   Our favo... 2015-01-04 00:01:03   \n1  Cute interior and owner (?) gave us tour of up... 2017-01-14 20:54:15   \n2  I am a long term frequent customer of this est... 2015-09-23 23:10:31   \n3  Amazingly amazing wings and homemade bleu chee... 2015-08-07 02:29:16   \n4  The hubby and I have been here on multiple occ... 2014-08-10 19:41:43   \n\n   frequency  recency  monetary_value            max_date  elapsed_days  \n0          0        0            0.00 2022-01-19 19:48:45          2572  \n1         48       26            0.31 2022-01-19 19:48:45          1830  \n2          0        0            0.00 2022-01-19 19:48:45          2309  \n3          0        0            0.00 2022-01-19 19:48:45          2357  \n4         49      135            3.68 2022-01-19 19:48:45          2719  ",
      "text/html": "<div>\n<style scoped>\n    .dataframe tbody tr th:only-of-type {\n        vertical-align: middle;\n    }\n\n    .dataframe tbody tr th {\n        vertical-align: top;\n    }\n\n    .dataframe thead th {\n        text-align: right;\n    }\n</style>\n<table border=\"1\" class=\"dataframe\">\n  <thead>\n    <tr style=\"text-align: right;\">\n      <th></th>\n      <th>review_id</th>\n      <th>user_id</th>\n      <th>business_id</th>\n      <th>stars</th>\n      <th>useful</th>\n      <th>funny</th>\n      <th>cool</th>\n      <th>text</th>\n      <th>date</th>\n      <th>frequency</th>\n      <th>recency</th>\n      <th>monetary_value</th>\n      <th>max_date</th>\n      <th>elapsed_days</th>\n    </tr>\n  </thead>\n  <tbody>\n    <tr>\n      <th>0</th>\n      <td>AqPFMleE6RsU23_auESxiA</td>\n      <td>_7bHUi9Uuf5__HHc_Q8guQ</td>\n      <td>kxX2SOes4o-D3ZQBkiMRfA</td>\n      <td>5</td>\n      <td>1</td>\n      <td>0</td>\n      <td>1</td>\n      <td>Wow!  Yummy, different,  delicious.   Our favo...</td>\n      <td>2015-01-04 00:01:03</td>\n      <td>0</td>\n      <td>0</td>\n      <td>0.00</td>\n      <td>2022-01-19 19:48:45</td>\n      <td>2572</td>\n    </tr>\n    <tr>\n      <th>1</th>\n      <td>Sx8TMOWLNuJBWer-0pcmoA</td>\n      <td>bcjbaE6dDog4jkNY91ncLQ</td>\n      <td>e4Vwtrqf-wpJfwesgvdgxQ</td>\n      <td>4</td>\n      <td>1</td>\n      <td>0</td>\n      <td>1</td>\n      <td>Cute interior and owner (?) gave us tour of up...</td>\n      <td>2017-01-14 20:54:15</td>\n      <td>48</td>\n      <td>26</td>\n      <td>0.31</td>\n      <td>2022-01-19 19:48:45</td>\n      <td>1830</td>\n    </tr>\n    <tr>\n      <th>2</th>\n      <td>JrIxlS1TzJ-iCu79ul40cQ</td>\n      <td>eUta8W_HdHMXPzLBBZhL1A</td>\n      <td>04UD14gamNjLY0IDYVhHJg</td>\n      <td>1</td>\n      <td>1</td>\n      <td>2</td>\n      <td>1</td>\n      <td>I am a long term frequent customer of this est...</td>\n      <td>2015-09-23 23:10:31</td>\n      <td>0</td>\n      <td>0</td>\n      <td>0.00</td>\n      <td>2022-01-19 19:48:45</td>\n      <td>2309</td>\n    </tr>\n    <tr>\n      <th>3</th>\n      <td>_ZeMknuYdlQcUqng_Im3yg</td>\n      <td>yfFzsLmaWF2d4Sr0UNbBgg</td>\n      <td>LHSTtnW3YHCeUkRDGyJOyw</td>\n      <td>5</td>\n      <td>2</td>\n      <td>0</td>\n      <td>0</td>\n      <td>Amazingly amazing wings and homemade bleu chee...</td>\n      <td>2015-08-07 02:29:16</td>\n      <td>0</td>\n      <td>0</td>\n      <td>0.00</td>\n      <td>2022-01-19 19:48:45</td>\n      <td>2357</td>\n    </tr>\n    <tr>\n      <th>4</th>\n      <td>LnGZB0fjfgeVDVz5IHuEVA</td>\n      <td>j2wlzrntrbKwyOcOiB3l3w</td>\n      <td>rBdG_23USc7DletfZ11xGA</td>\n      <td>4</td>\n      <td>1</td>\n      <td>0</td>\n      <td>0</td>\n      <td>The hubby and I have been here on multiple occ...</td>\n      <td>2014-08-10 19:41:43</td>\n      <td>49</td>\n      <td>135</td>\n      <td>3.68</td>\n      <td>2022-01-19 19:48:45</td>\n      <td>2719</td>\n    </tr>\n  </tbody>\n</table>\n</div>"
     },
     "execution_count": 36,
     "metadata": {},
     "output_type": "execute_result"
    }
   ],
   "source": [
    "df_restaurant_reviews['date'] = pd.to_datetime(df_restaurant_reviews['date'], format='%Y-%m-%d %H:%M:%S')\n",
    "df_restaurant_reviews['max_date'] = max_review_date\n",
    "df_restaurant_reviews['elapsed_days'] = (df_restaurant_reviews['max_date'] - df_restaurant_reviews['date']).dt.days\n",
    "df_restaurant_reviews.head()"
   ],
   "metadata": {
    "collapsed": false,
    "ExecuteTime": {
     "end_time": "2023-07-13T18:33:20.485326Z",
     "start_time": "2023-07-13T18:33:12.553328Z"
    }
   }
  },
  {
   "cell_type": "markdown",
   "source": [
    "#### Day of the week and Month the review was posted"
   ],
   "metadata": {
    "collapsed": false
   }
  },
  {
   "cell_type": "code",
   "execution_count": 37,
   "outputs": [
    {
     "data": {
      "text/plain": "                review_id                 user_id             business_id  \\\n0  AqPFMleE6RsU23_auESxiA  _7bHUi9Uuf5__HHc_Q8guQ  kxX2SOes4o-D3ZQBkiMRfA   \n1  Sx8TMOWLNuJBWer-0pcmoA  bcjbaE6dDog4jkNY91ncLQ  e4Vwtrqf-wpJfwesgvdgxQ   \n2  JrIxlS1TzJ-iCu79ul40cQ  eUta8W_HdHMXPzLBBZhL1A  04UD14gamNjLY0IDYVhHJg   \n3  _ZeMknuYdlQcUqng_Im3yg  yfFzsLmaWF2d4Sr0UNbBgg  LHSTtnW3YHCeUkRDGyJOyw   \n4  LnGZB0fjfgeVDVz5IHuEVA  j2wlzrntrbKwyOcOiB3l3w  rBdG_23USc7DletfZ11xGA   \n\n   stars  useful  funny  cool  \\\n0      5       1      0     1   \n1      4       1      0     1   \n2      1       1      2     1   \n3      5       2      0     0   \n4      4       1      0     0   \n\n                                                text                date  \\\n0  Wow!  Yummy, different,  delicious.   Our favo... 2015-01-04 00:01:03   \n1  Cute interior and owner (?) gave us tour of up... 2017-01-14 20:54:15   \n2  I am a long term frequent customer of this est... 2015-09-23 23:10:31   \n3  Amazingly amazing wings and homemade bleu chee... 2015-08-07 02:29:16   \n4  The hubby and I have been here on multiple occ... 2014-08-10 19:41:43   \n\n   frequency  recency  monetary_value            max_date  elapsed_days  \\\n0          0        0            0.00 2022-01-19 19:48:45          2572   \n1         48       26            0.31 2022-01-19 19:48:45          1830   \n2          0        0            0.00 2022-01-19 19:48:45          2309   \n3          0        0            0.00 2022-01-19 19:48:45          2357   \n4         49      135            3.68 2022-01-19 19:48:45          2719   \n\n   day_of_week  month  \n0            6      1  \n1            5      1  \n2            2      9  \n3            4      8  \n4            6      8  ",
      "text/html": "<div>\n<style scoped>\n    .dataframe tbody tr th:only-of-type {\n        vertical-align: middle;\n    }\n\n    .dataframe tbody tr th {\n        vertical-align: top;\n    }\n\n    .dataframe thead th {\n        text-align: right;\n    }\n</style>\n<table border=\"1\" class=\"dataframe\">\n  <thead>\n    <tr style=\"text-align: right;\">\n      <th></th>\n      <th>review_id</th>\n      <th>user_id</th>\n      <th>business_id</th>\n      <th>stars</th>\n      <th>useful</th>\n      <th>funny</th>\n      <th>cool</th>\n      <th>text</th>\n      <th>date</th>\n      <th>frequency</th>\n      <th>recency</th>\n      <th>monetary_value</th>\n      <th>max_date</th>\n      <th>elapsed_days</th>\n      <th>day_of_week</th>\n      <th>month</th>\n    </tr>\n  </thead>\n  <tbody>\n    <tr>\n      <th>0</th>\n      <td>AqPFMleE6RsU23_auESxiA</td>\n      <td>_7bHUi9Uuf5__HHc_Q8guQ</td>\n      <td>kxX2SOes4o-D3ZQBkiMRfA</td>\n      <td>5</td>\n      <td>1</td>\n      <td>0</td>\n      <td>1</td>\n      <td>Wow!  Yummy, different,  delicious.   Our favo...</td>\n      <td>2015-01-04 00:01:03</td>\n      <td>0</td>\n      <td>0</td>\n      <td>0.00</td>\n      <td>2022-01-19 19:48:45</td>\n      <td>2572</td>\n      <td>6</td>\n      <td>1</td>\n    </tr>\n    <tr>\n      <th>1</th>\n      <td>Sx8TMOWLNuJBWer-0pcmoA</td>\n      <td>bcjbaE6dDog4jkNY91ncLQ</td>\n      <td>e4Vwtrqf-wpJfwesgvdgxQ</td>\n      <td>4</td>\n      <td>1</td>\n      <td>0</td>\n      <td>1</td>\n      <td>Cute interior and owner (?) gave us tour of up...</td>\n      <td>2017-01-14 20:54:15</td>\n      <td>48</td>\n      <td>26</td>\n      <td>0.31</td>\n      <td>2022-01-19 19:48:45</td>\n      <td>1830</td>\n      <td>5</td>\n      <td>1</td>\n    </tr>\n    <tr>\n      <th>2</th>\n      <td>JrIxlS1TzJ-iCu79ul40cQ</td>\n      <td>eUta8W_HdHMXPzLBBZhL1A</td>\n      <td>04UD14gamNjLY0IDYVhHJg</td>\n      <td>1</td>\n      <td>1</td>\n      <td>2</td>\n      <td>1</td>\n      <td>I am a long term frequent customer of this est...</td>\n      <td>2015-09-23 23:10:31</td>\n      <td>0</td>\n      <td>0</td>\n      <td>0.00</td>\n      <td>2022-01-19 19:48:45</td>\n      <td>2309</td>\n      <td>2</td>\n      <td>9</td>\n    </tr>\n    <tr>\n      <th>3</th>\n      <td>_ZeMknuYdlQcUqng_Im3yg</td>\n      <td>yfFzsLmaWF2d4Sr0UNbBgg</td>\n      <td>LHSTtnW3YHCeUkRDGyJOyw</td>\n      <td>5</td>\n      <td>2</td>\n      <td>0</td>\n      <td>0</td>\n      <td>Amazingly amazing wings and homemade bleu chee...</td>\n      <td>2015-08-07 02:29:16</td>\n      <td>0</td>\n      <td>0</td>\n      <td>0.00</td>\n      <td>2022-01-19 19:48:45</td>\n      <td>2357</td>\n      <td>4</td>\n      <td>8</td>\n    </tr>\n    <tr>\n      <th>4</th>\n      <td>LnGZB0fjfgeVDVz5IHuEVA</td>\n      <td>j2wlzrntrbKwyOcOiB3l3w</td>\n      <td>rBdG_23USc7DletfZ11xGA</td>\n      <td>4</td>\n      <td>1</td>\n      <td>0</td>\n      <td>0</td>\n      <td>The hubby and I have been here on multiple occ...</td>\n      <td>2014-08-10 19:41:43</td>\n      <td>49</td>\n      <td>135</td>\n      <td>3.68</td>\n      <td>2022-01-19 19:48:45</td>\n      <td>2719</td>\n      <td>6</td>\n      <td>8</td>\n    </tr>\n  </tbody>\n</table>\n</div>"
     },
     "execution_count": 37,
     "metadata": {},
     "output_type": "execute_result"
    }
   ],
   "source": [
    "df_restaurant_reviews['day_of_week'] = df_restaurant_reviews['date'].dt.dayofweek\n",
    "df_restaurant_reviews['month'] = df_restaurant_reviews['date'].dt.month\n",
    "df_restaurant_reviews.head()"
   ],
   "metadata": {
    "collapsed": false,
    "ExecuteTime": {
     "end_time": "2023-07-13T18:34:07.371632Z",
     "start_time": "2023-07-13T18:34:07.033789Z"
    }
   }
  },
  {
   "cell_type": "markdown",
   "source": [
    "#### Helpfulness Score\n",
    "\n",
    "$Helpfulness Score=\\frac{\\#\\ Useful\\ votes\\ of\\ a\\ review}{\\#\\ Useful\\ votes\\ recived\\ by\\ a\\ restaurant}$"
   ],
   "metadata": {
    "collapsed": false
   }
  },
  {
   "cell_type": "code",
   "execution_count": 38,
   "outputs": [
    {
     "data": {
      "text/plain": "                review_id                 user_id             business_id  \\\n0  AqPFMleE6RsU23_auESxiA  _7bHUi9Uuf5__HHc_Q8guQ  kxX2SOes4o-D3ZQBkiMRfA   \n1  Sx8TMOWLNuJBWer-0pcmoA  bcjbaE6dDog4jkNY91ncLQ  e4Vwtrqf-wpJfwesgvdgxQ   \n2  JrIxlS1TzJ-iCu79ul40cQ  eUta8W_HdHMXPzLBBZhL1A  04UD14gamNjLY0IDYVhHJg   \n3  _ZeMknuYdlQcUqng_Im3yg  yfFzsLmaWF2d4Sr0UNbBgg  LHSTtnW3YHCeUkRDGyJOyw   \n4  LnGZB0fjfgeVDVz5IHuEVA  j2wlzrntrbKwyOcOiB3l3w  rBdG_23USc7DletfZ11xGA   \n\n   stars  useful  funny  cool  \\\n0      5       1      0     1   \n1      4       1      0     1   \n2      1       1      2     1   \n3      5       2      0     0   \n4      4       1      0     0   \n\n                                                text                date  \\\n0  Wow!  Yummy, different,  delicious.   Our favo... 2015-01-04 00:01:03   \n1  Cute interior and owner (?) gave us tour of up... 2017-01-14 20:54:15   \n2  I am a long term frequent customer of this est... 2015-09-23 23:10:31   \n3  Amazingly amazing wings and homemade bleu chee... 2015-08-07 02:29:16   \n4  The hubby and I have been here on multiple occ... 2014-08-10 19:41:43   \n\n   frequency  recency  monetary_value            max_date  elapsed_days  \\\n0          0        0            0.00 2022-01-19 19:48:45          2572   \n1         48       26            0.31 2022-01-19 19:48:45          1830   \n2          0        0            0.00 2022-01-19 19:48:45          2309   \n3          0        0            0.00 2022-01-19 19:48:45          2357   \n4         49      135            3.68 2022-01-19 19:48:45          2719   \n\n   day_of_week  month  total_business_useful  helpfulness_score  \n0            6      1                    302           0.003311  \n1            5      1                     32           0.031250  \n2            2      9                    331           0.003021  \n3            4      8                    301           0.006645  \n4            6      8                    416           0.002404  ",
      "text/html": "<div>\n<style scoped>\n    .dataframe tbody tr th:only-of-type {\n        vertical-align: middle;\n    }\n\n    .dataframe tbody tr th {\n        vertical-align: top;\n    }\n\n    .dataframe thead th {\n        text-align: right;\n    }\n</style>\n<table border=\"1\" class=\"dataframe\">\n  <thead>\n    <tr style=\"text-align: right;\">\n      <th></th>\n      <th>review_id</th>\n      <th>user_id</th>\n      <th>business_id</th>\n      <th>stars</th>\n      <th>useful</th>\n      <th>funny</th>\n      <th>cool</th>\n      <th>text</th>\n      <th>date</th>\n      <th>frequency</th>\n      <th>recency</th>\n      <th>monetary_value</th>\n      <th>max_date</th>\n      <th>elapsed_days</th>\n      <th>day_of_week</th>\n      <th>month</th>\n      <th>total_business_useful</th>\n      <th>helpfulness_score</th>\n    </tr>\n  </thead>\n  <tbody>\n    <tr>\n      <th>0</th>\n      <td>AqPFMleE6RsU23_auESxiA</td>\n      <td>_7bHUi9Uuf5__HHc_Q8guQ</td>\n      <td>kxX2SOes4o-D3ZQBkiMRfA</td>\n      <td>5</td>\n      <td>1</td>\n      <td>0</td>\n      <td>1</td>\n      <td>Wow!  Yummy, different,  delicious.   Our favo...</td>\n      <td>2015-01-04 00:01:03</td>\n      <td>0</td>\n      <td>0</td>\n      <td>0.00</td>\n      <td>2022-01-19 19:48:45</td>\n      <td>2572</td>\n      <td>6</td>\n      <td>1</td>\n      <td>302</td>\n      <td>0.003311</td>\n    </tr>\n    <tr>\n      <th>1</th>\n      <td>Sx8TMOWLNuJBWer-0pcmoA</td>\n      <td>bcjbaE6dDog4jkNY91ncLQ</td>\n      <td>e4Vwtrqf-wpJfwesgvdgxQ</td>\n      <td>4</td>\n      <td>1</td>\n      <td>0</td>\n      <td>1</td>\n      <td>Cute interior and owner (?) gave us tour of up...</td>\n      <td>2017-01-14 20:54:15</td>\n      <td>48</td>\n      <td>26</td>\n      <td>0.31</td>\n      <td>2022-01-19 19:48:45</td>\n      <td>1830</td>\n      <td>5</td>\n      <td>1</td>\n      <td>32</td>\n      <td>0.031250</td>\n    </tr>\n    <tr>\n      <th>2</th>\n      <td>JrIxlS1TzJ-iCu79ul40cQ</td>\n      <td>eUta8W_HdHMXPzLBBZhL1A</td>\n      <td>04UD14gamNjLY0IDYVhHJg</td>\n      <td>1</td>\n      <td>1</td>\n      <td>2</td>\n      <td>1</td>\n      <td>I am a long term frequent customer of this est...</td>\n      <td>2015-09-23 23:10:31</td>\n      <td>0</td>\n      <td>0</td>\n      <td>0.00</td>\n      <td>2022-01-19 19:48:45</td>\n      <td>2309</td>\n      <td>2</td>\n      <td>9</td>\n      <td>331</td>\n      <td>0.003021</td>\n    </tr>\n    <tr>\n      <th>3</th>\n      <td>_ZeMknuYdlQcUqng_Im3yg</td>\n      <td>yfFzsLmaWF2d4Sr0UNbBgg</td>\n      <td>LHSTtnW3YHCeUkRDGyJOyw</td>\n      <td>5</td>\n      <td>2</td>\n      <td>0</td>\n      <td>0</td>\n      <td>Amazingly amazing wings and homemade bleu chee...</td>\n      <td>2015-08-07 02:29:16</td>\n      <td>0</td>\n      <td>0</td>\n      <td>0.00</td>\n      <td>2022-01-19 19:48:45</td>\n      <td>2357</td>\n      <td>4</td>\n      <td>8</td>\n      <td>301</td>\n      <td>0.006645</td>\n    </tr>\n    <tr>\n      <th>4</th>\n      <td>LnGZB0fjfgeVDVz5IHuEVA</td>\n      <td>j2wlzrntrbKwyOcOiB3l3w</td>\n      <td>rBdG_23USc7DletfZ11xGA</td>\n      <td>4</td>\n      <td>1</td>\n      <td>0</td>\n      <td>0</td>\n      <td>The hubby and I have been here on multiple occ...</td>\n      <td>2014-08-10 19:41:43</td>\n      <td>49</td>\n      <td>135</td>\n      <td>3.68</td>\n      <td>2022-01-19 19:48:45</td>\n      <td>2719</td>\n      <td>6</td>\n      <td>8</td>\n      <td>416</td>\n      <td>0.002404</td>\n    </tr>\n  </tbody>\n</table>\n</div>"
     },
     "execution_count": 38,
     "metadata": {},
     "output_type": "execute_result"
    }
   ],
   "source": [
    "# Computing total useful votes received by the restaurant\n",
    "df_restaurant_useful = df_restaurant_reviews.groupby(['business_id'])['useful'].sum()\n",
    "df_restaurant_useful = df_restaurant_useful.to_frame()\n",
    "\n",
    "# renaming the total useful votes column\n",
    "df_restaurant_useful.rename(columns={'useful': 'total_business_useful'}, inplace=True)\n",
    "\n",
    "# Join df_restaurant_reviews with df_restaurant_useful on 'business_id'\n",
    "df_restaurant_reviews = df_restaurant_reviews.join(df_restaurant_useful, on='business_id', how='left')\n",
    "\n",
    "# computing helpfulness score for each review\n",
    "df_restaurant_reviews['helpfulness_score'] = df_restaurant_reviews['useful'] / df_restaurant_reviews['total_business_useful']\n",
    "\n",
    "df_restaurant_reviews.head()"
   ],
   "metadata": {
    "collapsed": false,
    "ExecuteTime": {
     "end_time": "2023-07-13T18:42:29.029448Z",
     "start_time": "2023-07-13T18:42:18.117428Z"
    }
   }
  },
  {
   "cell_type": "markdown",
   "source": [
    "### filtering reviews that have useful score >= 10"
   ],
   "metadata": {
    "collapsed": false
   }
  },
  {
   "cell_type": "code",
   "execution_count": 41,
   "outputs": [
    {
     "data": {
      "text/plain": "                review_id                 user_id             business_id  \\\n0  MWUGmzyXVIlG2NwvzX0q4Q  Xw7ZjaGfr0WNVt6s_5KZfA  i-tDq8zC7ZmSqSbg_7oddA   \n1  EJWyA5wpdVMji1j4TwSZqQ  mqBWACmaHflW4eh_Ofp16Q  kxX2SOes4o-D3ZQBkiMRfA   \n2  Mb5k1Gllt2_x8l_0WM3lUg  Xw7ZjaGfr0WNVt6s_5KZfA  Iso6F11o-W4g6d7OUEaMng   \n3  zj212mBMgYXhxS0srtlPew  oSeE_p_gYxI82APPWJhJjg  Oun4NN-u5yiHIxDqtJnxgA   \n4  rzrBiijeQh7ubjfRCr-UtA  Kj-u8Yq1d3mLKitWsDAxpg  YtSqYv1Q_pOltsVPSx54SA   \n\n   stars  useful  funny  cool  \\\n0      5      11      5     8   \n1      5      13      6     5   \n2      4      11      4     9   \n3      4      10      6     5   \n4      4      12     11    11   \n\n                                                text                date  \\\n0  What an AMAZING occurrence that we ended up he... 2016-11-21 20:04:45   \n1  After a long hiatus from reviewing I have awak... 2010-08-20 19:16:04   \n2  My dad and I were here for lunch and after rea... 2017-10-02 18:22:13   \n3  I'd heard the hype. Seen the NY Times article.... 2012-03-01 02:07:58   \n4  A very upscale and respected chain, with a sho... 2008-04-30 15:26:12   \n\n   frequency  recency  monetary_value            max_date  elapsed_days  \\\n0        686        3        6.861856 2022-01-19 19:48:45          1884   \n1         21      293        5.300000 2022-01-19 19:48:45          4170   \n2        771        5        6.861856 2022-01-19 19:48:45          1570   \n3        206       35        2.907407 2022-01-19 19:48:45          3611   \n4          5        0       20.510373 2022-01-19 19:48:45          5012   \n\n   day_of_week  month  total_business_useful  helpfulness_score  \n0            0     11                    115           0.095652  \n1            4      8                    302           0.043046  \n2            0     10                     41           0.268293  \n3            3      3                   1118           0.008945  \n4            2      4                    392           0.030612  ",
      "text/html": "<div>\n<style scoped>\n    .dataframe tbody tr th:only-of-type {\n        vertical-align: middle;\n    }\n\n    .dataframe tbody tr th {\n        vertical-align: top;\n    }\n\n    .dataframe thead th {\n        text-align: right;\n    }\n</style>\n<table border=\"1\" class=\"dataframe\">\n  <thead>\n    <tr style=\"text-align: right;\">\n      <th></th>\n      <th>review_id</th>\n      <th>user_id</th>\n      <th>business_id</th>\n      <th>stars</th>\n      <th>useful</th>\n      <th>funny</th>\n      <th>cool</th>\n      <th>text</th>\n      <th>date</th>\n      <th>frequency</th>\n      <th>recency</th>\n      <th>monetary_value</th>\n      <th>max_date</th>\n      <th>elapsed_days</th>\n      <th>day_of_week</th>\n      <th>month</th>\n      <th>total_business_useful</th>\n      <th>helpfulness_score</th>\n    </tr>\n  </thead>\n  <tbody>\n    <tr>\n      <th>0</th>\n      <td>MWUGmzyXVIlG2NwvzX0q4Q</td>\n      <td>Xw7ZjaGfr0WNVt6s_5KZfA</td>\n      <td>i-tDq8zC7ZmSqSbg_7oddA</td>\n      <td>5</td>\n      <td>11</td>\n      <td>5</td>\n      <td>8</td>\n      <td>What an AMAZING occurrence that we ended up he...</td>\n      <td>2016-11-21 20:04:45</td>\n      <td>686</td>\n      <td>3</td>\n      <td>6.861856</td>\n      <td>2022-01-19 19:48:45</td>\n      <td>1884</td>\n      <td>0</td>\n      <td>11</td>\n      <td>115</td>\n      <td>0.095652</td>\n    </tr>\n    <tr>\n      <th>1</th>\n      <td>EJWyA5wpdVMji1j4TwSZqQ</td>\n      <td>mqBWACmaHflW4eh_Ofp16Q</td>\n      <td>kxX2SOes4o-D3ZQBkiMRfA</td>\n      <td>5</td>\n      <td>13</td>\n      <td>6</td>\n      <td>5</td>\n      <td>After a long hiatus from reviewing I have awak...</td>\n      <td>2010-08-20 19:16:04</td>\n      <td>21</td>\n      <td>293</td>\n      <td>5.300000</td>\n      <td>2022-01-19 19:48:45</td>\n      <td>4170</td>\n      <td>4</td>\n      <td>8</td>\n      <td>302</td>\n      <td>0.043046</td>\n    </tr>\n    <tr>\n      <th>2</th>\n      <td>Mb5k1Gllt2_x8l_0WM3lUg</td>\n      <td>Xw7ZjaGfr0WNVt6s_5KZfA</td>\n      <td>Iso6F11o-W4g6d7OUEaMng</td>\n      <td>4</td>\n      <td>11</td>\n      <td>4</td>\n      <td>9</td>\n      <td>My dad and I were here for lunch and after rea...</td>\n      <td>2017-10-02 18:22:13</td>\n      <td>771</td>\n      <td>5</td>\n      <td>6.861856</td>\n      <td>2022-01-19 19:48:45</td>\n      <td>1570</td>\n      <td>0</td>\n      <td>10</td>\n      <td>41</td>\n      <td>0.268293</td>\n    </tr>\n    <tr>\n      <th>3</th>\n      <td>zj212mBMgYXhxS0srtlPew</td>\n      <td>oSeE_p_gYxI82APPWJhJjg</td>\n      <td>Oun4NN-u5yiHIxDqtJnxgA</td>\n      <td>4</td>\n      <td>10</td>\n      <td>6</td>\n      <td>5</td>\n      <td>I'd heard the hype. Seen the NY Times article....</td>\n      <td>2012-03-01 02:07:58</td>\n      <td>206</td>\n      <td>35</td>\n      <td>2.907407</td>\n      <td>2022-01-19 19:48:45</td>\n      <td>3611</td>\n      <td>3</td>\n      <td>3</td>\n      <td>1118</td>\n      <td>0.008945</td>\n    </tr>\n    <tr>\n      <th>4</th>\n      <td>rzrBiijeQh7ubjfRCr-UtA</td>\n      <td>Kj-u8Yq1d3mLKitWsDAxpg</td>\n      <td>YtSqYv1Q_pOltsVPSx54SA</td>\n      <td>4</td>\n      <td>12</td>\n      <td>11</td>\n      <td>11</td>\n      <td>A very upscale and respected chain, with a sho...</td>\n      <td>2008-04-30 15:26:12</td>\n      <td>5</td>\n      <td>0</td>\n      <td>20.510373</td>\n      <td>2022-01-19 19:48:45</td>\n      <td>5012</td>\n      <td>2</td>\n      <td>4</td>\n      <td>392</td>\n      <td>0.030612</td>\n    </tr>\n  </tbody>\n</table>\n</div>"
     },
     "execution_count": 41,
     "metadata": {},
     "output_type": "execute_result"
    }
   ],
   "source": [
    "df_restaurant_reviews = df_restaurant_reviews[df_restaurant_reviews['useful'] >= 10]\n",
    "df_restaurant_reviews.reset_index(inplace=True, drop=True)\n",
    "df_restaurant_reviews.head()"
   ],
   "metadata": {
    "collapsed": false,
    "ExecuteTime": {
     "end_time": "2023-07-13T18:46:39.522400Z",
     "start_time": "2023-07-13T18:46:31.792726Z"
    }
   }
  },
  {
   "cell_type": "code",
   "execution_count": 42,
   "outputs": [
    {
     "data": {
      "text/plain": "(46623, 18)"
     },
     "execution_count": 42,
     "metadata": {},
     "output_type": "execute_result"
    }
   ],
   "source": [
    "df_restaurant_reviews.shape"
   ],
   "metadata": {
    "collapsed": false,
    "ExecuteTime": {
     "end_time": "2023-07-13T18:46:39.524499Z",
     "start_time": "2023-07-13T18:46:39.515443Z"
    }
   }
  },
  {
   "cell_type": "markdown",
   "source": [
    "#### Computing text based features\n",
    "\n",
    "- **Polarity Score:** Sentiment score between -1.0 (negative sentiment) and 1.0 (positive sentiment)\n",
    "- **Subjectivity Score:** Subjectivity score between 0.0 (very objective) and 1.0 (very subjective)\n",
    "- **No. of Nouns:** Number of nouns in the text\n",
    "- **No. of words:** Number of words in the text\n",
    "- **No. of sentences:** Number of sentences in the text\n",
    "- **Words per sentence:** Average words per sentence\n",
    "- **Automated Readability Index:** Measures text understandability and represents US grade level\n",
    "- **Coleman-liau Index:** Readability score that relies on characters instead of syllables per word\n",
    "- **No. of difficult words:**  Number of difficult words in the text"
   ],
   "metadata": {
    "collapsed": false
   }
  },
  {
   "cell_type": "code",
   "execution_count": 43,
   "outputs": [
    {
     "name": "stderr",
     "output_type": "stream",
     "text": [
      "100%|██████████| 46623/46623 [15:22<00:00, 50.51it/s] \n"
     ]
    },
    {
     "data": {
      "text/plain": "                        polarity_score  subjectivity_score  no_of_nouns  \\\nreview_id                                                                 \nMWUGmzyXVIlG2NwvzX0q4Q        0.372619            0.714365           25   \nEJWyA5wpdVMji1j4TwSZqQ        0.143225            0.551821           78   \nMb5k1Gllt2_x8l_0WM3lUg        0.413043            0.612560            8   \nzj212mBMgYXhxS0srtlPew        0.166018            0.508773           31   \nrzrBiijeQh7ubjfRCr-UtA        0.415891            0.532681           19   \n\n                        no_of_words  no_of_sentences  words_per_sentence  \\\nreview_id                                                                  \nMWUGmzyXVIlG2NwvzX0q4Q          327               16           20.437500   \nEJWyA5wpdVMji1j4TwSZqQ          687               39           17.615385   \nMb5k1Gllt2_x8l_0WM3lUg          253               15           16.866667   \nzj212mBMgYXhxS0srtlPew          349               29           12.034483   \nrzrBiijeQh7ubjfRCr-UtA          292               16           18.250000   \n\n                        automated_readability_index  coleman_liau_index  \\\nreview_id                                                                 \nMWUGmzyXVIlG2NwvzX0q4Q                          9.0                7.14   \nEJWyA5wpdVMji1j4TwSZqQ                          9.0                8.18   \nMb5k1Gllt2_x8l_0WM3lUg                          6.5                5.86   \nzj212mBMgYXhxS0srtlPew                          6.2                7.40   \nrzrBiijeQh7ubjfRCr-UtA                          8.3                7.37   \n\n                        no_difficult_words  \nreview_id                                   \nMWUGmzyXVIlG2NwvzX0q4Q                  31  \nEJWyA5wpdVMji1j4TwSZqQ                 108  \nMb5k1Gllt2_x8l_0WM3lUg                  26  \nzj212mBMgYXhxS0srtlPew                  39  \nrzrBiijeQh7ubjfRCr-UtA                  41  ",
      "text/html": "<div>\n<style scoped>\n    .dataframe tbody tr th:only-of-type {\n        vertical-align: middle;\n    }\n\n    .dataframe tbody tr th {\n        vertical-align: top;\n    }\n\n    .dataframe thead th {\n        text-align: right;\n    }\n</style>\n<table border=\"1\" class=\"dataframe\">\n  <thead>\n    <tr style=\"text-align: right;\">\n      <th></th>\n      <th>polarity_score</th>\n      <th>subjectivity_score</th>\n      <th>no_of_nouns</th>\n      <th>no_of_words</th>\n      <th>no_of_sentences</th>\n      <th>words_per_sentence</th>\n      <th>automated_readability_index</th>\n      <th>coleman_liau_index</th>\n      <th>no_difficult_words</th>\n    </tr>\n    <tr>\n      <th>review_id</th>\n      <th></th>\n      <th></th>\n      <th></th>\n      <th></th>\n      <th></th>\n      <th></th>\n      <th></th>\n      <th></th>\n      <th></th>\n    </tr>\n  </thead>\n  <tbody>\n    <tr>\n      <th>MWUGmzyXVIlG2NwvzX0q4Q</th>\n      <td>0.372619</td>\n      <td>0.714365</td>\n      <td>25</td>\n      <td>327</td>\n      <td>16</td>\n      <td>20.437500</td>\n      <td>9.0</td>\n      <td>7.14</td>\n      <td>31</td>\n    </tr>\n    <tr>\n      <th>EJWyA5wpdVMji1j4TwSZqQ</th>\n      <td>0.143225</td>\n      <td>0.551821</td>\n      <td>78</td>\n      <td>687</td>\n      <td>39</td>\n      <td>17.615385</td>\n      <td>9.0</td>\n      <td>8.18</td>\n      <td>108</td>\n    </tr>\n    <tr>\n      <th>Mb5k1Gllt2_x8l_0WM3lUg</th>\n      <td>0.413043</td>\n      <td>0.612560</td>\n      <td>8</td>\n      <td>253</td>\n      <td>15</td>\n      <td>16.866667</td>\n      <td>6.5</td>\n      <td>5.86</td>\n      <td>26</td>\n    </tr>\n    <tr>\n      <th>zj212mBMgYXhxS0srtlPew</th>\n      <td>0.166018</td>\n      <td>0.508773</td>\n      <td>31</td>\n      <td>349</td>\n      <td>29</td>\n      <td>12.034483</td>\n      <td>6.2</td>\n      <td>7.40</td>\n      <td>39</td>\n    </tr>\n    <tr>\n      <th>rzrBiijeQh7ubjfRCr-UtA</th>\n      <td>0.415891</td>\n      <td>0.532681</td>\n      <td>19</td>\n      <td>292</td>\n      <td>16</td>\n      <td>18.250000</td>\n      <td>8.3</td>\n      <td>7.37</td>\n      <td>41</td>\n    </tr>\n  </tbody>\n</table>\n</div>"
     },
     "execution_count": 43,
     "metadata": {},
     "output_type": "execute_result"
    }
   ],
   "source": [
    "rfm_scores = []\n",
    "\n",
    "for index in tqdm(range(df_restaurant_reviews.shape[0])):\n",
    "    text = df_restaurant_reviews.loc[index]['text']\n",
    "    text_blob = TextBlob(text)\n",
    "\n",
    "    rfm_scores.append({\n",
    "        'review_id': df_restaurant_reviews.loc[index]['review_id'],\n",
    "        'polarity_score': text_blob.sentiment.polarity,\n",
    "        'subjectivity_score': text_blob.sentiment.subjectivity,\n",
    "        'no_of_nouns': len(text_blob.noun_phrases),\n",
    "        'no_of_words': len(text_blob.words),\n",
    "        'no_of_sentences': len(text_blob.sentences),\n",
    "        'words_per_sentence': len(text_blob.words) / len(text_blob.sentences),\n",
    "        'automated_readability_index': textstat.automated_readability_index(text),\n",
    "        'coleman_liau_index': textstat.coleman_liau_index(text),\n",
    "        'no_difficult_words': textstat.difficult_words(text)\n",
    "    })\n",
    "\n",
    "df_review_text_scores = pd.DataFrame(rfm_scores, columns=[\n",
    "    'review_id', 'polarity_score', 'subjectivity_score', 'no_of_nouns',\n",
    "    'no_of_words', 'no_of_sentences', 'words_per_sentence',\n",
    "    'automated_readability_index', 'coleman_liau_index', 'no_difficult_words'\n",
    "])\n",
    "df_review_text_scores.set_index('review_id', inplace=True)\n",
    "df_review_text_scores.head()"
   ],
   "metadata": {
    "collapsed": false,
    "ExecuteTime": {
     "end_time": "2023-07-13T19:09:05.566820Z",
     "start_time": "2023-07-13T18:53:40.908854Z"
    }
   }
  },
  {
   "cell_type": "code",
   "execution_count": 44,
   "outputs": [
    {
     "data": {
      "text/plain": "(46623, 9)"
     },
     "execution_count": 44,
     "metadata": {},
     "output_type": "execute_result"
    }
   ],
   "source": [
    "df_review_text_scores.shape"
   ],
   "metadata": {
    "collapsed": false,
    "ExecuteTime": {
     "end_time": "2023-07-13T19:09:05.648932Z",
     "start_time": "2023-07-13T19:09:05.570012Z"
    }
   }
  },
  {
   "cell_type": "code",
   "execution_count": 45,
   "outputs": [
    {
     "data": {
      "text/plain": "                review_id                 user_id             business_id  \\\n0  MWUGmzyXVIlG2NwvzX0q4Q  Xw7ZjaGfr0WNVt6s_5KZfA  i-tDq8zC7ZmSqSbg_7oddA   \n1  EJWyA5wpdVMji1j4TwSZqQ  mqBWACmaHflW4eh_Ofp16Q  kxX2SOes4o-D3ZQBkiMRfA   \n2  Mb5k1Gllt2_x8l_0WM3lUg  Xw7ZjaGfr0WNVt6s_5KZfA  Iso6F11o-W4g6d7OUEaMng   \n3  zj212mBMgYXhxS0srtlPew  oSeE_p_gYxI82APPWJhJjg  Oun4NN-u5yiHIxDqtJnxgA   \n4  rzrBiijeQh7ubjfRCr-UtA  Kj-u8Yq1d3mLKitWsDAxpg  YtSqYv1Q_pOltsVPSx54SA   \n\n   stars  useful  funny  cool  \\\n0      5      11      5     8   \n1      5      13      6     5   \n2      4      11      4     9   \n3      4      10      6     5   \n4      4      12     11    11   \n\n                                                text                date  \\\n0  What an AMAZING occurrence that we ended up he... 2016-11-21 20:04:45   \n1  After a long hiatus from reviewing I have awak... 2010-08-20 19:16:04   \n2  My dad and I were here for lunch and after rea... 2017-10-02 18:22:13   \n3  I'd heard the hype. Seen the NY Times article.... 2012-03-01 02:07:58   \n4  A very upscale and respected chain, with a sho... 2008-04-30 15:26:12   \n\n   frequency  ...  helpfulness_score  polarity_score subjectivity_score  \\\n0        686  ...           0.095652        0.372619           0.714365   \n1         21  ...           0.043046        0.143225           0.551821   \n2        771  ...           0.268293        0.413043           0.612560   \n3        206  ...           0.008945        0.166018           0.508773   \n4          5  ...           0.030612        0.415891           0.532681   \n\n   no_of_nouns  no_of_words  no_of_sentences  words_per_sentence  \\\n0           25          327               16           20.437500   \n1           78          687               39           17.615385   \n2            8          253               15           16.866667   \n3           31          349               29           12.034483   \n4           19          292               16           18.250000   \n\n   automated_readability_index  coleman_liau_index  no_difficult_words  \n0                          9.0                7.14                  31  \n1                          9.0                8.18                 108  \n2                          6.5                5.86                  26  \n3                          6.2                7.40                  39  \n4                          8.3                7.37                  41  \n\n[5 rows x 27 columns]",
      "text/html": "<div>\n<style scoped>\n    .dataframe tbody tr th:only-of-type {\n        vertical-align: middle;\n    }\n\n    .dataframe tbody tr th {\n        vertical-align: top;\n    }\n\n    .dataframe thead th {\n        text-align: right;\n    }\n</style>\n<table border=\"1\" class=\"dataframe\">\n  <thead>\n    <tr style=\"text-align: right;\">\n      <th></th>\n      <th>review_id</th>\n      <th>user_id</th>\n      <th>business_id</th>\n      <th>stars</th>\n      <th>useful</th>\n      <th>funny</th>\n      <th>cool</th>\n      <th>text</th>\n      <th>date</th>\n      <th>frequency</th>\n      <th>...</th>\n      <th>helpfulness_score</th>\n      <th>polarity_score</th>\n      <th>subjectivity_score</th>\n      <th>no_of_nouns</th>\n      <th>no_of_words</th>\n      <th>no_of_sentences</th>\n      <th>words_per_sentence</th>\n      <th>automated_readability_index</th>\n      <th>coleman_liau_index</th>\n      <th>no_difficult_words</th>\n    </tr>\n  </thead>\n  <tbody>\n    <tr>\n      <th>0</th>\n      <td>MWUGmzyXVIlG2NwvzX0q4Q</td>\n      <td>Xw7ZjaGfr0WNVt6s_5KZfA</td>\n      <td>i-tDq8zC7ZmSqSbg_7oddA</td>\n      <td>5</td>\n      <td>11</td>\n      <td>5</td>\n      <td>8</td>\n      <td>What an AMAZING occurrence that we ended up he...</td>\n      <td>2016-11-21 20:04:45</td>\n      <td>686</td>\n      <td>...</td>\n      <td>0.095652</td>\n      <td>0.372619</td>\n      <td>0.714365</td>\n      <td>25</td>\n      <td>327</td>\n      <td>16</td>\n      <td>20.437500</td>\n      <td>9.0</td>\n      <td>7.14</td>\n      <td>31</td>\n    </tr>\n    <tr>\n      <th>1</th>\n      <td>EJWyA5wpdVMji1j4TwSZqQ</td>\n      <td>mqBWACmaHflW4eh_Ofp16Q</td>\n      <td>kxX2SOes4o-D3ZQBkiMRfA</td>\n      <td>5</td>\n      <td>13</td>\n      <td>6</td>\n      <td>5</td>\n      <td>After a long hiatus from reviewing I have awak...</td>\n      <td>2010-08-20 19:16:04</td>\n      <td>21</td>\n      <td>...</td>\n      <td>0.043046</td>\n      <td>0.143225</td>\n      <td>0.551821</td>\n      <td>78</td>\n      <td>687</td>\n      <td>39</td>\n      <td>17.615385</td>\n      <td>9.0</td>\n      <td>8.18</td>\n      <td>108</td>\n    </tr>\n    <tr>\n      <th>2</th>\n      <td>Mb5k1Gllt2_x8l_0WM3lUg</td>\n      <td>Xw7ZjaGfr0WNVt6s_5KZfA</td>\n      <td>Iso6F11o-W4g6d7OUEaMng</td>\n      <td>4</td>\n      <td>11</td>\n      <td>4</td>\n      <td>9</td>\n      <td>My dad and I were here for lunch and after rea...</td>\n      <td>2017-10-02 18:22:13</td>\n      <td>771</td>\n      <td>...</td>\n      <td>0.268293</td>\n      <td>0.413043</td>\n      <td>0.612560</td>\n      <td>8</td>\n      <td>253</td>\n      <td>15</td>\n      <td>16.866667</td>\n      <td>6.5</td>\n      <td>5.86</td>\n      <td>26</td>\n    </tr>\n    <tr>\n      <th>3</th>\n      <td>zj212mBMgYXhxS0srtlPew</td>\n      <td>oSeE_p_gYxI82APPWJhJjg</td>\n      <td>Oun4NN-u5yiHIxDqtJnxgA</td>\n      <td>4</td>\n      <td>10</td>\n      <td>6</td>\n      <td>5</td>\n      <td>I'd heard the hype. Seen the NY Times article....</td>\n      <td>2012-03-01 02:07:58</td>\n      <td>206</td>\n      <td>...</td>\n      <td>0.008945</td>\n      <td>0.166018</td>\n      <td>0.508773</td>\n      <td>31</td>\n      <td>349</td>\n      <td>29</td>\n      <td>12.034483</td>\n      <td>6.2</td>\n      <td>7.40</td>\n      <td>39</td>\n    </tr>\n    <tr>\n      <th>4</th>\n      <td>rzrBiijeQh7ubjfRCr-UtA</td>\n      <td>Kj-u8Yq1d3mLKitWsDAxpg</td>\n      <td>YtSqYv1Q_pOltsVPSx54SA</td>\n      <td>4</td>\n      <td>12</td>\n      <td>11</td>\n      <td>11</td>\n      <td>A very upscale and respected chain, with a sho...</td>\n      <td>2008-04-30 15:26:12</td>\n      <td>5</td>\n      <td>...</td>\n      <td>0.030612</td>\n      <td>0.415891</td>\n      <td>0.532681</td>\n      <td>19</td>\n      <td>292</td>\n      <td>16</td>\n      <td>18.250000</td>\n      <td>8.3</td>\n      <td>7.37</td>\n      <td>41</td>\n    </tr>\n  </tbody>\n</table>\n<p>5 rows × 27 columns</p>\n</div>"
     },
     "execution_count": 45,
     "metadata": {},
     "output_type": "execute_result"
    }
   ],
   "source": [
    "# Join df_review_text_scores with df_restaurant_reviews on 'review_id'\n",
    "df_restaurant_reviews = df_restaurant_reviews.join(df_review_text_scores, on='review_id', how='left')\n",
    "df_restaurant_reviews.head()"
   ],
   "metadata": {
    "collapsed": false,
    "ExecuteTime": {
     "end_time": "2023-07-13T19:09:25.713521Z",
     "start_time": "2023-07-13T19:09:20.178164Z"
    }
   }
  },
  {
   "cell_type": "markdown",
   "source": [
    "## 4. Creating final dataset"
   ],
   "metadata": {
    "collapsed": false
   }
  },
  {
   "cell_type": "code",
   "execution_count": 47,
   "outputs": [
    {
     "data": {
      "text/plain": "                review_id                 user_id             business_id  \\\n0  MWUGmzyXVIlG2NwvzX0q4Q  Xw7ZjaGfr0WNVt6s_5KZfA  i-tDq8zC7ZmSqSbg_7oddA   \n1  EJWyA5wpdVMji1j4TwSZqQ  mqBWACmaHflW4eh_Ofp16Q  kxX2SOes4o-D3ZQBkiMRfA   \n2  Mb5k1Gllt2_x8l_0WM3lUg  Xw7ZjaGfr0WNVt6s_5KZfA  Iso6F11o-W4g6d7OUEaMng   \n3  zj212mBMgYXhxS0srtlPew  oSeE_p_gYxI82APPWJhJjg  Oun4NN-u5yiHIxDqtJnxgA   \n4  rzrBiijeQh7ubjfRCr-UtA  Kj-u8Yq1d3mLKitWsDAxpg  YtSqYv1Q_pOltsVPSx54SA   \n\n   stars  useful  funny  cool  \\\n0      5      11      5     8   \n1      5      13      6     5   \n2      4      11      4     9   \n3      4      10      6     5   \n4      4      12     11    11   \n\n                                                text                date  \\\n0  What an AMAZING occurrence that we ended up he... 2016-11-21 20:04:45   \n1  After a long hiatus from reviewing I have awak... 2010-08-20 19:16:04   \n2  My dad and I were here for lunch and after rea... 2017-10-02 18:22:13   \n3  I'd heard the hype. Seen the NY Times article.... 2012-03-01 02:07:58   \n4  A very upscale and respected chain, with a sho... 2008-04-30 15:26:12   \n\n   frequency  ...  no_difficult_words  state stars_restaurant  total_reviews  \\\n0        686  ...                  31     LA              4.0             80   \n1         21  ...                 108     PA              4.0            190   \n2        771  ...                  26     LA              4.5             34   \n3        206  ...                  39     PA              4.0            556   \n4          5  ...                  41     PA              3.5            305   \n\n   elapsed_days_restaurant  positive_reviews  ratio_positive_reviews  \\\n0                     2125              61.0                0.762500   \n1                     4170             152.0                0.800000   \n2                     1627              27.0                0.794118   \n3                     3747             451.0                0.811151   \n4                     5962             196.0                0.642623   \n\n   negative_reviews  ratio_negative_reviews  immediacy_index  \n0               8.0                0.100000         0.050000  \n1              23.0                0.121053         0.021053  \n2               3.0                0.088235         0.132353  \n3              48.0                0.086331         0.007194  \n4              57.0                0.186885         0.011475  \n\n[5 rows x 36 columns]",
      "text/html": "<div>\n<style scoped>\n    .dataframe tbody tr th:only-of-type {\n        vertical-align: middle;\n    }\n\n    .dataframe tbody tr th {\n        vertical-align: top;\n    }\n\n    .dataframe thead th {\n        text-align: right;\n    }\n</style>\n<table border=\"1\" class=\"dataframe\">\n  <thead>\n    <tr style=\"text-align: right;\">\n      <th></th>\n      <th>review_id</th>\n      <th>user_id</th>\n      <th>business_id</th>\n      <th>stars</th>\n      <th>useful</th>\n      <th>funny</th>\n      <th>cool</th>\n      <th>text</th>\n      <th>date</th>\n      <th>frequency</th>\n      <th>...</th>\n      <th>no_difficult_words</th>\n      <th>state</th>\n      <th>stars_restaurant</th>\n      <th>total_reviews</th>\n      <th>elapsed_days_restaurant</th>\n      <th>positive_reviews</th>\n      <th>ratio_positive_reviews</th>\n      <th>negative_reviews</th>\n      <th>ratio_negative_reviews</th>\n      <th>immediacy_index</th>\n    </tr>\n  </thead>\n  <tbody>\n    <tr>\n      <th>0</th>\n      <td>MWUGmzyXVIlG2NwvzX0q4Q</td>\n      <td>Xw7ZjaGfr0WNVt6s_5KZfA</td>\n      <td>i-tDq8zC7ZmSqSbg_7oddA</td>\n      <td>5</td>\n      <td>11</td>\n      <td>5</td>\n      <td>8</td>\n      <td>What an AMAZING occurrence that we ended up he...</td>\n      <td>2016-11-21 20:04:45</td>\n      <td>686</td>\n      <td>...</td>\n      <td>31</td>\n      <td>LA</td>\n      <td>4.0</td>\n      <td>80</td>\n      <td>2125</td>\n      <td>61.0</td>\n      <td>0.762500</td>\n      <td>8.0</td>\n      <td>0.100000</td>\n      <td>0.050000</td>\n    </tr>\n    <tr>\n      <th>1</th>\n      <td>EJWyA5wpdVMji1j4TwSZqQ</td>\n      <td>mqBWACmaHflW4eh_Ofp16Q</td>\n      <td>kxX2SOes4o-D3ZQBkiMRfA</td>\n      <td>5</td>\n      <td>13</td>\n      <td>6</td>\n      <td>5</td>\n      <td>After a long hiatus from reviewing I have awak...</td>\n      <td>2010-08-20 19:16:04</td>\n      <td>21</td>\n      <td>...</td>\n      <td>108</td>\n      <td>PA</td>\n      <td>4.0</td>\n      <td>190</td>\n      <td>4170</td>\n      <td>152.0</td>\n      <td>0.800000</td>\n      <td>23.0</td>\n      <td>0.121053</td>\n      <td>0.021053</td>\n    </tr>\n    <tr>\n      <th>2</th>\n      <td>Mb5k1Gllt2_x8l_0WM3lUg</td>\n      <td>Xw7ZjaGfr0WNVt6s_5KZfA</td>\n      <td>Iso6F11o-W4g6d7OUEaMng</td>\n      <td>4</td>\n      <td>11</td>\n      <td>4</td>\n      <td>9</td>\n      <td>My dad and I were here for lunch and after rea...</td>\n      <td>2017-10-02 18:22:13</td>\n      <td>771</td>\n      <td>...</td>\n      <td>26</td>\n      <td>LA</td>\n      <td>4.5</td>\n      <td>34</td>\n      <td>1627</td>\n      <td>27.0</td>\n      <td>0.794118</td>\n      <td>3.0</td>\n      <td>0.088235</td>\n      <td>0.132353</td>\n    </tr>\n    <tr>\n      <th>3</th>\n      <td>zj212mBMgYXhxS0srtlPew</td>\n      <td>oSeE_p_gYxI82APPWJhJjg</td>\n      <td>Oun4NN-u5yiHIxDqtJnxgA</td>\n      <td>4</td>\n      <td>10</td>\n      <td>6</td>\n      <td>5</td>\n      <td>I'd heard the hype. Seen the NY Times article....</td>\n      <td>2012-03-01 02:07:58</td>\n      <td>206</td>\n      <td>...</td>\n      <td>39</td>\n      <td>PA</td>\n      <td>4.0</td>\n      <td>556</td>\n      <td>3747</td>\n      <td>451.0</td>\n      <td>0.811151</td>\n      <td>48.0</td>\n      <td>0.086331</td>\n      <td>0.007194</td>\n    </tr>\n    <tr>\n      <th>4</th>\n      <td>rzrBiijeQh7ubjfRCr-UtA</td>\n      <td>Kj-u8Yq1d3mLKitWsDAxpg</td>\n      <td>YtSqYv1Q_pOltsVPSx54SA</td>\n      <td>4</td>\n      <td>12</td>\n      <td>11</td>\n      <td>11</td>\n      <td>A very upscale and respected chain, with a sho...</td>\n      <td>2008-04-30 15:26:12</td>\n      <td>5</td>\n      <td>...</td>\n      <td>41</td>\n      <td>PA</td>\n      <td>3.5</td>\n      <td>305</td>\n      <td>5962</td>\n      <td>196.0</td>\n      <td>0.642623</td>\n      <td>57.0</td>\n      <td>0.186885</td>\n      <td>0.011475</td>\n    </tr>\n  </tbody>\n</table>\n<p>5 rows × 36 columns</p>\n</div>"
     },
     "execution_count": 47,
     "metadata": {},
     "output_type": "execute_result"
    }
   ],
   "source": [
    "df_restaurants.set_index('business_id', inplace=True)\n",
    "\n",
    "# Join df_restaurants with df_restaurant_reviews on 'business_id'\n",
    "df_restaurant_reviews = df_restaurant_reviews.join(df_restaurants, on='business_id', how='left', rsuffix='_restaurant')\n",
    "df_restaurant_reviews.head()"
   ],
   "metadata": {
    "collapsed": false,
    "ExecuteTime": {
     "end_time": "2023-07-13T19:11:19.056804Z",
     "start_time": "2023-07-13T19:11:18.843815Z"
    }
   }
  },
  {
   "cell_type": "code",
   "execution_count": 48,
   "outputs": [
    {
     "data": {
      "text/plain": "                review_id                 user_id             business_id  \\\n0  MWUGmzyXVIlG2NwvzX0q4Q  Xw7ZjaGfr0WNVt6s_5KZfA  i-tDq8zC7ZmSqSbg_7oddA   \n1  EJWyA5wpdVMji1j4TwSZqQ  mqBWACmaHflW4eh_Ofp16Q  kxX2SOes4o-D3ZQBkiMRfA   \n2  Mb5k1Gllt2_x8l_0WM3lUg  Xw7ZjaGfr0WNVt6s_5KZfA  Iso6F11o-W4g6d7OUEaMng   \n3  zj212mBMgYXhxS0srtlPew  oSeE_p_gYxI82APPWJhJjg  Oun4NN-u5yiHIxDqtJnxgA   \n4  rzrBiijeQh7ubjfRCr-UtA  Kj-u8Yq1d3mLKitWsDAxpg  YtSqYv1Q_pOltsVPSx54SA   \n\n   stars  useful  funny  cool  \\\n0      5      11      5     8   \n1      5      13      6     5   \n2      4      11      4     9   \n3      4      10      6     5   \n4      4      12     11    11   \n\n                                                text                date  \\\n0  What an AMAZING occurrence that we ended up he... 2016-11-21 20:04:45   \n1  After a long hiatus from reviewing I have awak... 2010-08-20 19:16:04   \n2  My dad and I were here for lunch and after rea... 2017-10-02 18:22:13   \n3  I'd heard the hype. Seen the NY Times article.... 2012-03-01 02:07:58   \n4  A very upscale and respected chain, with a sho... 2008-04-30 15:26:12   \n\n   frequency  ...  ratio_negative_reviews  immediacy_index review_count  \\\n0        686  ...                0.100000         0.050000         2272   \n1         21  ...                0.121053         0.021053           38   \n2        771  ...                0.088235         0.132353         2272   \n3        206  ...                0.086331         0.007194          324   \n4          5  ...                0.186885         0.011475          793   \n\n   useful_user  fans  average_stars  compliment_photos  activity_length  \\\n0        15105   379           4.10                294             4002   \n1          217     4           3.69                  0             3275   \n2        15105   379           4.10                294             4002   \n3          999    20           2.70                  2             1799   \n4        19181   290           3.58               2296             1816   \n\n   elite_count  no_friends  \n0            6        1257  \n1            0          60  \n2            6        1257  \n3            4         100  \n4            3         758  \n\n[5 rows x 44 columns]",
      "text/html": "<div>\n<style scoped>\n    .dataframe tbody tr th:only-of-type {\n        vertical-align: middle;\n    }\n\n    .dataframe tbody tr th {\n        vertical-align: top;\n    }\n\n    .dataframe thead th {\n        text-align: right;\n    }\n</style>\n<table border=\"1\" class=\"dataframe\">\n  <thead>\n    <tr style=\"text-align: right;\">\n      <th></th>\n      <th>review_id</th>\n      <th>user_id</th>\n      <th>business_id</th>\n      <th>stars</th>\n      <th>useful</th>\n      <th>funny</th>\n      <th>cool</th>\n      <th>text</th>\n      <th>date</th>\n      <th>frequency</th>\n      <th>...</th>\n      <th>ratio_negative_reviews</th>\n      <th>immediacy_index</th>\n      <th>review_count</th>\n      <th>useful_user</th>\n      <th>fans</th>\n      <th>average_stars</th>\n      <th>compliment_photos</th>\n      <th>activity_length</th>\n      <th>elite_count</th>\n      <th>no_friends</th>\n    </tr>\n  </thead>\n  <tbody>\n    <tr>\n      <th>0</th>\n      <td>MWUGmzyXVIlG2NwvzX0q4Q</td>\n      <td>Xw7ZjaGfr0WNVt6s_5KZfA</td>\n      <td>i-tDq8zC7ZmSqSbg_7oddA</td>\n      <td>5</td>\n      <td>11</td>\n      <td>5</td>\n      <td>8</td>\n      <td>What an AMAZING occurrence that we ended up he...</td>\n      <td>2016-11-21 20:04:45</td>\n      <td>686</td>\n      <td>...</td>\n      <td>0.100000</td>\n      <td>0.050000</td>\n      <td>2272</td>\n      <td>15105</td>\n      <td>379</td>\n      <td>4.10</td>\n      <td>294</td>\n      <td>4002</td>\n      <td>6</td>\n      <td>1257</td>\n    </tr>\n    <tr>\n      <th>1</th>\n      <td>EJWyA5wpdVMji1j4TwSZqQ</td>\n      <td>mqBWACmaHflW4eh_Ofp16Q</td>\n      <td>kxX2SOes4o-D3ZQBkiMRfA</td>\n      <td>5</td>\n      <td>13</td>\n      <td>6</td>\n      <td>5</td>\n      <td>After a long hiatus from reviewing I have awak...</td>\n      <td>2010-08-20 19:16:04</td>\n      <td>21</td>\n      <td>...</td>\n      <td>0.121053</td>\n      <td>0.021053</td>\n      <td>38</td>\n      <td>217</td>\n      <td>4</td>\n      <td>3.69</td>\n      <td>0</td>\n      <td>3275</td>\n      <td>0</td>\n      <td>60</td>\n    </tr>\n    <tr>\n      <th>2</th>\n      <td>Mb5k1Gllt2_x8l_0WM3lUg</td>\n      <td>Xw7ZjaGfr0WNVt6s_5KZfA</td>\n      <td>Iso6F11o-W4g6d7OUEaMng</td>\n      <td>4</td>\n      <td>11</td>\n      <td>4</td>\n      <td>9</td>\n      <td>My dad and I were here for lunch and after rea...</td>\n      <td>2017-10-02 18:22:13</td>\n      <td>771</td>\n      <td>...</td>\n      <td>0.088235</td>\n      <td>0.132353</td>\n      <td>2272</td>\n      <td>15105</td>\n      <td>379</td>\n      <td>4.10</td>\n      <td>294</td>\n      <td>4002</td>\n      <td>6</td>\n      <td>1257</td>\n    </tr>\n    <tr>\n      <th>3</th>\n      <td>zj212mBMgYXhxS0srtlPew</td>\n      <td>oSeE_p_gYxI82APPWJhJjg</td>\n      <td>Oun4NN-u5yiHIxDqtJnxgA</td>\n      <td>4</td>\n      <td>10</td>\n      <td>6</td>\n      <td>5</td>\n      <td>I'd heard the hype. Seen the NY Times article....</td>\n      <td>2012-03-01 02:07:58</td>\n      <td>206</td>\n      <td>...</td>\n      <td>0.086331</td>\n      <td>0.007194</td>\n      <td>324</td>\n      <td>999</td>\n      <td>20</td>\n      <td>2.70</td>\n      <td>2</td>\n      <td>1799</td>\n      <td>4</td>\n      <td>100</td>\n    </tr>\n    <tr>\n      <th>4</th>\n      <td>rzrBiijeQh7ubjfRCr-UtA</td>\n      <td>Kj-u8Yq1d3mLKitWsDAxpg</td>\n      <td>YtSqYv1Q_pOltsVPSx54SA</td>\n      <td>4</td>\n      <td>12</td>\n      <td>11</td>\n      <td>11</td>\n      <td>A very upscale and respected chain, with a sho...</td>\n      <td>2008-04-30 15:26:12</td>\n      <td>5</td>\n      <td>...</td>\n      <td>0.186885</td>\n      <td>0.011475</td>\n      <td>793</td>\n      <td>19181</td>\n      <td>290</td>\n      <td>3.58</td>\n      <td>2296</td>\n      <td>1816</td>\n      <td>3</td>\n      <td>758</td>\n    </tr>\n  </tbody>\n</table>\n<p>5 rows × 44 columns</p>\n</div>"
     },
     "execution_count": 48,
     "metadata": {},
     "output_type": "execute_result"
    }
   ],
   "source": [
    "# Join df_restaurant_users with df_restaurant_reviews on 'user_id'\n",
    "df_restaurant_reviews = df_restaurant_reviews.join(df_restaurant_users, how='left', on='user_id', rsuffix='_user')\n",
    "df_restaurant_reviews.head()"
   ],
   "metadata": {
    "collapsed": false,
    "ExecuteTime": {
     "end_time": "2023-07-13T19:11:48.186797Z",
     "start_time": "2023-07-13T19:11:47.232701Z"
    }
   }
  },
  {
   "cell_type": "code",
   "execution_count": 49,
   "outputs": [
    {
     "data": {
      "text/plain": "Index(['review_id', 'user_id', 'business_id', 'stars', 'useful', 'funny',\n       'cool', 'text', 'date', 'frequency', 'recency', 'monetary_value',\n       'max_date', 'elapsed_days', 'day_of_week', 'month',\n       'total_business_useful', 'helpfulness_score', 'polarity_score',\n       'subjectivity_score', 'no_of_nouns', 'no_of_words', 'no_of_sentences',\n       'words_per_sentence', 'automated_readability_index',\n       'coleman_liau_index', 'no_difficult_words', 'state', 'stars_restaurant',\n       'total_reviews', 'elapsed_days_restaurant', 'positive_reviews',\n       'ratio_positive_reviews', 'negative_reviews', 'ratio_negative_reviews',\n       'immediacy_index', 'review_count', 'useful_user', 'fans',\n       'average_stars', 'compliment_photos', 'activity_length', 'elite_count',\n       'no_friends'],\n      dtype='object')"
     },
     "execution_count": 49,
     "metadata": {},
     "output_type": "execute_result"
    }
   ],
   "source": [
    "# listing all columns\n",
    "df_restaurant_reviews.columns"
   ],
   "metadata": {
    "collapsed": false,
    "ExecuteTime": {
     "end_time": "2023-07-13T19:11:49.814225Z",
     "start_time": "2023-07-13T19:11:49.728768Z"
    }
   }
  },
  {
   "cell_type": "code",
   "execution_count": 50,
   "outputs": [
    {
     "data": {
      "text/plain": "(46623, 36)"
     },
     "execution_count": 50,
     "metadata": {},
     "output_type": "execute_result"
    }
   ],
   "source": [
    "# creating final dataset with the needed features\n",
    "df_restaurant_reviews_final = df_restaurant_reviews[['stars', 'useful', 'funny', 'cool', 'recency', 'frequency', 'monetary_value', 'elapsed_days', 'day_of_week', 'month', 'total_business_useful', 'polarity_score', 'subjectivity_score', 'no_of_nouns', 'no_of_words', 'no_of_sentences', 'words_per_sentence', 'automated_readability_index', 'coleman_liau_index', 'no_difficult_words', 'stars_restaurant', 'total_reviews', 'elapsed_days_restaurant', 'positive_reviews', 'ratio_positive_reviews', 'negative_reviews', 'ratio_negative_reviews', 'immediacy_index', 'review_count', 'useful_user', 'activity_length', 'fans', 'average_stars', 'elite_count', 'no_friends', 'helpfulness_score']]\n",
    "df_restaurant_reviews_final.shape"
   ],
   "metadata": {
    "collapsed": false,
    "ExecuteTime": {
     "end_time": "2023-07-13T19:13:47.037246Z",
     "start_time": "2023-07-13T19:13:46.962624Z"
    }
   }
  },
  {
   "cell_type": "code",
   "execution_count": 51,
   "outputs": [
    {
     "data": {
      "text/plain": "   stars  useful  funny  cool  recency  frequency  monetary_value  \\\n0      5      11      5     8        3        686        6.861856   \n1      5      13      6     5      293         21        5.300000   \n2      4      11      4     9        5        771        6.861856   \n3      4      10      6     5       35        206        2.907407   \n4      4      12     11    11        0          5       20.510373   \n\n   elapsed_days  day_of_week  month  ...  ratio_negative_reviews  \\\n0          1884            0     11  ...                0.100000   \n1          4170            4      8  ...                0.121053   \n2          1570            0     10  ...                0.088235   \n3          3611            3      3  ...                0.086331   \n4          5012            2      4  ...                0.186885   \n\n   immediacy_index  review_count  useful_user  activity_length  fans  \\\n0         0.050000          2272        15105             4002   379   \n1         0.021053            38          217             3275     4   \n2         0.132353          2272        15105             4002   379   \n3         0.007194           324          999             1799    20   \n4         0.011475           793        19181             1816   290   \n\n   average_stars  elite_count  no_friends  helpfulness_score  \n0           4.10            6        1257           0.095652  \n1           3.69            0          60           0.043046  \n2           4.10            6        1257           0.268293  \n3           2.70            4         100           0.008945  \n4           3.58            3         758           0.030612  \n\n[5 rows x 36 columns]",
      "text/html": "<div>\n<style scoped>\n    .dataframe tbody tr th:only-of-type {\n        vertical-align: middle;\n    }\n\n    .dataframe tbody tr th {\n        vertical-align: top;\n    }\n\n    .dataframe thead th {\n        text-align: right;\n    }\n</style>\n<table border=\"1\" class=\"dataframe\">\n  <thead>\n    <tr style=\"text-align: right;\">\n      <th></th>\n      <th>stars</th>\n      <th>useful</th>\n      <th>funny</th>\n      <th>cool</th>\n      <th>recency</th>\n      <th>frequency</th>\n      <th>monetary_value</th>\n      <th>elapsed_days</th>\n      <th>day_of_week</th>\n      <th>month</th>\n      <th>...</th>\n      <th>ratio_negative_reviews</th>\n      <th>immediacy_index</th>\n      <th>review_count</th>\n      <th>useful_user</th>\n      <th>activity_length</th>\n      <th>fans</th>\n      <th>average_stars</th>\n      <th>elite_count</th>\n      <th>no_friends</th>\n      <th>helpfulness_score</th>\n    </tr>\n  </thead>\n  <tbody>\n    <tr>\n      <th>0</th>\n      <td>5</td>\n      <td>11</td>\n      <td>5</td>\n      <td>8</td>\n      <td>3</td>\n      <td>686</td>\n      <td>6.861856</td>\n      <td>1884</td>\n      <td>0</td>\n      <td>11</td>\n      <td>...</td>\n      <td>0.100000</td>\n      <td>0.050000</td>\n      <td>2272</td>\n      <td>15105</td>\n      <td>4002</td>\n      <td>379</td>\n      <td>4.10</td>\n      <td>6</td>\n      <td>1257</td>\n      <td>0.095652</td>\n    </tr>\n    <tr>\n      <th>1</th>\n      <td>5</td>\n      <td>13</td>\n      <td>6</td>\n      <td>5</td>\n      <td>293</td>\n      <td>21</td>\n      <td>5.300000</td>\n      <td>4170</td>\n      <td>4</td>\n      <td>8</td>\n      <td>...</td>\n      <td>0.121053</td>\n      <td>0.021053</td>\n      <td>38</td>\n      <td>217</td>\n      <td>3275</td>\n      <td>4</td>\n      <td>3.69</td>\n      <td>0</td>\n      <td>60</td>\n      <td>0.043046</td>\n    </tr>\n    <tr>\n      <th>2</th>\n      <td>4</td>\n      <td>11</td>\n      <td>4</td>\n      <td>9</td>\n      <td>5</td>\n      <td>771</td>\n      <td>6.861856</td>\n      <td>1570</td>\n      <td>0</td>\n      <td>10</td>\n      <td>...</td>\n      <td>0.088235</td>\n      <td>0.132353</td>\n      <td>2272</td>\n      <td>15105</td>\n      <td>4002</td>\n      <td>379</td>\n      <td>4.10</td>\n      <td>6</td>\n      <td>1257</td>\n      <td>0.268293</td>\n    </tr>\n    <tr>\n      <th>3</th>\n      <td>4</td>\n      <td>10</td>\n      <td>6</td>\n      <td>5</td>\n      <td>35</td>\n      <td>206</td>\n      <td>2.907407</td>\n      <td>3611</td>\n      <td>3</td>\n      <td>3</td>\n      <td>...</td>\n      <td>0.086331</td>\n      <td>0.007194</td>\n      <td>324</td>\n      <td>999</td>\n      <td>1799</td>\n      <td>20</td>\n      <td>2.70</td>\n      <td>4</td>\n      <td>100</td>\n      <td>0.008945</td>\n    </tr>\n    <tr>\n      <th>4</th>\n      <td>4</td>\n      <td>12</td>\n      <td>11</td>\n      <td>11</td>\n      <td>0</td>\n      <td>5</td>\n      <td>20.510373</td>\n      <td>5012</td>\n      <td>2</td>\n      <td>4</td>\n      <td>...</td>\n      <td>0.186885</td>\n      <td>0.011475</td>\n      <td>793</td>\n      <td>19181</td>\n      <td>1816</td>\n      <td>290</td>\n      <td>3.58</td>\n      <td>3</td>\n      <td>758</td>\n      <td>0.030612</td>\n    </tr>\n  </tbody>\n</table>\n<p>5 rows × 36 columns</p>\n</div>"
     },
     "execution_count": 51,
     "metadata": {},
     "output_type": "execute_result"
    }
   ],
   "source": [
    "df_restaurant_reviews_final.head()"
   ],
   "metadata": {
    "collapsed": false,
    "ExecuteTime": {
     "end_time": "2023-07-13T19:13:47.355939Z",
     "start_time": "2023-07-13T19:13:47.323973Z"
    }
   }
  },
  {
   "cell_type": "markdown",
   "source": [
    "# 5. Saving the datasets"
   ],
   "metadata": {
    "collapsed": false
   }
  },
  {
   "cell_type": "code",
   "execution_count": 52,
   "outputs": [],
   "source": [
    "df_restaurant_reviews.to_csv('./data/processed_review_data.csv', index=False)\n",
    "df_restaurant_reviews_final.to_csv('./data/final_data_useful_gte_10.csv', index=False)"
   ],
   "metadata": {
    "collapsed": false,
    "ExecuteTime": {
     "end_time": "2023-07-13T19:14:37.158708Z",
     "start_time": "2023-07-13T19:14:30.814604Z"
    }
   }
  }
 ],
 "metadata": {
  "kernelspec": {
   "display_name": "Python 3",
   "language": "python",
   "name": "python3"
  },
  "language_info": {
   "codemirror_mode": {
    "name": "ipython",
    "version": 2
   },
   "file_extension": ".py",
   "mimetype": "text/x-python",
   "name": "python",
   "nbconvert_exporter": "python",
   "pygments_lexer": "ipython2",
   "version": "2.7.6"
  }
 },
 "nbformat": 4,
 "nbformat_minor": 0
}
