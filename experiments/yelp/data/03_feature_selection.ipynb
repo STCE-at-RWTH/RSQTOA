{
 "cells": [
  {
   "cell_type": "markdown",
   "source": [
    "# Feature Selection\n",
    "\n",
    "In this section we will discuss some preprocessing that we did on the final dataset as well as the steps we took to select features that we could use for building our regression models."
   ],
   "metadata": {
    "collapsed": false
   }
  },
  {
   "cell_type": "code",
   "execution_count": 1,
   "metadata": {
    "collapsed": true,
    "ExecuteTime": {
     "end_time": "2023-07-14T06:42:07.662028Z",
     "start_time": "2023-07-14T06:42:02.150540Z"
    }
   },
   "outputs": [],
   "source": [
    "# importing necessary packages\n",
    "import numpy as np\n",
    "import pandas as pd\n",
    "import matplotlib.pyplot as plt\n",
    "from sklearn.model_selection import train_test_split\n",
    "from sklearn.feature_selection import VarianceThreshold\n",
    "from sklearn.feature_selection import mutual_info_regression\n",
    "from sklearn.feature_selection import SelectPercentile\n",
    "from sklearn.preprocessing import MinMaxScaler, StandardScaler"
   ]
  },
  {
   "cell_type": "code",
   "execution_count": 2,
   "outputs": [
    {
     "data": {
      "text/plain": "   stars  useful  funny  cool  recency  frequency  monetary_value  \\\n0      5      11      5     8        3        686        6.861856   \n1      5      13      6     5      293         21        5.300000   \n2      4      11      4     9        5        771        6.861856   \n3      4      10      6     5       35        206        2.907407   \n4      4      12     11    11        0          5       20.510373   \n\n   elapsed_days  day_of_week  month  ...  ratio_negative_reviews  \\\n0          1884            0     11  ...                0.100000   \n1          4170            4      8  ...                0.121053   \n2          1570            0     10  ...                0.088235   \n3          3611            3      3  ...                0.086331   \n4          5012            2      4  ...                0.186885   \n\n   immediacy_index  review_count  useful_user  activity_length  fans  \\\n0         0.050000          2272        15105             4002   379   \n1         0.021053            38          217             3275     4   \n2         0.132353          2272        15105             4002   379   \n3         0.007194           324          999             1799    20   \n4         0.011475           793        19181             1816   290   \n\n   average_stars  elite_count  no_friends  helpfulness_score  \n0           4.10            6        1257           0.095652  \n1           3.69            0          60           0.043046  \n2           4.10            6        1257           0.268293  \n3           2.70            4         100           0.008945  \n4           3.58            3         758           0.030612  \n\n[5 rows x 36 columns]",
      "text/html": "<div>\n<style scoped>\n    .dataframe tbody tr th:only-of-type {\n        vertical-align: middle;\n    }\n\n    .dataframe tbody tr th {\n        vertical-align: top;\n    }\n\n    .dataframe thead th {\n        text-align: right;\n    }\n</style>\n<table border=\"1\" class=\"dataframe\">\n  <thead>\n    <tr style=\"text-align: right;\">\n      <th></th>\n      <th>stars</th>\n      <th>useful</th>\n      <th>funny</th>\n      <th>cool</th>\n      <th>recency</th>\n      <th>frequency</th>\n      <th>monetary_value</th>\n      <th>elapsed_days</th>\n      <th>day_of_week</th>\n      <th>month</th>\n      <th>...</th>\n      <th>ratio_negative_reviews</th>\n      <th>immediacy_index</th>\n      <th>review_count</th>\n      <th>useful_user</th>\n      <th>activity_length</th>\n      <th>fans</th>\n      <th>average_stars</th>\n      <th>elite_count</th>\n      <th>no_friends</th>\n      <th>helpfulness_score</th>\n    </tr>\n  </thead>\n  <tbody>\n    <tr>\n      <th>0</th>\n      <td>5</td>\n      <td>11</td>\n      <td>5</td>\n      <td>8</td>\n      <td>3</td>\n      <td>686</td>\n      <td>6.861856</td>\n      <td>1884</td>\n      <td>0</td>\n      <td>11</td>\n      <td>...</td>\n      <td>0.100000</td>\n      <td>0.050000</td>\n      <td>2272</td>\n      <td>15105</td>\n      <td>4002</td>\n      <td>379</td>\n      <td>4.10</td>\n      <td>6</td>\n      <td>1257</td>\n      <td>0.095652</td>\n    </tr>\n    <tr>\n      <th>1</th>\n      <td>5</td>\n      <td>13</td>\n      <td>6</td>\n      <td>5</td>\n      <td>293</td>\n      <td>21</td>\n      <td>5.300000</td>\n      <td>4170</td>\n      <td>4</td>\n      <td>8</td>\n      <td>...</td>\n      <td>0.121053</td>\n      <td>0.021053</td>\n      <td>38</td>\n      <td>217</td>\n      <td>3275</td>\n      <td>4</td>\n      <td>3.69</td>\n      <td>0</td>\n      <td>60</td>\n      <td>0.043046</td>\n    </tr>\n    <tr>\n      <th>2</th>\n      <td>4</td>\n      <td>11</td>\n      <td>4</td>\n      <td>9</td>\n      <td>5</td>\n      <td>771</td>\n      <td>6.861856</td>\n      <td>1570</td>\n      <td>0</td>\n      <td>10</td>\n      <td>...</td>\n      <td>0.088235</td>\n      <td>0.132353</td>\n      <td>2272</td>\n      <td>15105</td>\n      <td>4002</td>\n      <td>379</td>\n      <td>4.10</td>\n      <td>6</td>\n      <td>1257</td>\n      <td>0.268293</td>\n    </tr>\n    <tr>\n      <th>3</th>\n      <td>4</td>\n      <td>10</td>\n      <td>6</td>\n      <td>5</td>\n      <td>35</td>\n      <td>206</td>\n      <td>2.907407</td>\n      <td>3611</td>\n      <td>3</td>\n      <td>3</td>\n      <td>...</td>\n      <td>0.086331</td>\n      <td>0.007194</td>\n      <td>324</td>\n      <td>999</td>\n      <td>1799</td>\n      <td>20</td>\n      <td>2.70</td>\n      <td>4</td>\n      <td>100</td>\n      <td>0.008945</td>\n    </tr>\n    <tr>\n      <th>4</th>\n      <td>4</td>\n      <td>12</td>\n      <td>11</td>\n      <td>11</td>\n      <td>0</td>\n      <td>5</td>\n      <td>20.510373</td>\n      <td>5012</td>\n      <td>2</td>\n      <td>4</td>\n      <td>...</td>\n      <td>0.186885</td>\n      <td>0.011475</td>\n      <td>793</td>\n      <td>19181</td>\n      <td>1816</td>\n      <td>290</td>\n      <td>3.58</td>\n      <td>3</td>\n      <td>758</td>\n      <td>0.030612</td>\n    </tr>\n  </tbody>\n</table>\n<p>5 rows × 36 columns</p>\n</div>"
     },
     "execution_count": 2,
     "metadata": {},
     "output_type": "execute_result"
    }
   ],
   "source": [
    "# reading our final dataset\n",
    "data = pd.read_csv('./intermediate/final_data_useful_gte_10.csv')\n",
    "data.head()"
   ],
   "metadata": {
    "collapsed": false,
    "ExecuteTime": {
     "end_time": "2023-07-14T06:42:08.003759Z",
     "start_time": "2023-07-14T06:42:07.668934Z"
    }
   }
  },
  {
   "cell_type": "code",
   "execution_count": 3,
   "outputs": [
    {
     "data": {
      "text/plain": "(46623, 36)"
     },
     "execution_count": 3,
     "metadata": {},
     "output_type": "execute_result"
    }
   ],
   "source": [
    "data.shape"
   ],
   "metadata": {
    "collapsed": false,
    "ExecuteTime": {
     "end_time": "2023-07-14T06:42:08.017443Z",
     "start_time": "2023-07-14T06:42:08.005334Z"
    }
   }
  },
  {
   "cell_type": "markdown",
   "source": [
    "## Analysing Helpfulness Score\n",
    "\n",
    "On plotting the histogram of our target variable i.e. `helpfulness_score` we noticed that is positively skewed"
   ],
   "metadata": {
    "collapsed": false
   }
  },
  {
   "cell_type": "code",
   "execution_count": 4,
   "outputs": [
    {
     "data": {
      "text/plain": "<AxesSubplot:>"
     },
     "execution_count": 4,
     "metadata": {},
     "output_type": "execute_result"
    },
    {
     "data": {
      "text/plain": "<Figure size 432x288 with 1 Axes>",
      "image/png": "[encoded data removed]"
     },
     "metadata": {
      "needs_background": "light"
     },
     "output_type": "display_data"
    }
   ],
   "source": [
    "data['helpfulness_score'].hist()"
   ],
   "metadata": {
    "collapsed": false,
    "ExecuteTime": {
     "end_time": "2023-07-14T06:42:08.318924Z",
     "start_time": "2023-07-14T06:42:08.018046Z"
    }
   }
  },
  {
   "cell_type": "markdown",
   "source": [
    "plotting cube root transformed scores"
   ],
   "metadata": {
    "collapsed": false
   }
  },
  {
   "cell_type": "code",
   "execution_count": 5,
   "outputs": [
    {
     "data": {
      "text/plain": "(array([ 1240.,  8128., 12699.,  9847.,  6207.,  3614.,  2134.,  1384.,\n          881.,   489.]),\n array([0.09026071, 0.18123464, 0.27220857, 0.3631825 , 0.45415643,\n        0.54513036, 0.63610429, 0.72707821, 0.81805214, 0.90902607,\n        1.        ]),\n <BarContainer object of 10 artists>)"
     },
     "execution_count": 5,
     "metadata": {},
     "output_type": "execute_result"
    },
    {
     "data": {
      "text/plain": "<Figure size 432x288 with 1 Axes>",
      "image/png": "[encoded data removed]"
     },
     "metadata": {
      "needs_background": "light"
     },
     "output_type": "display_data"
    }
   ],
   "source": [
    "plt.hist(data['helpfulness_score'] ** .33)"
   ],
   "metadata": {
    "collapsed": false,
    "ExecuteTime": {
     "end_time": "2023-07-14T06:42:08.553036Z",
     "start_time": "2023-07-14T06:42:08.328780Z"
    }
   }
  },
  {
   "cell_type": "markdown",
   "source": [
    "storing cube root transformed data for further use"
   ],
   "metadata": {
    "collapsed": false
   }
  },
  {
   "cell_type": "code",
   "execution_count": 6,
   "outputs": [],
   "source": [
    "data['helpfulness_score_cbrt'] = data['helpfulness_score'] ** .33"
   ],
   "metadata": {
    "collapsed": false,
    "ExecuteTime": {
     "end_time": "2023-07-14T06:42:08.565347Z",
     "start_time": "2023-07-14T06:42:08.538513Z"
    }
   }
  },
  {
   "cell_type": "code",
   "execution_count": 7,
   "outputs": [],
   "source": [
    "data.to_csv('./data.csv', index=False)"
   ],
   "metadata": {
    "collapsed": false,
    "ExecuteTime": {
     "end_time": "2023-07-14T06:42:10.224216Z",
     "start_time": "2023-07-14T06:42:08.565682Z"
    }
   }
  },
  {
   "cell_type": "markdown",
   "source": [
    "## Feature Selection\n",
    "\n",
    "We begin with reading the feature and target variable data in `X` and `y`"
   ],
   "metadata": {
    "collapsed": false
   }
  },
  {
   "cell_type": "code",
   "execution_count": 7,
   "outputs": [],
   "source": [
    "feature_variables = ['stars', 'recency', 'frequency', 'monetary_value', 'elapsed_days', 'polarity_score', 'subjectivity_score', 'no_of_nouns', 'no_of_sentences', 'words_per_sentence', 'automated_readability_index', 'coleman_liau_index', 'no_difficult_words', 'stars_restaurant', 'total_reviews', 'elapsed_days_restaurant', 'ratio_positive_reviews', 'ratio_negative_reviews', 'positive_reviews', 'negative_reviews', 'immediacy_index', 'review_count', 'useful_user', 'activity_length', 'fans', 'average_stars', 'elite_count', 'no_friends']\n",
    "\n",
    "target_variable = 'helpfulness_score_cbrt'\n",
    "\n",
    "X, Y = data[feature_variables], data[target_variable]"
   ],
   "metadata": {
    "collapsed": false,
    "ExecuteTime": {
     "end_time": "2023-07-13T20:44:10.217830Z",
     "start_time": "2023-07-13T20:44:10.174443Z"
    }
   }
  },
  {
   "cell_type": "code",
   "execution_count": 8,
   "outputs": [
    {
     "data": {
      "text/plain": "(46623, 28)"
     },
     "execution_count": 8,
     "metadata": {},
     "output_type": "execute_result"
    }
   ],
   "source": [
    "X.shape"
   ],
   "metadata": {
    "collapsed": false,
    "ExecuteTime": {
     "end_time": "2023-07-13T20:44:12.378694Z",
     "start_time": "2023-07-13T20:44:12.308889Z"
    }
   }
  },
  {
   "cell_type": "markdown",
   "source": [
    "splitting the data in traing and test data"
   ],
   "metadata": {
    "collapsed": false
   }
  },
  {
   "cell_type": "code",
   "execution_count": 9,
   "outputs": [],
   "source": [
    "X_train, X_test, y_train, y_test = train_test_split(X, Y, test_size=0.2, random_state=0)"
   ],
   "metadata": {
    "collapsed": false,
    "ExecuteTime": {
     "end_time": "2023-07-13T20:44:37.007106Z",
     "start_time": "2023-07-13T20:44:36.965857Z"
    }
   }
  },
  {
   "cell_type": "markdown",
   "source": [
    "### 1. Variance Threshold\n",
    "\n",
    "removing features with variance >= 0.05"
   ],
   "metadata": {
    "collapsed": false
   }
  },
  {
   "cell_type": "code",
   "execution_count": 10,
   "outputs": [
    {
     "data": {
      "text/plain": "       stars  recency  frequency  monetary_value  elapsed_days  \\\n27601      5        0        109        6.823899          1759   \n16083      3        4         64        7.414634          1018   \n21167      4       14        140       13.367257          2248   \n29570      4       12        256        2.932384           423   \n24761      4       13         45        2.791304          1418   \n\n       polarity_score  no_of_nouns  no_of_sentences  words_per_sentence  \\\n27601        0.416667            7                7           11.714286   \n16083        0.207639            8               11           14.818182   \n21167        0.235841           26               12           20.250000   \n29570        0.316073           22               30           12.566667   \n24761        0.314760           11               12           16.833333   \n\n       automated_readability_index  ...  ratio_negative_reviews  \\\n27601                          4.0  ...                0.126935   \n16083                          6.5  ...                0.763158   \n21167                          7.3  ...                0.151376   \n29570                          3.9  ...                0.062992   \n24761                          8.7  ...                0.061863   \n\n       positive_reviews  negative_reviews  immediacy_index  review_count  \\\n27601             265.0              41.0         0.013932           375   \n16083              13.0              58.0         0.026316           337   \n21167             165.0              33.0         0.018349           741   \n29570             110.0               8.0         0.035433           429   \n24761            1238.0              91.0         0.002719           154   \n\n       useful_user  activity_length  fans  elite_count  no_friends  \n27601         2575             2757    82            8         422  \n16083         2636             4123    83            6         162  \n21167         9874             1868   543            7        3930  \n29570         1285             2432    45            8         227  \n24761          432             2878    19            7         214  \n\n[5 rows x 25 columns]",
      "text/html": "<div>\n<style scoped>\n    .dataframe tbody tr th:only-of-type {\n        vertical-align: middle;\n    }\n\n    .dataframe tbody tr th {\n        vertical-align: top;\n    }\n\n    .dataframe thead th {\n        text-align: right;\n    }\n</style>\n<table border=\"1\" class=\"dataframe\">\n  <thead>\n    <tr style=\"text-align: right;\">\n      <th></th>\n      <th>stars</th>\n      <th>recency</th>\n      <th>frequency</th>\n      <th>monetary_value</th>\n      <th>elapsed_days</th>\n      <th>polarity_score</th>\n      <th>no_of_nouns</th>\n      <th>no_of_sentences</th>\n      <th>words_per_sentence</th>\n      <th>automated_readability_index</th>\n      <th>...</th>\n      <th>ratio_negative_reviews</th>\n      <th>positive_reviews</th>\n      <th>negative_reviews</th>\n      <th>immediacy_index</th>\n      <th>review_count</th>\n      <th>useful_user</th>\n      <th>activity_length</th>\n      <th>fans</th>\n      <th>elite_count</th>\n      <th>no_friends</th>\n    </tr>\n  </thead>\n  <tbody>\n    <tr>\n      <th>27601</th>\n      <td>5</td>\n      <td>0</td>\n      <td>109</td>\n      <td>6.823899</td>\n      <td>1759</td>\n      <td>0.416667</td>\n      <td>7</td>\n      <td>7</td>\n      <td>11.714286</td>\n      <td>4.0</td>\n      <td>...</td>\n      <td>0.126935</td>\n      <td>265.0</td>\n      <td>41.0</td>\n      <td>0.013932</td>\n      <td>375</td>\n      <td>2575</td>\n      <td>2757</td>\n      <td>82</td>\n      <td>8</td>\n      <td>422</td>\n    </tr>\n    <tr>\n      <th>16083</th>\n      <td>3</td>\n      <td>4</td>\n      <td>64</td>\n      <td>7.414634</td>\n      <td>1018</td>\n      <td>0.207639</td>\n      <td>8</td>\n      <td>11</td>\n      <td>14.818182</td>\n      <td>6.5</td>\n      <td>...</td>\n      <td>0.763158</td>\n      <td>13.0</td>\n      <td>58.0</td>\n      <td>0.026316</td>\n      <td>337</td>\n      <td>2636</td>\n      <td>4123</td>\n      <td>83</td>\n      <td>6</td>\n      <td>162</td>\n    </tr>\n    <tr>\n      <th>21167</th>\n      <td>4</td>\n      <td>14</td>\n      <td>140</td>\n      <td>13.367257</td>\n      <td>2248</td>\n      <td>0.235841</td>\n      <td>26</td>\n      <td>12</td>\n      <td>20.250000</td>\n      <td>7.3</td>\n      <td>...</td>\n      <td>0.151376</td>\n      <td>165.0</td>\n      <td>33.0</td>\n      <td>0.018349</td>\n      <td>741</td>\n      <td>9874</td>\n      <td>1868</td>\n      <td>543</td>\n      <td>7</td>\n      <td>3930</td>\n    </tr>\n    <tr>\n      <th>29570</th>\n      <td>4</td>\n      <td>12</td>\n      <td>256</td>\n      <td>2.932384</td>\n      <td>423</td>\n      <td>0.316073</td>\n      <td>22</td>\n      <td>30</td>\n      <td>12.566667</td>\n      <td>3.9</td>\n      <td>...</td>\n      <td>0.062992</td>\n      <td>110.0</td>\n      <td>8.0</td>\n      <td>0.035433</td>\n      <td>429</td>\n      <td>1285</td>\n      <td>2432</td>\n      <td>45</td>\n      <td>8</td>\n      <td>227</td>\n    </tr>\n    <tr>\n      <th>24761</th>\n      <td>4</td>\n      <td>13</td>\n      <td>45</td>\n      <td>2.791304</td>\n      <td>1418</td>\n      <td>0.314760</td>\n      <td>11</td>\n      <td>12</td>\n      <td>16.833333</td>\n      <td>8.7</td>\n      <td>...</td>\n      <td>0.061863</td>\n      <td>1238.0</td>\n      <td>91.0</td>\n      <td>0.002719</td>\n      <td>154</td>\n      <td>432</td>\n      <td>2878</td>\n      <td>19</td>\n      <td>7</td>\n      <td>214</td>\n    </tr>\n  </tbody>\n</table>\n<p>5 rows × 25 columns</p>\n</div>"
     },
     "execution_count": 10,
     "metadata": {},
     "output_type": "execute_result"
    }
   ],
   "source": [
    "var_thres = VarianceThreshold(threshold=0.05)\n",
    "var_thres.fit(X_train / X_train.mean())\n",
    "mask = var_thres.get_support()\n",
    "X_train = X_train.loc[:, mask]\n",
    "X_train.head()"
   ],
   "metadata": {
    "collapsed": false,
    "ExecuteTime": {
     "end_time": "2023-07-13T20:45:44.216607Z",
     "start_time": "2023-07-13T20:45:44.078516Z"
    }
   }
  },
  {
   "cell_type": "code",
   "execution_count": 11,
   "outputs": [
    {
     "data": {
      "text/plain": "(37298, 25)"
     },
     "execution_count": 11,
     "metadata": {},
     "output_type": "execute_result"
    }
   ],
   "source": [
    "X_train.shape"
   ],
   "metadata": {
    "collapsed": false,
    "ExecuteTime": {
     "end_time": "2023-07-13T20:46:05.006285Z",
     "start_time": "2023-07-13T20:46:04.885861Z"
    }
   }
  },
  {
   "cell_type": "markdown",
   "source": [
    "### 2. Correlated Features\n",
    "\n",
    "Next we remove the features which are highle correlated. We use threshold as 0.9 for our case. Any feature with Pearson Correlation Coeffecient more than 0.9 were removed. In our case they were `positive_reviews` and `ratio_negative_reviews`"
   ],
   "metadata": {
    "collapsed": false
   }
  },
  {
   "cell_type": "code",
   "execution_count": 12,
   "outputs": [
    {
     "data": {
      "text/plain": "2"
     },
     "execution_count": 12,
     "metadata": {},
     "output_type": "execute_result"
    }
   ],
   "source": [
    "def correlation(dataset, threshold):\n",
    "    col_corr = set()  # Set of all the names of correlated columns\n",
    "    corr_matrix = dataset.corr()\n",
    "    for i in range(len(corr_matrix.columns)):\n",
    "        for j in range(i):\n",
    "            if abs(corr_matrix.iloc[i, j]) > threshold: # we are interested in absolute coeff value\n",
    "                colname = corr_matrix.columns[i]  # getting the name of column\n",
    "                col_corr.add(colname)\n",
    "    return col_corr\n",
    "\n",
    "corr_features = correlation(X_train, 0.9)\n",
    "\n",
    "len(set(corr_features))"
   ],
   "metadata": {
    "collapsed": false,
    "ExecuteTime": {
     "end_time": "2023-07-13T20:48:17.906474Z",
     "start_time": "2023-07-13T20:48:17.698840Z"
    }
   }
  },
  {
   "cell_type": "code",
   "execution_count": 13,
   "outputs": [
    {
     "data": {
      "text/plain": "{'positive_reviews', 'ratio_negative_reviews'}"
     },
     "execution_count": 13,
     "metadata": {},
     "output_type": "execute_result"
    }
   ],
   "source": [
    "corr_features"
   ],
   "metadata": {
    "collapsed": false,
    "ExecuteTime": {
     "end_time": "2023-07-13T20:48:18.416663Z",
     "start_time": "2023-07-13T20:48:18.384908Z"
    }
   }
  },
  {
   "cell_type": "code",
   "execution_count": 14,
   "outputs": [
    {
     "data": {
      "text/plain": "(37298, 23)"
     },
     "execution_count": 14,
     "metadata": {},
     "output_type": "execute_result"
    }
   ],
   "source": [
    "X_train = X_train.drop(corr_features, axis=1)\n",
    "X_train.shape"
   ],
   "metadata": {
    "collapsed": false,
    "ExecuteTime": {
     "end_time": "2023-07-13T20:48:19.308375Z",
     "start_time": "2023-07-13T20:48:19.089643Z"
    }
   }
  },
  {
   "cell_type": "markdown",
   "source": [
    "### 3. Mutual Information\n",
    "\n",
    "We used mutual information score to select the feature that added more explanation power to our regressor"
   ],
   "metadata": {
    "collapsed": false
   }
  },
  {
   "cell_type": "code",
   "execution_count": 15,
   "outputs": [
    {
     "data": {
      "text/plain": "stars                          0.027565\nrecency                        0.016087\nfrequency                      0.050073\nmonetary_value                 0.080573\nelapsed_days                   0.033113\npolarity_score                 0.003878\nno_of_nouns                    0.001604\nno_of_sentences                0.004401\nwords_per_sentence             0.005864\nautomated_readability_index    0.001373\ncoleman_liau_index             0.000000\nno_difficult_words             0.009158\ntotal_reviews                  1.072271\nelapsed_days_restaurant        0.548114\nratio_positive_reviews         0.536359\nnegative_reviews               0.722980\nimmediacy_index                1.075253\nreview_count                   0.055149\nuseful_user                    0.082857\nactivity_length                0.053334\nfans                           0.083800\nelite_count                    0.038986\nno_friends                     0.057974\ndtype: float64"
     },
     "execution_count": 15,
     "metadata": {},
     "output_type": "execute_result"
    }
   ],
   "source": [
    "# determine the mutual information\n",
    "mutual_info = mutual_info_regression(X_train, y_train)\n",
    "mutual_info = pd.Series(mutual_info)\n",
    "mutual_info.index = X_train.columns\n",
    "mutual_info"
   ],
   "metadata": {
    "collapsed": false,
    "ExecuteTime": {
     "end_time": "2023-07-13T20:49:57.329300Z",
     "start_time": "2023-07-13T20:49:35.001210Z"
    }
   }
  },
  {
   "cell_type": "markdown",
   "source": [
    "plotting mutual information scores"
   ],
   "metadata": {
    "collapsed": false
   }
  },
  {
   "cell_type": "code",
   "execution_count": 16,
   "outputs": [
    {
     "data": {
      "text/plain": "<Figure size 1080x360 with 1 Axes>",
      "image/png": "[encoded data removed]"
     },
     "metadata": {
      "needs_background": "light"
     },
     "output_type": "display_data"
    }
   ],
   "source": [
    "mutual_info.sort_values(ascending=False).plot.bar(figsize=(15,5))\n",
    "plt.ylabel('Mutual Information Score')\n",
    "plt.xticks(rotation=45, ha='right')\n",
    "plt.show()"
   ],
   "metadata": {
    "collapsed": false,
    "ExecuteTime": {
     "end_time": "2023-07-13T20:50:00.547753Z",
     "start_time": "2023-07-13T20:49:59.484803Z"
    }
   }
  },
  {
   "cell_type": "markdown",
   "source": [
    "selecting top 20th percentile of the features for the final consideration"
   ],
   "metadata": {
    "collapsed": false
   }
  },
  {
   "cell_type": "code",
   "execution_count": 17,
   "outputs": [
    {
     "data": {
      "text/plain": "SelectPercentile(percentile=20,\n                 score_func=<function mutual_info_regression at 0x7fe54bc2d170>)"
     },
     "execution_count": 17,
     "metadata": {},
     "output_type": "execute_result"
    }
   ],
   "source": [
    "selected_top_columns = SelectPercentile(mutual_info_regression, percentile=20)\n",
    "selected_top_columns.fit(X_train.fillna(0), y_train)"
   ],
   "metadata": {
    "collapsed": false,
    "ExecuteTime": {
     "end_time": "2023-07-13T20:50:57.354284Z",
     "start_time": "2023-07-13T20:50:33.918165Z"
    }
   }
  },
  {
   "cell_type": "code",
   "execution_count": 18,
   "outputs": [
    {
     "data": {
      "text/plain": "Index(['total_reviews', 'elapsed_days_restaurant', 'ratio_positive_reviews',\n       'negative_reviews', 'immediacy_index'],\n      dtype='object')"
     },
     "execution_count": 18,
     "metadata": {},
     "output_type": "execute_result"
    }
   ],
   "source": [
    "X_train.columns[selected_top_columns.get_support()]"
   ],
   "metadata": {
    "collapsed": false,
    "ExecuteTime": {
     "end_time": "2023-07-13T20:50:57.439339Z",
     "start_time": "2023-07-13T20:50:57.355029Z"
    }
   }
  },
  {
   "cell_type": "markdown",
   "source": [
    "`total_reviews`, `elapsed_days_restaurant`, `ratio_positive_reviews`, `negative_reviews` and `immediacy_index` are the feature that have highers mutual information score. Hence, we will be using these set of 5 features for building our regressors."
   ],
   "metadata": {
    "collapsed": false
   }
  }
 ],
 "metadata": {
  "kernelspec": {
   "display_name": "Python 3",
   "language": "python",
   "name": "python3"
  },
  "language_info": {
   "codemirror_mode": {
    "name": "ipython",
    "version": 2
   },
   "file_extension": ".py",
   "mimetype": "text/x-python",
   "name": "python",
   "nbconvert_exporter": "python",
   "pygments_lexer": "ipython2",
   "version": "2.7.6"
  }
 },
 "nbformat": 4,
 "nbformat_minor": 0
}
